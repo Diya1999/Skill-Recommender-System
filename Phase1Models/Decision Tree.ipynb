{
 "cells": [
  {
   "cell_type": "code",
   "execution_count": 1,
   "metadata": {},
   "outputs": [],
   "source": [
    "%matplotlib inline \n",
    "import pandas as pd \n",
    "import numpy as np \n",
    "import seaborn as sns \n",
    "import matplotlib.pyplot as plt \n",
    "import matplotlib.pyplot as plt; plt.rcdefaults() \n",
    "import pandas.plotting as scatter_matrix "
   ]
  },
  {
   "cell_type": "code",
   "execution_count": 58,
   "metadata": {},
   "outputs": [],
   "source": [
    "df = pd.read_csv('C:\\\\Users\\\\diyas\\\\Documents\\\\Recommendation_system\\\\vppyh-mao32.csv',skipinitialspace=True) "
   ]
  },
  {
   "cell_type": "code",
   "execution_count": 59,
   "metadata": {},
   "outputs": [],
   "source": [
    "#only placed\n",
    "df = df[df['Placement Status'] == \"Placed\"]\n",
    "df=df.drop(['Mobile', 'SRN','Name','Reason','Email','Placement Status','Program'], axis=1)\n",
    "df = df[df['TierLevel'].notnull()]"
   ]
  },
  {
   "cell_type": "code",
   "execution_count": 60,
   "metadata": {},
   "outputs": [
    {
     "data": {
      "text/plain": [
       "Index(['Branch', 'CGPA', 'CompanyName', 'CTC', 'TierLevel'], dtype='object')"
      ]
     },
     "execution_count": 60,
     "metadata": {},
     "output_type": "execute_result"
    }
   ],
   "source": [
    "df.columns"
   ]
  },
  {
   "cell_type": "code",
   "execution_count": 61,
   "metadata": {},
   "outputs": [
    {
     "data": {
      "text/html": [
       "<div>\n",
       "<style scoped>\n",
       "    .dataframe tbody tr th:only-of-type {\n",
       "        vertical-align: middle;\n",
       "    }\n",
       "\n",
       "    .dataframe tbody tr th {\n",
       "        vertical-align: top;\n",
       "    }\n",
       "\n",
       "    .dataframe thead th {\n",
       "        text-align: right;\n",
       "    }\n",
       "</style>\n",
       "<table border=\"1\" class=\"dataframe\">\n",
       "  <thead>\n",
       "    <tr style=\"text-align: right;\">\n",
       "      <th></th>\n",
       "      <th>Branch</th>\n",
       "      <th>CGPA</th>\n",
       "      <th>CompanyName</th>\n",
       "      <th>CTC</th>\n",
       "      <th>TierLevel</th>\n",
       "    </tr>\n",
       "  </thead>\n",
       "  <tbody>\n",
       "    <tr>\n",
       "      <th>11</th>\n",
       "      <td>BT</td>\n",
       "      <td>7.58</td>\n",
       "      <td>Wipro</td>\n",
       "      <td>650000.0</td>\n",
       "      <td>2.0</td>\n",
       "    </tr>\n",
       "    <tr>\n",
       "      <th>12</th>\n",
       "      <td>BT</td>\n",
       "      <td>7.58</td>\n",
       "      <td>Accenture</td>\n",
       "      <td>400000.0</td>\n",
       "      <td>2.0</td>\n",
       "    </tr>\n",
       "    <tr>\n",
       "      <th>13</th>\n",
       "      <td>BT</td>\n",
       "      <td>7.58</td>\n",
       "      <td>TCS</td>\n",
       "      <td>368000.0</td>\n",
       "      <td>3.0</td>\n",
       "    </tr>\n",
       "    <tr>\n",
       "      <th>53</th>\n",
       "      <td>CSE</td>\n",
       "      <td>8.06</td>\n",
       "      <td>Autoninja</td>\n",
       "      <td>600000.0</td>\n",
       "      <td>2.0</td>\n",
       "    </tr>\n",
       "    <tr>\n",
       "      <th>54</th>\n",
       "      <td>CSE</td>\n",
       "      <td>8.06</td>\n",
       "      <td>Autoninja</td>\n",
       "      <td>600000.0</td>\n",
       "      <td>2.0</td>\n",
       "    </tr>\n",
       "  </tbody>\n",
       "</table>\n",
       "</div>"
      ],
      "text/plain": [
       "   Branch  CGPA CompanyName       CTC  TierLevel\n",
       "11     BT  7.58       Wipro  650000.0        2.0\n",
       "12     BT  7.58   Accenture  400000.0        2.0\n",
       "13     BT  7.58         TCS  368000.0        3.0\n",
       "53    CSE  8.06   Autoninja  600000.0        2.0\n",
       "54    CSE  8.06   Autoninja  600000.0        2.0"
      ]
     },
     "execution_count": 61,
     "metadata": {},
     "output_type": "execute_result"
    }
   ],
   "source": [
    "df.head()"
   ]
  },
  {
   "cell_type": "code",
   "execution_count": 62,
   "metadata": {},
   "outputs": [
    {
     "data": {
      "text/plain": [
       "515"
      ]
     },
     "execution_count": 62,
     "metadata": {},
     "output_type": "execute_result"
    }
   ],
   "source": [
    "len(df)"
   ]
  },
  {
   "cell_type": "code",
   "execution_count": 63,
   "metadata": {},
   "outputs": [],
   "source": [
    "df['CompanyName']=df.CompanyName.str.lower()"
   ]
  },
  {
   "cell_type": "code",
   "execution_count": 64,
   "metadata": {},
   "outputs": [
    {
     "data": {
      "text/plain": [
       "array(['wipro', 'accenture', 'tcs', 'autoninja', 'youplus', 'deloitte',\n",
       "       'mahindra comviva', 'lam research', 'microsoft', 'akamai ',\n",
       "       'ugam solutions', 'walmart labs', 'ibm in the cognitive division',\n",
       "       'sabre', 'oracle ', 'wells fargo', 'goldman sachs', 'logmein',\n",
       "       'logmein (internship)', 'deloitte india', 'ibm',\n",
       "       'mentor graphics, internship', 'ivanti', 'onedirect', 'cerner',\n",
       "       'philips', 'instamojo', 'wissen technology', 'nasdaq', 'citrix',\n",
       "       'amazon', 'shell technologies', 'societe generale', 'epsilon',\n",
       "       'cisco systems', 'zscaler', 'ge appliances', 'cisco', 'akamai',\n",
       "       'hewlett packard enterprise', 'cisco ', 'the math company',\n",
       "       'mcafee', 'vmware', 'whatfix', 'logmein inc.', 'deloitte usi',\n",
       "       'vantage agora', 'qualcomm', 'shell india', 'atos ', 'auto ninja',\n",
       "       'scripbox', 'perfios', 'infibeam', 'couchbase', 'oracle',\n",
       "       'wipro limited', 'sprinklr', 'microsoft india(r&d) pvt. ltd',\n",
       "       'zynga', 'hpe', 'edgeverve', 'miq digital ', 'betsol',\n",
       "       'wipro technologies', 'wipro turbo', 'atos', 'miq', 'viacom',\n",
       "       'gigsky', 'optum', 'yahoo', 'shell', 'akamai technologies',\n",
       "       'ltts ', 'ugam', 'collins aerospace', 'cartesian consulting',\n",
       "       'sabre travel technologies', 'viacom 18', 'infosys',\n",
       "       'cisco systems india pvt ltd,', 'lendingkart technologies',\n",
       "       'perfios pvt ltd', 'conduent ', 'cerner healthcare solutions',\n",
       "       'viacom18', 'hevo technologies', 'amazon web services pvt ltd',\n",
       "       'goldman sachs ', 'musigma ', 'aruba networks', 'razorpay',\n",
       "       'deloitte-usi', 'miq digital', 'general electric', 'shell ',\n",
       "       'software ag', 'cerner corporation', 'sabre ', 'epsilon ',\n",
       "       'shell india markets pvt ltd',\n",
       "       'deloitte risk and financial advisory', 'akamai technology',\n",
       "       'zynga game networks ', 'pricewaterhousecoopers ',\n",
       "       'nasdaq,bengaluru', 'tredence analytics', 'atlassian',\n",
       "       'accolite software private india ltd.', 'citrix(internship)',\n",
       "       'rockwell collins', 'oracle (mysql team)', 'greyorange ',\n",
       "       'philips ', 'kpmg', 'price waterhouse cooper', 'sapient',\n",
       "       'edge verve', 'conduent', 'morgan stanley', 'samsung r&d',\n",
       "       'scripbox ', 'zscaler inc', 'mu sigma', 'atkins', 'kpit',\n",
       "       'robert bosch', 'l&t technology services ', 'amadeus', 'l&t',\n",
       "       'atos technology services', 'presence of it', 'pwc', 'ibm ',\n",
       "       'pricewaterhousecoopers', 'presence of it ', 'deloitte ', 'soroco',\n",
       "       'mediatek', 'wissen technology private limited', 'musigma',\n",
       "       'juniper networks pvt. ltd', 'bosch ', 'wells fargo ',\n",
       "       'l&t services technology', 'at&t(internship)', 'deloitte india ',\n",
       "       'conduent india ', 'cisco systems inc', 'bosch (rbei)',\n",
       "       'deloitte - risk and financial advisory  ', 'amazon-aws',\n",
       "       'cisco (internship)', 'bosch', 'ibm gbs', 'tredance analytics',\n",
       "       'itron', 'mahindra comviva ', 'deloittle', 'robert bosch ',\n",
       "       'honeywell (internship)', 'pwc india',\n",
       "       'aws (amazon internet services pvt. ltd. )',\n",
       "       'cypress semiconductos', 'cisco systems inc. (advanced services)',\n",
       "       'accenture ', 'signalchip innovations', 'bosch rbei',\n",
       "       'kpit technologies', 'l&t technology services', 'l&tts',\n",
       "       'robert bosch engineering and business solutions',\n",
       "       'reliance retail', 'l & t technology services', 'math company',\n",
       "       'wipro(it)', 'reliance', 'deloitte us rfa', 'reliance retail ',\n",
       "       'reliance pvt ltd', 'themathcompany',\n",
       "       'reliance retail supply chain management', 'grindwell norton',\n",
       "       'cartesian consulting ', 'kpit technologies ltd',\n",
       "       'td power systems', 'accenure'], dtype=object)"
      ]
     },
     "execution_count": 64,
     "metadata": {},
     "output_type": "execute_result"
    }
   ],
   "source": [
    "df.CompanyName.unique()\n",
    "#df.CompanyName.nunique(dropna = True)"
   ]
  },
  {
   "cell_type": "code",
   "execution_count": 150,
   "metadata": {},
   "outputs": [],
   "source": [
    "#Model 1\n",
    "#Decision Tree between CGPA,Branch and TierLevel(target)\n",
    "from sklearn.datasets import load_iris\n",
    "from sklearn.tree import DecisionTreeClassifier\n",
    "from sklearn.model_selection import train_test_split\n",
    "from sklearn.metrics import confusion_matrix\n",
    "from sklearn.metrics import accuracy_score\n",
    "from sklearn.metrics import classification_report\n",
    "from sklearn.tree import export_graphviz\n",
    "from sklearn.externals.six import StringIO \n",
    "from IPython.display import Image \n",
    "from pydot import graph_from_dot_data\n",
    "import pandas as pd\n",
    "import numpy as np\n",
    "from sklearn.model_selection import train_test_split\n",
    "from sklearn import tree, metrics"
   ]
  },
  {
   "cell_type": "code",
   "execution_count": 179,
   "metadata": {},
   "outputs": [],
   "source": [
    "#pd.get_dummies(df1['Branch'], prefix='Branch')\n",
    "df1=df.drop(['CompanyName','CTC'], axis=1)\n",
    "df1['Branch'],_ = pd.factorize(df1['Branch'])\n",
    "#df1['TierLevel']=pd.to_numeric(df1['TierLevel'], downcast='integer')"
   ]
  },
  {
   "cell_type": "code",
   "execution_count": 180,
   "metadata": {},
   "outputs": [
    {
     "data": {
      "text/plain": [
       "array([2., 3., 1.])"
      ]
     },
     "execution_count": 180,
     "metadata": {},
     "output_type": "execute_result"
    }
   ],
   "source": [
    "df1.TierLevel.unique()"
   ]
  },
  {
   "cell_type": "code",
   "execution_count": 181,
   "metadata": {},
   "outputs": [],
   "source": [
    "X = df1.iloc[:,:-1]\n",
    "y = df1.iloc[:,-1]#Target"
   ]
  },
  {
   "cell_type": "code",
   "execution_count": 182,
   "metadata": {},
   "outputs": [],
   "source": [
    "X_train, X_test, y_train, y_test = train_test_split(X, y, test_size=0.3, random_state=0)"
   ]
  },
  {
   "cell_type": "code",
   "execution_count": 185,
   "metadata": {},
   "outputs": [
    {
     "data": {
      "text/plain": [
       "DecisionTreeClassifier(ccp_alpha=0.0, class_weight=None, criterion='entropy',\n",
       "                       max_depth=3, max_features=None, max_leaf_nodes=None,\n",
       "                       min_impurity_decrease=0.0, min_impurity_split=None,\n",
       "                       min_samples_leaf=1, min_samples_split=2,\n",
       "                       min_weight_fraction_leaf=0.0, presort='deprecated',\n",
       "                       random_state=100, splitter='best')"
      ]
     },
     "execution_count": 185,
     "metadata": {},
     "output_type": "execute_result"
    }
   ],
   "source": [
    "#Entropy\n",
    "dtree = DecisionTreeClassifier(criterion='entropy', max_depth=3, random_state=100)\n",
    "dtree.fit(X_train, y_train)"
   ]
  },
  {
   "cell_type": "code",
   "execution_count": 186,
   "metadata": {},
   "outputs": [
    {
     "name": "stdout",
     "output_type": "stream",
     "text": [
      "Misclassified samples: 35\n",
      "Accuracy: 0.77\n",
      "Report :                precision    recall  f1-score   support\n",
      "\n",
      "         1.0       0.89      0.76      0.82        67\n",
      "         2.0       0.70      0.92      0.80        75\n",
      "         3.0       0.00      0.00      0.00        13\n",
      "\n",
      "    accuracy                           0.77       155\n",
      "   macro avg       0.53      0.56      0.54       155\n",
      "weighted avg       0.73      0.77      0.74       155\n",
      "\n",
      "Confusion Matrix:  [[51 16  0]\n",
      " [ 6 69  0]\n",
      " [ 0 13  0]]\n"
     ]
    },
    {
     "name": "stderr",
     "output_type": "stream",
     "text": [
      "C:\\ProgramData\\Anaconda3\\lib\\site-packages\\sklearn\\metrics\\_classification.py:1272: UndefinedMetricWarning: Precision and F-score are ill-defined and being set to 0.0 in labels with no predicted samples. Use `zero_division` parameter to control this behavior.\n",
      "  _warn_prf(average, modifier, msg_start, len(result))\n",
      "C:\\ProgramData\\Anaconda3\\lib\\site-packages\\sklearn\\metrics\\_classification.py:1272: UndefinedMetricWarning: Precision and F-score are ill-defined and being set to 0.0 in labels with no predicted samples. Use `zero_division` parameter to control this behavior.\n",
      "  _warn_prf(average, modifier, msg_start, len(result))\n",
      "C:\\ProgramData\\Anaconda3\\lib\\site-packages\\sklearn\\metrics\\_classification.py:1272: UndefinedMetricWarning: Precision and F-score are ill-defined and being set to 0.0 in labels with no predicted samples. Use `zero_division` parameter to control this behavior.\n",
      "  _warn_prf(average, modifier, msg_start, len(result))\n"
     ]
    }
   ],
   "source": [
    "y_pred = dtree.predict(X_test)\n",
    "count_misclassified = (y_test != y_pred).sum()\n",
    "print('Misclassified samples: {}'.format(count_misclassified))\n",
    "accuracy = accuracy_score(y_test, y_pred)\n",
    "print('Accuracy: {:.2f}'.format(accuracy))\n",
    "print(\"Report : \", \n",
    "    classification_report(y_test, y_pred)) \n",
    "print(\"Confusion Matrix: \", \n",
    "        confusion_matrix(y_test, y_pred)) "
   ]
  },
  {
   "cell_type": "code",
   "execution_count": 187,
   "metadata": {},
   "outputs": [
    {
     "data": {
      "text/plain": [
       "DecisionTreeClassifier(ccp_alpha=0.0, class_weight=None, criterion='gini',\n",
       "                       max_depth=3, max_features=None, max_leaf_nodes=None,\n",
       "                       min_impurity_decrease=0.0, min_impurity_split=None,\n",
       "                       min_samples_leaf=1, min_samples_split=2,\n",
       "                       min_weight_fraction_leaf=0.0, presort='deprecated',\n",
       "                       random_state=100, splitter='best')"
      ]
     },
     "execution_count": 187,
     "metadata": {},
     "output_type": "execute_result"
    }
   ],
   "source": [
    "#Gini Index\n",
    "dtree = DecisionTreeClassifier(criterion='gini', max_depth=3, random_state=100)\n",
    "dtree.fit(X_train, y_train)"
   ]
  },
  {
   "cell_type": "code",
   "execution_count": 188,
   "metadata": {},
   "outputs": [
    {
     "name": "stdout",
     "output_type": "stream",
     "text": [
      "Misclassified samples: 44\n",
      "Accuracy: 0.72\n",
      "Report :                precision    recall  f1-score   support\n",
      "\n",
      "         1.0       0.90      0.67      0.77        67\n",
      "         2.0       0.66      0.87      0.75        75\n",
      "         3.0       0.17      0.08      0.11        13\n",
      "\n",
      "    accuracy                           0.72       155\n",
      "   macro avg       0.57      0.54      0.54       155\n",
      "weighted avg       0.72      0.72      0.70       155\n",
      "\n",
      "Confusion Matrix:  [[45 22  0]\n",
      " [ 5 65  5]\n",
      " [ 0 12  1]]\n"
     ]
    }
   ],
   "source": [
    "y_pred = dtree.predict(X_test)\n",
    "count_misclassified = (y_test != y_pred).sum()\n",
    "print('Misclassified samples: {}'.format(count_misclassified))\n",
    "accuracy = accuracy_score(y_test, y_pred)\n",
    "print('Accuracy: {:.2f}'.format(accuracy))\n",
    "print(\"Report : \", \n",
    "    classification_report(y_test, y_pred)) \n",
    "print(\"Confusion Matrix: \", \n",
    "        confusion_matrix(y_test, y_pred)) "
   ]
  },
  {
   "cell_type": "code",
   "execution_count": null,
   "metadata": {},
   "outputs": [],
   "source": [
    "#Entropy based DT is givng us slightly better metrics\n",
    "#This is a basic model based on the available data"
   ]
  }
 ],
 "metadata": {
  "kernelspec": {
   "display_name": "Python 3",
   "language": "python",
   "name": "python3"
  },
  "language_info": {
   "codemirror_mode": {
    "name": "ipython",
    "version": 3
   },
   "file_extension": ".py",
   "mimetype": "text/x-python",
   "name": "python",
   "nbconvert_exporter": "python",
   "pygments_lexer": "ipython3",
   "version": "3.7.0"
  }
 },
 "nbformat": 4,
 "nbformat_minor": 2
}
