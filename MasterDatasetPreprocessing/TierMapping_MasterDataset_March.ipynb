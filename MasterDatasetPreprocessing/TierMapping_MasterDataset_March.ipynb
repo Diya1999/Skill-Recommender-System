{
 "cells": [
  {
   "cell_type": "code",
   "execution_count": 1,
   "metadata": {},
   "outputs": [],
   "source": [
    "import pandas as pd\n",
    "import numpy as np"
   ]
  },
  {
   "cell_type": "code",
   "execution_count": 17,
   "metadata": {},
   "outputs": [],
   "source": [
    "data= pd.read_csv(r\"C:\\Users\\diyas\\Documents\\Recommendation_system\\MasterDataset.csv\")"
   ]
  },
  {
   "cell_type": "code",
   "execution_count": 18,
   "metadata": {},
   "outputs": [
    {
     "name": "stdout",
     "output_type": "stream",
     "text": [
      "59\n",
      "51\n"
     ]
    }
   ],
   "source": [
    "#number of missing ctc and tier values\n",
    "print(data['TierLevel'].isnull().sum())\n",
    "print(data['CTC'].isnull().sum())"
   ]
  },
  {
   "cell_type": "code",
   "execution_count": 19,
   "metadata": {},
   "outputs": [],
   "source": [
    "#Main function\n",
    "def PreprocessCTC(data):\n",
    "    #convert CTC to standard format\n",
    "    df=data\n",
    "    for idx, row in df.iterrows():\n",
    "        if row.CTC > 100:\n",
    "            data.set_value(idx, 'CTC', row.CTC/100000)\n",
    "    return(data)\n",
    "\n",
    "def TierProcess(data):\n",
    "    df_ctc=PreprocessCTC(data)\n",
    "    df_ctc['CTC'] = pd.to_numeric(df_ctc['CTC'],errors='coerce')\n",
    "    #map CTC to Tier level based on 2021 Tier mapping\n",
    "    for idx, row in data.iterrows():\n",
    "        if np.isnan(row.TierLevel):\n",
    "            #print(row.CTC) #mostly all 0 are printed here\n",
    "            if row.CTC > 0 and row.CTC <= 5:\n",
    "                df_ctc.set_value(idx, 'TierLevel', 3)\n",
    "            if row.CTC > 5 and row.CTC <= 10:\n",
    "                df_ctc.set_value(idx, 'TierLevel', 2)\n",
    "            if row.CTC > 10:\n",
    "                df_ctc.set_value(idx, 'TierLevel', 1)\n",
    "    return(df_ctc)\n",
    "    \n",
    "df_final=TierProcess(data)"
   ]
  },
  {
   "cell_type": "code",
   "execution_count": 20,
   "metadata": {},
   "outputs": [
    {
     "name": "stdout",
     "output_type": "stream",
     "text": [
      "59\n",
      "51\n"
     ]
    }
   ],
   "source": [
    "print(df_final['TierLevel'].isnull().sum())\n",
    "print(df_final['CTC'].isnull().sum())"
   ]
  },
  {
   "cell_type": "code",
   "execution_count": 21,
   "metadata": {},
   "outputs": [
    {
     "name": "stdout",
     "output_type": "stream",
     "text": [
      "Tier 1 count 208\n",
      "Tier 2 count 53\n",
      "Tier 3 count 18\n"
     ]
    }
   ],
   "source": [
    "df=df_final\n",
    "df1 = df[df['TierLevel'] == 1]\n",
    "df2 = df[df['TierLevel'] == 2]\n",
    "df3 = df[df['TierLevel'] == 3]\n",
    "print(\"Tier 1 count\",len(df1))\n",
    "print(\"Tier 2 count\",len(df2))\n",
    "print(\"Tier 3 count\",len(df3))"
   ]
  },
  {
   "cell_type": "code",
   "execution_count": 22,
   "metadata": {},
   "outputs": [
    {
     "name": "stdout",
     "output_type": "stream",
     "text": [
      "Tier 1\n"
     ]
    },
    {
     "data": {
      "text/plain": [
       "array([[<matplotlib.axes._subplots.AxesSubplot object at 0x00000222F26E6780>]],\n",
       "      dtype=object)"
      ]
     },
     "execution_count": 22,
     "metadata": {},
     "output_type": "execute_result"
    },
    {
     "data": {
      "image/png": "[encoded data removed]",
      "text/plain": [
       "<Figure size 432x288 with 1 Axes>"
      ]
     },
     "metadata": {
      "needs_background": "light"
     },
     "output_type": "display_data"
    }
   ],
   "source": [
    "print(\"Tier 1\")\n",
    "df1.hist(column=[\"CTC\"])\n",
    "\n"
   ]
  },
  {
   "cell_type": "code",
   "execution_count": 23,
   "metadata": {},
   "outputs": [
    {
     "name": "stdout",
     "output_type": "stream",
     "text": [
      "Tier 2\n"
     ]
    },
    {
     "data": {
      "text/plain": [
       "array([[<matplotlib.axes._subplots.AxesSubplot object at 0x00000222F26E6748>]],\n",
       "      dtype=object)"
      ]
     },
     "execution_count": 23,
     "metadata": {},
     "output_type": "execute_result"
    },
    {
     "data": {
      "image/png": "[encoded data removed]",
      "text/plain": [
       "<Figure size 432x288 with 1 Axes>"
      ]
     },
     "metadata": {
      "needs_background": "light"
     },
     "output_type": "display_data"
    }
   ],
   "source": [
    "print(\"Tier 2\")\n",
    "df2.hist(column=[\"CTC\"])\n"
   ]
  },
  {
   "cell_type": "code",
   "execution_count": 24,
   "metadata": {},
   "outputs": [
    {
     "name": "stdout",
     "output_type": "stream",
     "text": [
      "Tier 3\n"
     ]
    },
    {
     "data": {
      "text/plain": [
       "array([[<matplotlib.axes._subplots.AxesSubplot object at 0x00000222F4EE1128>]],\n",
       "      dtype=object)"
      ]
     },
     "execution_count": 24,
     "metadata": {},
     "output_type": "execute_result"
    },
    {
     "data": {
      "image/png": "[encoded data removed]",
      "text/plain": [
       "<Figure size 432x288 with 1 Axes>"
      ]
     },
     "metadata": {
      "needs_background": "light"
     },
     "output_type": "display_data"
    }
   ],
   "source": [
    "\n",
    "print(\"Tier 3\")\n",
    "df3.hist(column=[\"CTC\"])"
   ]
  },
  {
   "cell_type": "code",
   "execution_count": null,
   "metadata": {},
   "outputs": [],
   "source": []
  }
 ],
 "metadata": {
  "kernelspec": {
   "display_name": "Python 3",
   "language": "python",
   "name": "python3"
  },
  "language_info": {
   "codemirror_mode": {
    "name": "ipython",
    "version": 3
   },
   "file_extension": ".py",
   "mimetype": "text/x-python",
   "name": "python",
   "nbconvert_exporter": "python",
   "pygments_lexer": "ipython3",
   "version": "3.7.0"
  }
 },
 "nbformat": 4,
 "nbformat_minor": 2
}
