{
 "cells": [
  {
   "cell_type": "code",
   "execution_count": 1,
   "metadata": {},
   "outputs": [],
   "source": [
    "import numpy as np\n",
    "import pandas as pd\n",
    "import operator\n",
    "import itertools\n",
    "from itertools import combinations, chain"
   ]
  },
  {
   "cell_type": "code",
   "execution_count": 18,
   "metadata": {},
   "outputs": [],
   "source": [
    "data= pd.read_csv(r\"C:\\Users\\diyas\\Documents\\Recommendation_system\\MasterDatasetTemp_Preprocessed_Anonymized_small.csv\") "
   ]
  },
  {
   "cell_type": "code",
   "execution_count": 19,
   "metadata": {},
   "outputs": [
    {
     "data": {
      "text/plain": [
       "Index(['Unnamed: 0', 'Unnamed: 0.1', 'USN', '10thPercentage', '10thMarks',\n",
       "       '12thPercentage', 'Branch', 'CGPA', 'CourseName', 'CourseGrade',\n",
       "       'CompanyName_New', 'CTC', 'TierLevel', 'CoCurricularActivities',\n",
       "       'EmploymentType', 'EventsParticipated', 'GeneralSkills', 'Languages',\n",
       "       'MinorAttended', 'NoofInternships', 'InternshipProjectDomain',\n",
       "       'InternshipCompany', 'NoofProjects', 'ProjectDetailDomain',\n",
       "       'ProgLanguages', 'Publication', 'ResearchDomain', 'ScholarshipsKey',\n",
       "       'SoftwareTools', 'VolunteeringWork', 'WorkshopsOrg', 'WorkshopsDomain',\n",
       "       'AwardsNLPkey', 'ExternalCertificatesKey',\n",
       "       'ExternalCertificatesDomain'],\n",
       "      dtype='object')"
      ]
     },
     "execution_count": 19,
     "metadata": {},
     "output_type": "execute_result"
    }
   ],
   "source": [
    "data.columns"
   ]
  },
  {
   "cell_type": "code",
   "execution_count": 20,
   "metadata": {},
   "outputs": [],
   "source": [
    "#selection of dataset\n",
    "data= data[['ProgLanguages','TierLevel']]\n",
    "data['ProgLanguages']=data['ProgLanguages'].str.split('##')\n",
    "data = data.dropna()"
   ]
  },
  {
   "cell_type": "code",
   "execution_count": 21,
   "metadata": {},
   "outputs": [
    {
     "data": {
      "text/plain": [
       "34"
      ]
     },
     "execution_count": 21,
     "metadata": {},
     "output_type": "execute_result"
    }
   ],
   "source": [
    "len(data)"
   ]
  },
  {
   "cell_type": "code",
   "execution_count": 22,
   "metadata": {},
   "outputs": [],
   "source": [
    "data = data[data['TierLevel'] == 1.0] "
   ]
  },
  {
   "cell_type": "code",
   "execution_count": 23,
   "metadata": {},
   "outputs": [
    {
     "data": {
      "text/plain": [
       "27"
      ]
     },
     "execution_count": 23,
     "metadata": {},
     "output_type": "execute_result"
    }
   ],
   "source": [
    "len(data)"
   ]
  },
  {
   "cell_type": "code",
   "execution_count": 25,
   "metadata": {},
   "outputs": [],
   "source": [
    "#finding frequency of domains\n",
    "domain_count={}\n",
    "for v,k in data['ProgLanguages'].iteritems():\n",
    "    for i in k:\n",
    "        if i in domain_count:\n",
    "            domain_count[i]=domain_count[i]+1\n",
    "        else:\n",
    "            domain_count[i]=1"
   ]
  },
  {
   "cell_type": "code",
   "execution_count": 27,
   "metadata": {},
   "outputs": [
    {
     "data": {
      "text/plain": [
       "{' html': 1,\n",
       " ' javascript': 1,\n",
       " 'ajax': 2,\n",
       " 'c': 25,\n",
       " 'c\\n': 2,\n",
       " 'c++': 12,\n",
       " 'c++(stl)': 1,\n",
       " 'cryptography': 2,\n",
       " 'css': 13,\n",
       " 'django': 2,\n",
       " 'html': 12,\n",
       " 'html5': 3,\n",
       " 'java': 15,\n",
       " 'java ': 1,\n",
       " 'javascript': 21,\n",
       " 'lex': 2,\n",
       " 'mysql': 1,\n",
       " 'nodejs': 3,\n",
       " 'opencv': 2,\n",
       " 'php': 15,\n",
       " 'python': 24,\n",
       " 'r': 9,\n",
       " 'r\\n': 1,\n",
       " 'reactjs': 2,\n",
       " 'scala': 2,\n",
       " 'w3.css': 1,\n",
       " 'yacc\\n': 2}"
      ]
     },
     "execution_count": 27,
     "metadata": {},
     "output_type": "execute_result"
    }
   ],
   "source": [
    "#domains with frequency count\n",
    "domain_count\n",
    "#domain_count.pop('') "
   ]
  },
  {
   "cell_type": "code",
   "execution_count": 24,
   "metadata": {},
   "outputs": [
    {
     "data": {
      "text/html": [
       "<div>\n",
       "<style scoped>\n",
       "    .dataframe tbody tr th:only-of-type {\n",
       "        vertical-align: middle;\n",
       "    }\n",
       "\n",
       "    .dataframe tbody tr th {\n",
       "        vertical-align: top;\n",
       "    }\n",
       "\n",
       "    .dataframe thead th {\n",
       "        text-align: right;\n",
       "    }\n",
       "</style>\n",
       "<table border=\"1\" class=\"dataframe\">\n",
       "  <thead>\n",
       "    <tr style=\"text-align: right;\">\n",
       "      <th></th>\n",
       "      <th>ProgLanguages</th>\n",
       "      <th>TierLevel</th>\n",
       "    </tr>\n",
       "  </thead>\n",
       "  <tbody>\n",
       "    <tr>\n",
       "      <th>0</th>\n",
       "      <td>[python, c++, c\\n]</td>\n",
       "      <td>1.0</td>\n",
       "    </tr>\n",
       "    <tr>\n",
       "      <th>2</th>\n",
       "      <td>[c, python, java, html, css, php, mysql]</td>\n",
       "      <td>1.0</td>\n",
       "    </tr>\n",
       "    <tr>\n",
       "      <th>4</th>\n",
       "      <td>[python, java, c, javascript, html, css, php]</td>\n",
       "      <td>1.0</td>\n",
       "    </tr>\n",
       "    <tr>\n",
       "      <th>5</th>\n",
       "      <td>[python, php, javascript, css, w3.css, html5, ...</td>\n",
       "      <td>1.0</td>\n",
       "    </tr>\n",
       "    <tr>\n",
       "      <th>7</th>\n",
       "      <td>[c, python, java,  html, css, javascript, php]</td>\n",
       "      <td>1.0</td>\n",
       "    </tr>\n",
       "  </tbody>\n",
       "</table>\n",
       "</div>"
      ],
      "text/plain": [
       "                                       ProgLanguages  TierLevel\n",
       "0                                 [python, c++, c\\n]        1.0\n",
       "2           [c, python, java, html, css, php, mysql]        1.0\n",
       "4      [python, java, c, javascript, html, css, php]        1.0\n",
       "5  [python, php, javascript, css, w3.css, html5, ...        1.0\n",
       "7     [c, python, java,  html, css, javascript, php]        1.0"
      ]
     },
     "execution_count": 24,
     "metadata": {},
     "output_type": "execute_result"
    }
   ],
   "source": [
    "data.head()"
   ]
  },
  {
   "cell_type": "code",
   "execution_count": 28,
   "metadata": {},
   "outputs": [],
   "source": [
    "#finding support: frequency/total\n",
    "domain_sup={}\n",
    "for k, v in domain_count.items():\n",
    "    domain_sup[k] = v/272"
   ]
  },
  {
   "cell_type": "code",
   "execution_count": 32,
   "metadata": {},
   "outputs": [],
   "source": [
    "#calulate MIS for each itemset\n",
    "\n",
    "#GIVE PARAMETERS\n",
    "\n",
    "#Step 1: find SD\n",
    "#Lambda(mean)\n",
    "lamb = 0\n",
    "for val in domain_count.values(): \n",
    "    lamb += val \n",
    "lamb = lamb / len(domain_count) \n",
    "#Consider alpha(between 1 and 0) 0.5\n",
    "alpha= 0.1\n",
    "ls=5"
   ]
  },
  {
   "cell_type": "code",
   "execution_count": 33,
   "metadata": {},
   "outputs": [],
   "source": [
    "\n",
    "def mis(domain_count,ls,alpha):\n",
    "    sd=lamb*(1-alpha)\n",
    "    mis=[]\n",
    "    misdict={}\n",
    "    mis_val={}\n",
    "    for k, v in domain_count.items():\n",
    "        m=domain_count[k]-sd\n",
    "        if(m<ls):\n",
    "            mis.append(ls)\n",
    "            misdict[domain_count[k]]=ls\n",
    "            mis_val[k]=ls\n",
    "        else:\n",
    "            mis.append(m)\n",
    "            misdict[domain_count[k]]=m\n",
    "            mis_val[k]=m\n",
    "    #print(mis_val)\n",
    "    return mis_val\n",
    "\n",
    "mis_val=mis(domain_count,ls,alpha)"
   ]
  },
  {
   "cell_type": "code",
   "execution_count": 34,
   "metadata": {},
   "outputs": [
    {
     "data": {
      "text/plain": [
       "{' html': 5,\n",
       " ' javascript': 5,\n",
       " 'ajax': 5,\n",
       " 'c': 19.1,\n",
       " 'c\\n': 5,\n",
       " 'c++': 6.1,\n",
       " 'c++(stl)': 5,\n",
       " 'cryptography': 5,\n",
       " 'css': 7.1,\n",
       " 'django': 5,\n",
       " 'html': 6.1,\n",
       " 'html5': 5,\n",
       " 'java': 9.1,\n",
       " 'java ': 5,\n",
       " 'javascript': 15.1,\n",
       " 'lex': 5,\n",
       " 'mysql': 5,\n",
       " 'nodejs': 5,\n",
       " 'opencv': 5,\n",
       " 'php': 9.1,\n",
       " 'python': 18.1,\n",
       " 'r': 5,\n",
       " 'r\\n': 5,\n",
       " 'reactjs': 5,\n",
       " 'scala': 5,\n",
       " 'w3.css': 5,\n",
       " 'yacc\\n': 5}"
      ]
     },
     "execution_count": 34,
     "metadata": {},
     "output_type": "execute_result"
    }
   ],
   "source": [
    "mis_val"
   ]
  },
  {
   "cell_type": "code",
   "execution_count": 41,
   "metadata": {},
   "outputs": [
    {
     "data": {
      "text/plain": [
       "[('python,c', 22),\n",
       " ('javascript,c', 20),\n",
       " ('python,javascript', 20),\n",
       " ('java,c', 15),\n",
       " ('python,php', 15),\n",
       " ('php,c', 14),\n",
       " ('php,javascript', 14),\n",
       " ('python,java', 14)]"
      ]
     },
     "execution_count": 41,
     "metadata": {},
     "output_type": "execute_result"
    }
   ],
   "source": [
    "mis_min2=min(mis_val.values())\n",
    "L_2={}\n",
    "for k, v in domain_count.items():\n",
    "        if(domain_count[k]>=mis_val[k]):\n",
    "            L_2[k]=mis_val[k]\n",
    "\n",
    "#Step 2\n",
    "#Sort L\n",
    "temp= sorted(L_2.items(), key=operator.itemgetter(0))\n",
    "L_21=sorted(temp, key=operator.itemgetter(1), reverse=True)\n",
    "#2 ITEMSETS \n",
    "def findsubsets(s, n):\n",
    "    return list(map(set, itertools.combinations(s, n)))   \n",
    "n = 2\n",
    "C2=findsubsets(L_21, n)\n",
    "\n",
    "#count for each candidate itemset\n",
    "count={}\n",
    "for i,v in C2:\n",
    "    for index, row in data.iterrows():\n",
    "        t=\"\"\n",
    "        if(i[0] in row['ProgLanguages'] and v[0] in row['ProgLanguages']):\n",
    "            t=i[0]+\",\"+v[0]\n",
    "            if(t in count):\n",
    "                count[t]=count[t]+1\n",
    "            else:\n",
    "                count[t]=1\n",
    "\n",
    "                #checking criteria for count\n",
    "L_12={}\n",
    "for k, v in count.items():\n",
    "        m=count[k]*100/272\n",
    "        if(m>mis_min2):\n",
    "            L_12[k]=count[k]\n",
    "            \n",
    "#FOR TIER 1, SORTED 2 ITEMSETS \n",
    "temp= sorted(L_12.items(), key=operator.itemgetter(0))\n",
    "L_12_sorted=sorted(temp, key=operator.itemgetter(1), reverse=True)\n",
    "L_12_sorted"
   ]
  },
  {
   "cell_type": "code",
   "execution_count": 43,
   "metadata": {},
   "outputs": [
    {
     "data": {
      "text/plain": [
       "[('python,javascript,c', 19),\n",
       " ('python,c,java', 14),\n",
       " ('python,php,c', 14),\n",
       " ('python,php,javascript', 14)]"
      ]
     },
     "execution_count": 43,
     "metadata": {},
     "output_type": "execute_result"
    }
   ],
   "source": [
    "#3 ITEMSETS\n",
    "def findsubsets(s, n):\n",
    "    return list(map(set, itertools.combinations(s, n))) \n",
    "n = 3\n",
    "C3=findsubsets(L_21, n)\n",
    "\n",
    "count={}\n",
    "for a,b,c in C3:\n",
    "    for index, row in data.iterrows():\n",
    "        t=\"\"\n",
    "        if(a[0] in row['ProgLanguages'] and b[0] in row['ProgLanguages'] and c[0] in row['ProgLanguages']):\n",
    "            t=a[0]+\",\"+b[0]+','+c[0]\n",
    "            if(t in count):\n",
    "                count[t]=count[t]+1\n",
    "            else:\n",
    "                count[t]=1\n",
    "                \n",
    "L_3={}\n",
    "for k, v in count.items():\n",
    "        m=count[k]*100/272\n",
    "        if(m>mis_min2):\n",
    "            L_3[k]=count[k]\n",
    "            \n",
    "#FOR TIER 1, SORTED 3 ITEMSETS \n",
    "temp= sorted(L_3.items(), key=operator.itemgetter(0))\n",
    "L_3_sorted=sorted(temp, key=operator.itemgetter(1), reverse=True)\n",
    "L_3_sorted"
   ]
  },
  {
   "cell_type": "code",
   "execution_count": 45,
   "metadata": {},
   "outputs": [
    {
     "data": {
      "text/plain": [
       "[]"
      ]
     },
     "execution_count": 45,
     "metadata": {},
     "output_type": "execute_result"
    }
   ],
   "source": [
    "#4 ITEMSETS\n",
    "def findsubsets(s, n):\n",
    "    return list(map(set, itertools.combinations(s, n))) \n",
    "n = 4\n",
    "C4=findsubsets(L_21, n)\n",
    "\n",
    "count={}\n",
    "for a,b,c,d in C4:\n",
    "    for index, row in data.iterrows():\n",
    "        t=\"\"\n",
    "        if(a[0] in row['ProgLanguages'] and b[0] in row['ProgLanguages'] and c[0] in row['ProgLanguages'] and d[0] in row['ProgLanguages']):\n",
    "            t=a[0]+\",\"+b[0]+','+c[0]+','+d[0]\n",
    "            if(t in count):\n",
    "                count[t]=count[t]+1\n",
    "            else:\n",
    "                count[t]=1\n",
    "\n",
    "L_4={}\n",
    "for k, v in count.items():\n",
    "        m=count[k]*100/272\n",
    "        if(m>mis_min2):\n",
    "            L_4[k]=count[k]\n",
    "            \n",
    "#FOR TIER 1, SORTED 4 ITEMSETS \n",
    "temp= sorted(L_4.items(), key=operator.itemgetter(0))\n",
    "L_4_sorted=sorted(temp, key=operator.itemgetter(1), reverse=True)\n",
    "L_4_sorted"
   ]
  },
  {
   "cell_type": "code",
   "execution_count": null,
   "metadata": {},
   "outputs": [],
   "source": []
  }
 ],
 "metadata": {
  "kernelspec": {
   "display_name": "Python 3",
   "language": "python",
   "name": "python3"
  },
  "language_info": {
   "codemirror_mode": {
    "name": "ipython",
    "version": 3
   },
   "file_extension": ".py",
   "mimetype": "text/x-python",
   "name": "python",
   "nbconvert_exporter": "python",
   "pygments_lexer": "ipython3",
   "version": "3.7.0"
  }
 },
 "nbformat": 4,
 "nbformat_minor": 2
}
