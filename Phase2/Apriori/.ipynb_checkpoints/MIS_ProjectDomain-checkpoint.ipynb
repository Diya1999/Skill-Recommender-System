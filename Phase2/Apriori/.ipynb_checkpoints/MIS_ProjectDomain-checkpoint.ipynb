{
 "cells": [
  {
   "cell_type": "code",
   "execution_count": 60,
   "metadata": {},
   "outputs": [],
   "source": [
    "import numpy as np\n",
    "import pandas as pd\n",
    "import operator\n",
    "import itertools\n",
    "from itertools import combinations, chain"
   ]
  },
  {
   "cell_type": "code",
   "execution_count": 5,
   "metadata": {},
   "outputs": [],
   "source": [
    "data= pd.read_csv(r\"C:\\Users\\diyas\\Documents\\Recommendation_system\\UpdatedMaster19Feb_NLP.csv\") "
   ]
  },
  {
   "cell_type": "code",
   "execution_count": 6,
   "metadata": {},
   "outputs": [],
   "source": [
    "#selection of dataset\n",
    "data= data[['ProjectDetailDomain','TierLevel']]\n",
    "data['ProjectDetailDomain']=data['ProjectDetailDomain'].str.split('##')\n",
    "data = data.dropna()"
   ]
  },
  {
   "cell_type": "code",
   "execution_count": 7,
   "metadata": {},
   "outputs": [
    {
     "data": {
      "text/plain": [
       "373"
      ]
     },
     "execution_count": 7,
     "metadata": {},
     "output_type": "execute_result"
    }
   ],
   "source": [
    "len(data)"
   ]
  },
  {
   "cell_type": "code",
   "execution_count": 8,
   "metadata": {},
   "outputs": [
    {
     "data": {
      "text/plain": [
       "272"
      ]
     },
     "execution_count": 8,
     "metadata": {},
     "output_type": "execute_result"
    }
   ],
   "source": [
    "#only tier 1\n",
    "data = data[data['TierLevel'] == 1.0] \n",
    "len(data)"
   ]
  },
  {
   "cell_type": "code",
   "execution_count": 10,
   "metadata": {},
   "outputs": [],
   "source": [
    "#finding frequency of domains\n",
    "domain_count={}\n",
    "for v,k in data['ProjectDetailDomain'].iteritems():\n",
    "    for i in k:\n",
    "        if i in domain_count:\n",
    "            domain_count[i]=domain_count[i]+1\n",
    "        else:\n",
    "            domain_count[i]=1"
   ]
  },
  {
   "cell_type": "code",
   "execution_count": 11,
   "metadata": {},
   "outputs": [
    {
     "data": {
      "text/plain": [
       "272"
      ]
     },
     "execution_count": 11,
     "metadata": {},
     "output_type": "execute_result"
    }
   ],
   "source": [
    "#domains with frequency count\n",
    "domain_count\n",
    "domain_count.pop('') "
   ]
  },
  {
   "cell_type": "code",
   "execution_count": 12,
   "metadata": {},
   "outputs": [],
   "source": [
    "#finding support: frequency/total\n",
    "domain_sup={}\n",
    "for k, v in domain_count.items():\n",
    "    domain_sup[k] = v/272"
   ]
  },
  {
   "cell_type": "code",
   "execution_count": 13,
   "metadata": {},
   "outputs": [],
   "source": [
    "a=dict(sorted(domain_count.items(), key=lambda item: item[1]))"
   ]
  },
  {
   "cell_type": "code",
   "execution_count": 15,
   "metadata": {},
   "outputs": [],
   "source": [
    "#calulate MIS for each itemset\n",
    "\n",
    "#Step 1: find SD\n",
    "#Lambda(mean)\n",
    "lamb = 0\n",
    "for val in domain_count.values(): \n",
    "    lamb += val \n",
    "lamb = lamb / len(domain_count) \n",
    "#Consider alpha(between 1 and 0) 0.5\n",
    "alpha= 0.5\n",
    "sd=lamb*(1-alpha)"
   ]
  },
  {
   "cell_type": "code",
   "execution_count": 188,
   "metadata": {},
   "outputs": [],
   "source": [
    "#Fixing LS\n",
    "def mis(domain_count,ls):\n",
    "    mis=[]\n",
    "    misdict={}\n",
    "    mis_val={}\n",
    "    for k, v in domain_count.items():\n",
    "        m=domain_count[k]-sd\n",
    "        if(m<ls):\n",
    "            mis.append(ls)\n",
    "            misdict[domain_count[k]]=ls\n",
    "            mis_val[k]=ls\n",
    "        else:\n",
    "            mis.append(m)\n",
    "            misdict[domain_count[k]]=m\n",
    "            mis_val[k]=m\n",
    "    #print(mis_val)\n",
    "    return mis_val"
   ]
  },
  {
   "cell_type": "code",
   "execution_count": 190,
   "metadata": {},
   "outputs": [],
   "source": [
    "#S and MIS\n",
    "ls=15\n",
    "mis_val=mis(domain_count,ls) #dictionary with item and MIS\n",
    "#mis_val \n",
    "#domain_count    # dictionary with support count and item"
   ]
  },
  {
   "cell_type": "code",
   "execution_count": 191,
   "metadata": {},
   "outputs": [
    {
     "data": {
      "text/plain": [
       "15"
      ]
     },
     "execution_count": 191,
     "metadata": {},
     "output_type": "execute_result"
    }
   ],
   "source": [
    "#finding min in mis values\n",
    "mis_min=min(mis_val.values())\n",
    "mis_min"
   ]
  },
  {
   "cell_type": "code",
   "execution_count": 62,
   "metadata": {},
   "outputs": [],
   "source": [
    "#ALGORITHM FOR TWO ITEMSETS\n",
    "#Step 1:\n",
    "#find L\n",
    "L={}\n",
    "for k, v in domain_count.items():\n",
    "        if(domain_count[k]>mis_val[k]):\n",
    "            L[k]=mis_val[k]\n",
    "\n",
    "#Step 2\n",
    "#Sort L\n",
    "temp= sorted(L.items(), key=operator.itemgetter(0))\n",
    "L1=sorted(temp, key=operator.itemgetter(1), reverse=True)"
   ]
  },
  {
   "cell_type": "code",
   "execution_count": 184,
   "metadata": {},
   "outputs": [
    {
     "data": {
      "text/plain": [
       "[('Image Processing,Cloud computing', 147),\n",
       " ('Database Management System,Cloud computing', 124),\n",
       " ('Image Processing,Database Management System', 106),\n",
       " ('Cloud computing,Web Development', 103),\n",
       " ('Cloud computing,Algorithms', 89),\n",
       " ('Data Structures,Cloud computing', 88),\n",
       " ('Machine Learning,Cloud computing', 87),\n",
       " ('Image Processing,Machine Learning', 81),\n",
       " ('Cloud computing,Operating System', 79),\n",
       " ('Image Processing,Web Development', 79),\n",
       " ('Database Management System,Web Development', 78),\n",
       " ('Image Processing,Algorithms', 75),\n",
       " ('Cloud computing,Compiler Design', 70),\n",
       " ('Image Processing,Data Structures', 70),\n",
       " ('Database Management System,Data Structures', 69),\n",
       " ('Database Management System,Algorithms', 66),\n",
       " ('Image Processing,Operating System', 66),\n",
       " ('Cloud computing,Deep Learning', 64),\n",
       " ('Database Management System,Operating System', 58),\n",
       " ('Database Management System,Machine Learning', 56),\n",
       " ('Data Structures,Operating System', 55),\n",
       " ('Image Processing,Compiler Design', 53),\n",
       " ('Machine Learning,Algorithms', 53),\n",
       " ('Big Data,Cloud computing', 50),\n",
       " ('Image Processing,Deep Learning', 50),\n",
       " ('Data Structures,Algorithms', 49),\n",
       " ('Database Management System,Compiler Design', 49),\n",
       " ('Machine Learning,Web Development', 49),\n",
       " ('Compiler Design,Operating System', 48),\n",
       " ('Data Structures,Web Development', 48),\n",
       " ('Algorithms,Web Development', 46),\n",
       " ('Image Processing,Big Data', 44),\n",
       " ('Database Management System,Big Data', 43),\n",
       " ('Algorithms,Operating System', 42),\n",
       " ('Data Structures,Compiler Design', 42),\n",
       " ('Database Management System,Deep Learning', 42),\n",
       " ('Machine Learning,Deep Learning', 41)]"
      ]
     },
     "execution_count": 184,
     "metadata": {},
     "output_type": "execute_result"
    }
   ],
   "source": [
    "#2 ITEMSETS \n",
    "def findsubsets(s, n):\n",
    "    return list(map(set, itertools.combinations(s, n)))   \n",
    "n = 2\n",
    "C2=findsubsets(L1, n)\n",
    "\n",
    "#count for each candidate itemset\n",
    "count={}\n",
    "for i,v in C2:\n",
    "    for index, row in data.iterrows():\n",
    "        t=\"\"\n",
    "        if(i[0] in row['ProjectDetailDomain'] and v[0] in row['ProjectDetailDomain']):\n",
    "            t=i[0]+\",\"+v[0]\n",
    "            if(t in count):\n",
    "                count[t]=count[t]+1\n",
    "            else:\n",
    "                count[t]=1\n",
    "\n",
    "                #checking criteria for count\n",
    "L2={}\n",
    "for k, v in count.items():\n",
    "        m=count[k]*100/272\n",
    "        if(m>mis_min):\n",
    "            L2[k]=count[k]\n",
    "            \n",
    "#FOR TIER 1, SORTED 2 ITEMSETS \n",
    "temp= sorted(L2.items(), key=operator.itemgetter(0))\n",
    "L2_sorted=sorted(temp, key=operator.itemgetter(1), reverse=True)\n",
    "L2_sorted"
   ]
  },
  {
   "cell_type": "code",
   "execution_count": 182,
   "metadata": {},
   "outputs": [
    {
     "data": {
      "text/plain": [
       "[('Image Processing,Cloud computing,Database Management System', 92),\n",
       " ('Image Processing,Cloud computing,Algorithms', 71),\n",
       " ('Image Processing,Cloud computing,Web Development', 70),\n",
       " ('Image Processing,Machine Learning,Cloud computing', 70),\n",
       " ('Database Management System,Cloud computing,Web Development', 69),\n",
       " ('Image Processing,Data Structures,Cloud computing', 66),\n",
       " ('Database Management System,Data Structures,Cloud computing', 62),\n",
       " ('Image Processing,Cloud computing,Operating System', 60),\n",
       " ('Database Management System,Cloud computing,Algorithms', 59),\n",
       " ('Image Processing,Database Management System,Web Development', 54),\n",
       " ('Database Management System,Cloud computing,Operating System', 51),\n",
       " ('Image Processing,Data Structures,Database Management System', 50),\n",
       " ('Image Processing,Database Management System,Algorithms', 50),\n",
       " ('Image Processing,Cloud computing,Compiler Design', 49),\n",
       " ('Data Structures,Cloud computing,Operating System', 46),\n",
       " ('Database Management System,Cloud computing,Compiler Design', 46),\n",
       " ('Database Management System,Machine Learning,Cloud computing', 46),\n",
       " ('Image Processing,Database Management System,Operating System', 46),\n",
       " ('Compiler Design,Cloud computing,Operating System', 45),\n",
       " ('Machine Learning,Cloud computing,Algorithms', 45),\n",
       " ('Cloud computing,Algorithms,Web Development', 44),\n",
       " ('Data Structures,Cloud computing,Algorithms', 44),\n",
       " ('Image Processing,Cloud computing,Deep Learning', 44),\n",
       " ('Machine Learning,Cloud computing,Web Development', 44),\n",
       " ('Data Structures,Cloud computing,Web Development', 43),\n",
       " ('Image Processing,Machine Learning,Database Management System', 43),\n",
       " ('Image Processing,Big Data,Cloud computing', 42)]"
      ]
     },
     "execution_count": 182,
     "metadata": {},
     "output_type": "execute_result"
    }
   ],
   "source": [
    "#3 ITEMSETS\n",
    "def findsubsets(s, n):\n",
    "    return list(map(set, itertools.combinations(s, n))) \n",
    "n = 3\n",
    "C3=findsubsets(L1, n)\n",
    "\n",
    "count={}\n",
    "for a,b,c in C3:\n",
    "    for index, row in data.iterrows():\n",
    "        t=\"\"\n",
    "        if(a[0] in row['ProjectDetailDomain'] and b[0] in row['ProjectDetailDomain'] and c[0] in row['ProjectDetailDomain']):\n",
    "            t=a[0]+\",\"+b[0]+','+c[0]\n",
    "            if(t in count):\n",
    "                count[t]=count[t]+1\n",
    "            else:\n",
    "                count[t]=1\n",
    "                \n",
    "L3={}\n",
    "for k, v in count.items():\n",
    "        m=count[k]*100/272\n",
    "        if(m>mis_min):\n",
    "            L3[k]=count[k]\n",
    "            \n",
    "#FOR TIER 1, SORTED 3 ITEMSETS \n",
    "temp= sorted(L3.items(), key=operator.itemgetter(0))\n",
    "L3_sorted=sorted(temp, key=operator.itemgetter(1), reverse=True)\n",
    "L3_sorted"
   ]
  },
  {
   "cell_type": "code",
   "execution_count": 185,
   "metadata": {},
   "outputs": [
    {
     "data": {
      "text/plain": [
       "[('Image Processing,Cloud computing,Database Management System,Algorithms',\n",
       "  47),\n",
       " ('Image Processing,Data Structures,Cloud computing,Database Management System',\n",
       "  47),\n",
       " ('Image Processing,Cloud computing,Database Management System,Web Development',\n",
       "  46),\n",
       " ('Image Processing,Cloud computing,Database Management System,Operating System',\n",
       "  42)]"
      ]
     },
     "execution_count": 185,
     "metadata": {},
     "output_type": "execute_result"
    }
   ],
   "source": [
    "#4 ITEMSETS\n",
    "def findsubsets(s, n):\n",
    "    return list(map(set, itertools.combinations(s, n))) \n",
    "n = 4\n",
    "C4=findsubsets(L1, n)\n",
    "\n",
    "count={}\n",
    "for a,b,c,d in C4:\n",
    "    for index, row in data.iterrows():\n",
    "        t=\"\"\n",
    "        if(a[0] in row['ProjectDetailDomain'] and b[0] in row['ProjectDetailDomain'] and c[0] in row['ProjectDetailDomain'] and d[0] in row['ProjectDetailDomain']):\n",
    "            t=a[0]+\",\"+b[0]+','+c[0]+','+d[0]\n",
    "            if(t in count):\n",
    "                count[t]=count[t]+1\n",
    "            else:\n",
    "                count[t]=1\n",
    "\n",
    "L4={}\n",
    "for k, v in count.items():\n",
    "        m=count[k]*100/272\n",
    "        if(m>mis_min):\n",
    "            L4[k]=count[k]\n",
    "            \n",
    "#FOR TIER 1, SORTED 4 ITEMSETS \n",
    "temp= sorted(L4.items(), key=operator.itemgetter(0))\n",
    "L4_sorted=sorted(temp, key=operator.itemgetter(1), reverse=True)\n",
    "L4_sorted"
   ]
  },
  {
   "cell_type": "code",
   "execution_count": 187,
   "metadata": {},
   "outputs": [
    {
     "data": {
      "text/plain": [
       "[]"
      ]
     },
     "execution_count": 187,
     "metadata": {},
     "output_type": "execute_result"
    }
   ],
   "source": [
    "#5 ITEMSETS\n",
    "def findsubsets(s, n):\n",
    "    return list(map(set, itertools.combinations(s, n))) \n",
    "n = 5\n",
    "C5=findsubsets(L1, n)\n",
    "\n",
    "count={}\n",
    "for a,b,c,d,e in C5:\n",
    "    for index, row in data.iterrows():\n",
    "        t=\"\"\n",
    "        if(a[0] in row['ProjectDetailDomain'] and b[0] in row['ProjectDetailDomain'] and c[0] in row['ProjectDetailDomain'] and d[0] in row['ProjectDetailDomain'] and e[0] in row['ProjectDetailDomain']):\n",
    "            t=a[0]+\",\"+b[0]+','+c[0]+','+d[0]+','+e[0]\n",
    "            if(t in count):\n",
    "                count[t]=count[t]+1\n",
    "            else:\n",
    "                count[t]=1\n",
    "\n",
    "L5={}\n",
    "for k, v in count.items():\n",
    "        m=count[k]*100/272\n",
    "        if(m>mis_min):\n",
    "            L5[k]=count[k]\n",
    "            \n",
    "#FOR TIER 1, SORTED 5 ITEMSETS \n",
    "temp= sorted(L5.items(), key=operator.itemgetter(0))\n",
    "L5_sorted=sorted(temp, key=operator.itemgetter(1), reverse=True)\n",
    "L5_sorted"
   ]
  },
  {
   "cell_type": "code",
   "execution_count": 208,
   "metadata": {},
   "outputs": [
    {
     "data": {
      "text/plain": [
       "[('Cloud computing,Image Processing', 147),\n",
       " ('Cloud computing,Database Management System', 124),\n",
       " ('Database Management System,Image Processing', 106),\n",
       " ('Cloud computing,Web Development', 103),\n",
       " ('Cloud computing,Algorithms', 89),\n",
       " ('Cloud computing,Data Structures', 88),\n",
       " ('Machine Learning,Cloud computing', 87),\n",
       " ('Machine Learning,Image Processing', 81),\n",
       " ('Cloud computing,Operating System', 79),\n",
       " ('Image Processing,Web Development', 79),\n",
       " ('Database Management System,Web Development', 78),\n",
       " ('Algorithms,Image Processing', 75),\n",
       " ('Cloud computing,Compiler Design', 70),\n",
       " ('Data Structures,Image Processing', 70),\n",
       " ('Data Structures,Database Management System', 69),\n",
       " ('Algorithms,Database Management System', 66),\n",
       " ('Operating System,Image Processing', 66),\n",
       " ('Cloud computing,Deep Learning', 64),\n",
       " ('Operating System,Database Management System', 58),\n",
       " ('Machine Learning,Database Management System', 56),\n",
       " ('Data Structures,Operating System', 55),\n",
       " ('Compiler Design,Image Processing', 53),\n",
       " ('Machine Learning,Algorithms', 53),\n",
       " ('Cloud computing,Big Data', 50),\n",
       " ('Deep Learning,Image Processing', 50),\n",
       " ('Compiler Design,Database Management System', 49),\n",
       " ('Data Structures,Algorithms', 49),\n",
       " ('Machine Learning,Web Development', 49),\n",
       " ('Compiler Design,Operating System', 48),\n",
       " ('Data Structures,Web Development', 48),\n",
       " ('Algorithms,Web Development', 46),\n",
       " ('Big Data,Image Processing', 44),\n",
       " ('Big Data,Database Management System', 43),\n",
       " ('Algorithms,Operating System', 42),\n",
       " ('Data Structures,Compiler Design', 42),\n",
       " ('Deep Learning,Database Management System', 42),\n",
       " ('Machine Learning,Deep Learning', 41)]"
      ]
     },
     "execution_count": 208,
     "metadata": {},
     "output_type": "execute_result"
    }
   ],
   "source": [
    "#changing alpha and LS values \n",
    "#Lambda is mean value\n",
    "\n",
    "alpha2= 0.9\n",
    "sd=lamb*(1-alpha2)\n",
    "ls=30\n",
    "mis_val2=mis(domain_count,ls)\n",
    "mis_min2=min(mis_val2.values())\n",
    "\n",
    "L_2={}\n",
    "for k, v in domain_count.items():\n",
    "        if(domain_count[k]>mis_val2[k]):\n",
    "            L_2[k]=mis_val2[k]\n",
    "\n",
    "#Step 2\n",
    "#Sort L\n",
    "temp= sorted(L_2.items(), key=operator.itemgetter(0))\n",
    "L_21=sorted(temp, key=operator.itemgetter(1), reverse=True)\n",
    "\n",
    "#2 ITEMSETS \n",
    "def findsubsets(s, n):\n",
    "    return list(map(set, itertools.combinations(s, n)))   \n",
    "n = 2\n",
    "C2=findsubsets(L_21, n)\n",
    "\n",
    "#count for each candidate itemset\n",
    "count={}\n",
    "for i,v in C2:\n",
    "    for index, row in data.iterrows():\n",
    "        t=\"\"\n",
    "        if(i[0] in row['ProjectDetailDomain'] and v[0] in row['ProjectDetailDomain']):\n",
    "            t=i[0]+\",\"+v[0]\n",
    "            if(t in count):\n",
    "                count[t]=count[t]+1\n",
    "            else:\n",
    "                count[t]=1\n",
    "\n",
    "                #checking criteria for count\n",
    "L_12={}\n",
    "for k, v in count.items():\n",
    "        m=count[k]*100/272\n",
    "        if(m>mis_min):\n",
    "            L_12[k]=count[k]\n",
    "            \n",
    "#FOR TIER 1, SORTED 2 ITEMSETS \n",
    "temp= sorted(L_12.items(), key=operator.itemgetter(0))\n",
    "L_12_sorted=sorted(temp, key=operator.itemgetter(1), reverse=True)\n",
    "L_12_sorted"
   ]
  },
  {
   "cell_type": "code",
   "execution_count": 209,
   "metadata": {},
   "outputs": [
    {
     "data": {
      "text/plain": [
       "[('Database Management System,Cloud computing,Image Processing', 92),\n",
       " ('Cloud computing,Algorithms,Image Processing', 71),\n",
       " ('Cloud computing,Image Processing,Web Development', 70),\n",
       " ('Machine Learning,Cloud computing,Image Processing', 70),\n",
       " ('Cloud computing,Database Management System,Web Development', 69),\n",
       " ('Cloud computing,Data Structures,Image Processing', 66),\n",
       " ('Cloud computing,Data Structures,Database Management System', 62),\n",
       " ('Operating System,Cloud computing,Image Processing', 60),\n",
       " ('Cloud computing,Algorithms,Database Management System', 59),\n",
       " ('Database Management System,Image Processing,Web Development', 54),\n",
       " ('Operating System,Cloud computing,Database Management System', 51),\n",
       " ('Database Management System,Algorithms,Image Processing', 50),\n",
       " ('Database Management System,Data Structures,Image Processing', 50),\n",
       " ('Compiler Design,Cloud computing,Image Processing', 49),\n",
       " ('Cloud computing,Data Structures,Operating System', 46),\n",
       " ('Compiler Design,Cloud computing,Database Management System', 46),\n",
       " ('Machine Learning,Cloud computing,Database Management System', 46),\n",
       " ('Operating System,Database Management System,Image Processing', 46),\n",
       " ('Compiler Design,Cloud computing,Operating System', 45),\n",
       " ('Machine Learning,Cloud computing,Algorithms', 45),\n",
       " ('Cloud computing,Algorithms,Data Structures', 44),\n",
       " ('Cloud computing,Algorithms,Web Development', 44),\n",
       " ('Cloud computing,Deep Learning,Image Processing', 44),\n",
       " ('Machine Learning,Cloud computing,Web Development', 44),\n",
       " ('Cloud computing,Data Structures,Web Development', 43),\n",
       " ('Database Management System,Machine Learning,Image Processing', 43),\n",
       " ('Cloud computing,Big Data,Image Processing', 42)]"
      ]
     },
     "execution_count": 209,
     "metadata": {},
     "output_type": "execute_result"
    }
   ],
   "source": [
    "#3 ITEMSETS\n",
    "def findsubsets(s, n):\n",
    "    return list(map(set, itertools.combinations(s, n))) \n",
    "n = 3\n",
    "C3=findsubsets(L_21, n)\n",
    "\n",
    "count={}\n",
    "for a,b,c in C3:\n",
    "    for index, row in data.iterrows():\n",
    "        t=\"\"\n",
    "        if(a[0] in row['ProjectDetailDomain'] and b[0] in row['ProjectDetailDomain'] and c[0] in row['ProjectDetailDomain']):\n",
    "            t=a[0]+\",\"+b[0]+','+c[0]\n",
    "            if(t in count):\n",
    "                count[t]=count[t]+1\n",
    "            else:\n",
    "                count[t]=1\n",
    "                \n",
    "L_3={}\n",
    "for k, v in count.items():\n",
    "        m=count[k]*100/272\n",
    "        if(m>mis_min):\n",
    "            L_3[k]=count[k]\n",
    "            \n",
    "#FOR TIER 1, SORTED 3 ITEMSETS \n",
    "temp= sorted(L_3.items(), key=operator.itemgetter(0))\n",
    "L_3_sorted=sorted(temp, key=operator.itemgetter(1), reverse=True)\n",
    "L_3_sorted"
   ]
  },
  {
   "cell_type": "code",
   "execution_count": 210,
   "metadata": {},
   "outputs": [
    {
     "data": {
      "text/plain": [
       "[('Database Management System,Cloud computing,Algorithms,Image Processing',\n",
       "  47),\n",
       " ('Database Management System,Cloud computing,Data Structures,Image Processing',\n",
       "  47),\n",
       " ('Database Management System,Cloud computing,Image Processing,Web Development',\n",
       "  46),\n",
       " ('Operating System,Database Management System,Cloud computing,Image Processing',\n",
       "  42)]"
      ]
     },
     "execution_count": 210,
     "metadata": {},
     "output_type": "execute_result"
    }
   ],
   "source": [
    "#4 ITEMSETS\n",
    "def findsubsets(s, n):\n",
    "    return list(map(set, itertools.combinations(s, n))) \n",
    "n = 4\n",
    "C4=findsubsets(L_21, n)\n",
    "\n",
    "count={}\n",
    "for a,b,c,d in C4:\n",
    "    for index, row in data.iterrows():\n",
    "        t=\"\"\n",
    "        if(a[0] in row['ProjectDetailDomain'] and b[0] in row['ProjectDetailDomain'] and c[0] in row['ProjectDetailDomain'] and d[0] in row['ProjectDetailDomain']):\n",
    "            t=a[0]+\",\"+b[0]+','+c[0]+','+d[0]\n",
    "            if(t in count):\n",
    "                count[t]=count[t]+1\n",
    "            else:\n",
    "                count[t]=1\n",
    "\n",
    "L_4={}\n",
    "for k, v in count.items():\n",
    "        m=count[k]*100/272\n",
    "        if(m>mis_min):\n",
    "            L_4[k]=count[k]\n",
    "            \n",
    "#FOR TIER 1, SORTED 4 ITEMSETS \n",
    "temp= sorted(L_4.items(), key=operator.itemgetter(0))\n",
    "L_4_sorted=sorted(temp, key=operator.itemgetter(1), reverse=True)\n",
    "L_4_sorted"
   ]
  },
  {
   "cell_type": "code",
   "execution_count": null,
   "metadata": {},
   "outputs": [],
   "source": []
  },
  {
   "cell_type": "code",
   "execution_count": null,
   "metadata": {},
   "outputs": [],
   "source": []
  },
  {
   "cell_type": "code",
   "execution_count": null,
   "metadata": {},
   "outputs": [],
   "source": []
  },
  {
   "cell_type": "code",
   "execution_count": null,
   "metadata": {},
   "outputs": [],
   "source": []
  },
  {
   "cell_type": "code",
   "execution_count": null,
   "metadata": {},
   "outputs": [],
   "source": []
  },
  {
   "cell_type": "code",
   "execution_count": null,
   "metadata": {},
   "outputs": [],
   "source": [
    "#ALGO FOR K ITEMSETS - DID NOT RUN(TOOK TOO LONG)\n",
    "def findsubsets(s, n):\n",
    "    return list(map(set, itertools.combinations(s, n)))   \n",
    "\n",
    "for n in range(2, len(L1)):\n",
    "    CN=findsubsets(L1, n)\n",
    "    #print(CN)\n",
    "    #print(\"-------------------------------------------------------\")\n",
    "    count={}\n",
    "    for i,v in CN:\n",
    "        for index, row in data.iterrows():\n",
    "            t=\"\"\n",
    "            if(i[0] in row['ProjectDetailDomain'] and v[0] in row['ProjectDetailDomain']):\n",
    "                t=i[0]+\",\"+v[0]\n",
    "                if(t in count):\n",
    "                    count[t]=count[t]+1\n",
    "                else:\n",
    "                    count[t]=1\n",
    "    Lk={}\n",
    "    for k, v in count.items():\n",
    "            m=count[k]*100/272\n",
    "            if(m>mis_min):\n",
    "                Lk[k]=count[k]\n",
    "    print(\"For \",n,\" Itemsets\")\n",
    "    print(\"\\n\")\n",
    "    print(Lk)"
   ]
  }
 ],
 "metadata": {
  "kernelspec": {
   "display_name": "Python 3",
   "language": "python",
   "name": "python3"
  },
  "language_info": {
   "codemirror_mode": {
    "name": "ipython",
    "version": 3
   },
   "file_extension": ".py",
   "mimetype": "text/x-python",
   "name": "python",
   "nbconvert_exporter": "python",
   "pygments_lexer": "ipython3",
   "version": "3.7.0"
  }
 },
 "nbformat": 4,
 "nbformat_minor": 2
}
