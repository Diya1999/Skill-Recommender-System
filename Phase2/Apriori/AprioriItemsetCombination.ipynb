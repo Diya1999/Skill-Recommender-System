{
 "cells": [
  {
   "cell_type": "code",
   "execution_count": 1,
   "metadata": {},
   "outputs": [],
   "source": [
    "import numpy as np\n",
    "import pandas as pd\n",
    "import operator\n",
    "import itertools\n",
    "from itertools import combinations, chain"
   ]
  },
  {
   "cell_type": "code",
   "execution_count": 7,
   "metadata": {},
   "outputs": [],
   "source": [
    "data_main= pd.read_csv(r\"C:\\Users\\diyas\\Documents\\Recommendation_system\\combinedFinalMasterDataset_updatedSoftwareTools.csv\") "
   ]
  },
  {
   "cell_type": "code",
   "execution_count": 8,
   "metadata": {},
   "outputs": [
    {
     "data": {
      "text/plain": [
       "\"var='ScholarshipsNLP'\\nvar='AwardsNLP'\\nvar='PublicationNLP'\\nvar='WorkshopsDomain'\\nvar='ResearchDomain'\\nvar='InternshipProjectDomain'\\nvar='ProgLanguages'\\nvar='SoftwareTools'\\nvar='ProjectDetailDomain'\\nvar='LanguagesNLP'\\nvar='ExternalCertificatesDomain'\\nvar='WorkshopsOrg'\\nvar='WorkshopsDomain'\\nvar='VolunteeringWork\""
      ]
     },
     "execution_count": 8,
     "metadata": {},
     "output_type": "execute_result"
    }
   ],
   "source": [
    "data_main.columns\n",
    "\"\"\"var='ScholarshipsNLP'\n",
    "var='AwardsNLP'\n",
    "var='PublicationNLP'\n",
    "var='WorkshopsDomain'\n",
    "var='ResearchDomain'\n",
    "var='InternshipProjectDomain'\n",
    "var='ProgLanguages'\n",
    "var='SoftwareTools'\n",
    "var='ProjectDetailDomain'\n",
    "var='LanguagesNLP'\n",
    "var='ExternalCertificatesDomain'\n",
    "var='WorkshopsOrg'\n",
    "var='WorkshopsDomain'\n",
    "var='VolunteeringWork\"\"\""
   ]
  },
  {
   "cell_type": "code",
   "execution_count": 111,
   "metadata": {},
   "outputs": [],
   "source": [
    "class PreprocessApriori:\n",
    "    def __init__(self, masterData):\n",
    "        self.masterData = masterData\n",
    "        \n",
    "    def preprocessTier(self,data):\n",
    "        data['TierLevel']=data['TierLevel'].replace(to_replace =\"1.0\",value =\"1\")\n",
    "        data['TierLevel']=data['TierLevel'].replace(to_replace =\"2.0\",value =\"2\")\n",
    "        data['TierLevel']=data['TierLevel'].replace(to_replace =\"3.0\",value =\"3\")\n",
    "        return data\n",
    "    \n",
    "    def columnwiseItemPreprocess(self,data,columns):\n",
    "        df=data.copy()\n",
    "        for column in columns:\n",
    "            df[column]=df[column].str.strip('##').str.split('##')\n",
    "            for i,v in df.iterrows():\n",
    "                l=[]\n",
    "                #print(v)\n",
    "                #print(type(v[column]))\n",
    "                if(isinstance(v[column],list)):\n",
    "                    for k in v[column]:\n",
    "                        #print(k)\n",
    "                        if(k!=''):\n",
    "                            l.append(column+\"_\"+k)\n",
    "                #print(l)\n",
    "                df[column][i]=l\n",
    "        return df\n",
    "    \n",
    "    def columnwiseItemGeneration(self,data,columns):\n",
    "        df=data.copy()\n",
    "        df['combinedItems']=np.empty((len(df), 0)).tolist()\n",
    "        for i,v in df.iterrows():\n",
    "            l=df['combinedItems'][i]\n",
    "            for column in columns:\n",
    "                #print(v)\n",
    "                #print(type(v[column]))\n",
    "                if(isinstance(v[column],list)):\n",
    "                    l=l+v[column]\n",
    "            #print(l)\n",
    "            df['combinedItems'][i]=l\n",
    "        return df"
   ]
  },
  {
   "cell_type": "code",
   "execution_count": 112,
   "metadata": {},
   "outputs": [
    {
     "name": "stderr",
     "output_type": "stream",
     "text": [
      "C:\\ProgramData\\Anaconda3\\lib\\site-packages\\ipykernel_launcher.py:25: SettingWithCopyWarning: \n",
      "A value is trying to be set on a copy of a slice from a DataFrame\n",
      "\n",
      "See the caveats in the documentation: http://pandas.pydata.org/pandas-docs/stable/indexing.html#indexing-view-versus-copy\n",
      "C:\\ProgramData\\Anaconda3\\lib\\site-packages\\ipykernel_launcher.py:39: SettingWithCopyWarning: \n",
      "A value is trying to be set on a copy of a slice from a DataFrame\n",
      "\n",
      "See the caveats in the documentation: http://pandas.pydata.org/pandas-docs/stable/indexing.html#indexing-view-versus-copy\n"
     ]
    }
   ],
   "source": [
    "columns=['ScholarshipsNLP','ProjectDetailDomain']\n",
    "a= PreprocessApriori(data_main)\n",
    "temp1=a.columnwiseItemPreprocess(data_main,columns)\n",
    "temp2=a.columnwiseItemGeneration(temp1,columns)"
   ]
  },
  {
   "cell_type": "code",
   "execution_count": 110,
   "metadata": {},
   "outputs": [
    {
     "data": {
      "text/plain": [
       "0      [ScholarshipsNLP_cnr, ProjectDetailDomain_Clou...\n",
       "1      [ScholarshipsNLP_cnr, ScholarshipsNLP_mrd, Pro...\n",
       "2      [ScholarshipsNLP_cnr, ProjectDetailDomain_Oper...\n",
       "3      [ScholarshipsNLP_cnr, ProjectDetailDomain_Clou...\n",
       "4      [ProjectDetailDomain_Database Management Syste...\n",
       "5      [ScholarshipsNLP_cnr, ProjectDetailDomain_Clou...\n",
       "6      [ScholarshipsNLP_cnr, ProjectDetailDomain_Clou...\n",
       "7      [ProjectDetailDomain_Cloud computing, ProjectD...\n",
       "8      [ScholarshipsNLP_cnr, ProjectDetailDomain_Mach...\n",
       "9      [ScholarshipsNLP_cnr, ScholarshipsNLP_mrd, Pro...\n",
       "10                                                    []\n",
       "11     [ScholarshipsNLP_cnr, ProjectDetailDomain_Data...\n",
       "12     [ScholarshipsNLP_cnr, ProjectDetailDomain_Clou...\n",
       "13     [ScholarshipsNLP_cnr, ScholarshipsNLP_mrd, Pro...\n",
       "14     [ProjectDetailDomain_Database Management Syste...\n",
       "15     [ScholarshipsNLP_cnr, ProjectDetailDomain_Clou...\n",
       "16     [ProjectDetailDomain_Cloud computing, ProjectD...\n",
       "17     [ProjectDetailDomain_Cloud computing, ProjectD...\n",
       "18     [ProjectDetailDomain_Database Management Syste...\n",
       "19     [ProjectDetailDomain_Cloud computing, ProjectD...\n",
       "20     [ProjectDetailDomain_Cloud computing, ProjectD...\n",
       "21     [ScholarshipsNLP_mrd, ProjectDetailDomain_Clou...\n",
       "22     [ScholarshipsNLP_cnr, ProjectDetailDomain_Clou...\n",
       "23     [ProjectDetailDomain_Database Management Syste...\n",
       "24                                                    []\n",
       "25     [ProjectDetailDomain_Operating System, Project...\n",
       "26     [ProjectDetailDomain_Machine Learning, Project...\n",
       "27     [ScholarshipsNLP_cnr, ProjectDetailDomain_Mach...\n",
       "28     [ScholarshipsNLP_cnr, ProjectDetailDomain_Clou...\n",
       "29     [ScholarshipsNLP_cnr, ScholarshipsNLP_distinct...\n",
       "                             ...                        \n",
       "471    [ProjectDetailDomain_Cloud computing, ProjectD...\n",
       "472    [ProjectDetailDomain_Cloud computing, ProjectD...\n",
       "473    [ProjectDetailDomain_Cloud computing, ProjectD...\n",
       "474    [ProjectDetailDomain_Cloud computing, ProjectD...\n",
       "475    [ProjectDetailDomain_Cloud computing, ProjectD...\n",
       "476    [ProjectDetailDomain_Cloud computing, ProjectD...\n",
       "477    [ProjectDetailDomain_Cloud computing, ProjectD...\n",
       "478    [ProjectDetailDomain_Cloud computing, ProjectD...\n",
       "479    [ProjectDetailDomain_Cloud computing, ProjectD...\n",
       "480    [ProjectDetailDomain_Cloud computing, ProjectD...\n",
       "481                                                   []\n",
       "482                                                   []\n",
       "483    [ProjectDetailDomain_Cloud computing, ProjectD...\n",
       "484    [ProjectDetailDomain_Cloud computing, ProjectD...\n",
       "485    [ProjectDetailDomain_Big Data, ProjectDetailDo...\n",
       "486    [ProjectDetailDomain_Cloud computing, ProjectD...\n",
       "487               [ProjectDetailDomain_Machine Learning]\n",
       "488    [ScholarshipsNLP_distinction, ProjectDetailDom...\n",
       "489    [ScholarshipsNLP_distinction, ProjectDetailDom...\n",
       "490    [ScholarshipsNLP_distinction, ProjectDetailDom...\n",
       "491    [ProjectDetailDomain_Web Development, ProjectD...\n",
       "492    [ScholarshipsNLP_cnr, ScholarshipsNLP_mrd, Pro...\n",
       "493    [ScholarshipsNLP_cnr, ScholarshipsNLP_mrd, Pro...\n",
       "494    [ProjectDetailDomain_Database Management Syste...\n",
       "495    [ProjectDetailDomain_Cloud computing, ProjectD...\n",
       "496    [ProjectDetailDomain_Web Development, ProjectD...\n",
       "497    [ProjectDetailDomain_Cloud computing, ProjectD...\n",
       "498    [ProjectDetailDomain_Database Management Syste...\n",
       "499    [ProjectDetailDomain_Cloud computing, ProjectD...\n",
       "500    [ProjectDetailDomain_Machine Learning, Project...\n",
       "Name: combinedItems, Length: 501, dtype: object"
      ]
     },
     "execution_count": 110,
     "metadata": {},
     "output_type": "execute_result"
    }
   ],
   "source": [
    "temp2['combinedItems']"
   ]
  },
  {
   "cell_type": "code",
   "execution_count": null,
   "metadata": {},
   "outputs": [],
   "source": [
    "#ALGORITHM FOR COMBINED ITEMSETS\n",
    "\n",
    "#Parameter\n",
    "#1: dataset\n",
    "#2: Tier, Company name, etc\n",
    "#3: LS\n",
    "#4: Alpha\n",
    "#5: list of column names\n",
    "\n",
    "#preprocess\n",
    "#col_name of itemset\n",
    "\n",
    "#combine all columns\n",
    "\n",
    "#apriori algo "
   ]
  },
  {
   "cell_type": "code",
   "execution_count": null,
   "metadata": {},
   "outputs": [],
   "source": [
    "class Apriori:\n",
    "    def __init__(self, masterData):\n",
    "        self.masterData = masterData\n",
    "        \n",
    "    def findsubsets(self,s, n):\n",
    "        return list(map(set, itertools.combinations(s, n)))\n",
    "    \n",
    "    def generateItemsets(self,data):\n",
    "        \n",
    "        \n",
    "    def subsetData(self,data_main,var):\n",
    "        data= data_main[[var,'TierLevel']]\n",
    "        #print(data)\n",
    "        data = data.dropna()\n",
    "        data = data[data['TierLevel'] == '1'] \n",
    "        data[var]=data[var].str.split('##')\n",
    "        return data\n",
    "        \n",
    "    def findDomainCount(self,var,data,ls):\n",
    "        print(\"FOR \",var)\n",
    "        print(\"LS = \",ls)\n",
    "        print(\"\\n\")\n",
    "        #finding frequency of domains\n",
    "        domain_count={}\n",
    "        for v,k in data[var].iteritems():\n",
    "            for i in k:\n",
    "                if i in domain_count:\n",
    "                    domain_count[i]=domain_count[i]+1\n",
    "                else:\n",
    "                    domain_count[i]=1\n",
    "        return domian_count\n",
    "                    \n",
    "    def findLambda(domain_count):\n",
    "        lamb = 0\n",
    "        for val in domain_count.values(): \n",
    "            lamb += val \n",
    "        lamb = lamb / len(domain_count) \n",
    "        return lamb\n",
    "\n",
    "    def mis(domain_count,ls,alpha):\n",
    "        sd=lamb*(1-alpha)\n",
    "        mis=[]\n",
    "        misdict={}\n",
    "        mis_val={}\n",
    "        for k, v in domain_count.items():\n",
    "            m=domain_count[k]-sd\n",
    "            if(m<ls):\n",
    "                mis.append(ls)\n",
    "                misdict[domain_count[k]]=ls\n",
    "                mis_val[k]=ls\n",
    "            else:\n",
    "                mis.append(m)\n",
    "                misdict[domain_count[k]]=m\n",
    "                mis_val[k]=m\n",
    "        #print(mis_val)\n",
    "        return mis_val\n",
    "    \n",
    "    def filterMIS(mis_val,domain_count):\n",
    "        mis_min2=min(mis_val.values())\n",
    "        L_2={}\n",
    "        for k, v in domain_count.items():\n",
    "                if(domain_count[k]>=mis_val[k]):\n",
    "                    L_2[k]=mis_val[k]"
   ]
  },
  {
   "cell_type": "code",
   "execution_count": null,
   "metadata": {},
   "outputs": [],
   "source": []
  },
  {
   "cell_type": "code",
   "execution_count": null,
   "metadata": {},
   "outputs": [],
   "source": []
  }
 ],
 "metadata": {
  "kernelspec": {
   "display_name": "Python 3",
   "language": "python",
   "name": "python3"
  },
  "language_info": {
   "codemirror_mode": {
    "name": "ipython",
    "version": 3
   },
   "file_extension": ".py",
   "mimetype": "text/x-python",
   "name": "python",
   "nbconvert_exporter": "python",
   "pygments_lexer": "ipython3",
   "version": "3.7.0"
  }
 },
 "nbformat": 4,
 "nbformat_minor": 2
}
