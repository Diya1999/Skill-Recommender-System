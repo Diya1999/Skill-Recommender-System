{
 "cells": [
  {
   "cell_type": "code",
   "execution_count": 4,
   "metadata": {},
   "outputs": [],
   "source": [
    "import pandas as pd\n",
    "import numpy as np\n",
    "import operator\n",
    "import itertools\n",
    "from itertools import combinations, chain\n",
    "def PreprocessCTC(data):\n",
    "    df=data\n",
    "    for idx, row in df.iterrows():\n",
    "        if row.CTC > 100:\n",
    "            data.set_value(idx, 'CTC', row.CTC/100000)\n",
    "    return(data)\n",
    "\n",
    "def TierProcess(data):\n",
    "    df_ctc=PreprocessCTC(data)\n",
    "    df_ctc['CTC'] = pd.to_numeric(df_ctc['CTC'],errors='coerce')\n",
    "    #map CTC to Tier level based on 2021 Tier mapping\n",
    "    for idx, row in data.iterrows():\n",
    "        if np.isnan(row.TierLevel):\n",
    "            #print(row.CTC) #mostly all 0 are printed here\n",
    "            if row.CTC > 0 and row.CTC <= 5:\n",
    "                df_ctc.set_value(idx, 'TierLevel', 3)\n",
    "            if row.CTC > 5 and row.CTC <= 10:\n",
    "                df_ctc.set_value(idx, 'TierLevel', 2)\n",
    "            if row.CTC > 10:\n",
    "                df_ctc.set_value(idx, 'TierLevel', 1)\n",
    "    return(df_ctc)"
   ]
  },
  {
   "cell_type": "code",
   "execution_count": 5,
   "metadata": {},
   "outputs": [],
   "source": [
    "master=pd.read_csv('UpdatedMaster19Feb_NLP.csv')\n",
    "master1 = master.drop_duplicates(subset=['USN','CompanyName_New'], keep='last')"
   ]
  },
  {
   "cell_type": "code",
   "execution_count": 6,
   "metadata": {},
   "outputs": [
    {
     "name": "stderr",
     "output_type": "stream",
     "text": [
      "<ipython-input-4-d8b6d95616ae>:15: SettingWithCopyWarning: \n",
      "A value is trying to be set on a copy of a slice from a DataFrame.\n",
      "Try using .loc[row_indexer,col_indexer] = value instead\n",
      "\n",
      "See the caveats in the documentation: https://pandas.pydata.org/pandas-docs/stable/user_guide/indexing.html#returning-a-view-versus-a-copy\n",
      "  df_ctc['CTC'] = pd.to_numeric(df_ctc['CTC'],errors='coerce')\n"
     ]
    },
    {
     "data": {
      "text/plain": [
       "array(['Walmart Labs', 'TheMathCompany', 'NXP Semiconductors',\n",
       "       'Novarties Healthcare', 'Optum', 'Intuit', 'Cisco Systems',\n",
       "       'Raramuri Technology', 'Rupeek Fintech', 'Enquero Global',\n",
       "       'AirAsia Technology Centre', 'Logmein', 'Samsung',\n",
       "       'Akamai Technologies', 'IBM', 'Mathworks', nan, 'Accenture',\n",
       "       'Wipro', 'LAM Research', 'Goldman Sachs', 'National Instruments',\n",
       "       'App Dynamics', 'Societe Generale', 'Morgan Stanley',\n",
       "       'Pluribus Networks', 'Sandvine', 'Microsoft', 'PWC', 'Commvault',\n",
       "       'Cure.Fit', 'Epsilon', 'Hewlett-Packard Enterprise',\n",
       "       'Zscaler Softech', 'Robert Bosch Engineering & Business Solutions',\n",
       "       'Amadeus Software Labs', 'Couchbase', 'Cloudera', 'Deloitte',\n",
       "       'Amazon', 'SymphonyAI', 'Kickdrum Technologies', 'Amagi', 'Groww',\n",
       "       'L&T Technology Services', 'Siemens Healthneers', 'Citrix',\n",
       "       'Flipkart', 'MakeMyTrip', 'Pensando Systems', 'NCR Corporations',\n",
       "       'Gameskraft Technologies', 'SAP Labs', 'Target', 'Analog Devices',\n",
       "       'Adobe'], dtype=object)"
      ]
     },
     "execution_count": 6,
     "metadata": {},
     "output_type": "execute_result"
    }
   ],
   "source": [
    "df_final=TierProcess(master1)\n",
    "df_final.CompanyName_New.unique()"
   ]
  },
  {
   "cell_type": "code",
   "execution_count": 7,
   "metadata": {},
   "outputs": [],
   "source": [
    "tier1 = df_final.loc[df_final['TierLevel'] == 1]"
   ]
  },
  {
   "cell_type": "code",
   "execution_count": 8,
   "metadata": {},
   "outputs": [],
   "source": [
    "tier1 = df_final.loc[df_final['TierLevel'] == 1]"
   ]
  },
  {
   "cell_type": "code",
   "execution_count": 9,
   "metadata": {},
   "outputs": [
    {
     "data": {
      "text/plain": [
       "array(['Walmart Labs', 'NXP Semiconductors', 'Novarties Healthcare',\n",
       "       'Optum', 'Intuit', 'Cisco Systems', 'Raramuri Technology',\n",
       "       'Rupeek Fintech', 'AirAsia Technology Centre', 'Samsung',\n",
       "       'Akamai Technologies', 'Mathworks', nan, 'Goldman Sachs',\n",
       "       'App Dynamics', 'Societe Generale', 'Morgan Stanley',\n",
       "       'Pluribus Networks', 'Sandvine', 'Microsoft', 'Commvault',\n",
       "       'Cure.Fit', 'Epsilon', 'Hewlett-Packard Enterprise',\n",
       "       'Zscaler Softech', 'Amadeus Software Labs', 'Couchbase',\n",
       "       'Cloudera', 'Amazon', 'SymphonyAI', 'Kickdrum Technologies',\n",
       "       'Amagi', 'Groww', 'Citrix', 'Flipkart', 'MakeMyTrip',\n",
       "       'Pensando Systems', 'NCR Corporations', 'Gameskraft Technologies',\n",
       "       'SAP Labs', 'Target', 'Analog Devices', 'PWC', 'LAM Research',\n",
       "       'IBM', 'Deloitte', 'Adobe', 'Logmein'], dtype=object)"
      ]
     },
     "execution_count": 9,
     "metadata": {},
     "output_type": "execute_result"
    }
   ],
   "source": [
    "tier1.CompanyName_New.unique()"
   ]
  },
  {
   "cell_type": "code",
   "execution_count": 10,
   "metadata": {},
   "outputs": [],
   "source": [
    "companydomainsdf=pd.read_csv('Company Domains - Sheet1.csv')\n",
    "df_merged = pd.merge(tier1, companydomainsdf, on=[\"CompanyName_New\"])\n"
   ]
  },
  {
   "cell_type": "code",
   "execution_count": 34,
   "metadata": {},
   "outputs": [],
   "source": [
    "def findsubsets(s, n):\n",
    "    return list(map(set, itertools.combinations(s, n)))   \n",
    "def find_SetsCompanyDomain(Domain_Name,number):\n",
    "    data= df_merged[['ProjectDetailDomain',Domain_Name]]\n",
    "    data['ProjectDetailDomain']=data['ProjectDetailDomain'].str.split('##')\n",
    "    data = data.dropna()\n",
    "    if(number==1):\n",
    "        data=data.loc[data[Domain_Name] == 1]\n",
    "    if(number!=1):\n",
    "        Domain_name=['Algorithms','Data Structures','ProjectDetailDomain']\n",
    "        data= df_merged[Domain_name]\n",
    "        data['ProjectDetailDomain']=data['ProjectDetailDomain'].str.split('##')\n",
    "        data = data.dropna()\n",
    "        data=data.loc[(data['Data Structures'] == 1) & (data['Algorithms']== 1)]\n",
    "    domain_count={}\n",
    "    for v,k in data['ProjectDetailDomain'].iteritems():\n",
    "        for i in k:\n",
    "            if i in domain_count:\n",
    "                domain_count[i]=domain_count[i]+1\n",
    "            else:\n",
    "                domain_count[i]=1\n",
    "    domain_count\n",
    "    try:\n",
    "        domain_count.pop('')\n",
    "    except:\n",
    "        placeholder=1\n",
    "    domain_sup={}\n",
    "    for k, v in domain_count.items():\n",
    "        domain_sup[k] = v/272\n",
    "    a=dict(sorted(domain_count.items(), key=lambda item: item[1]))\n",
    "    #calulate MIS for each itemset\n",
    "\n",
    "    #Step 1: find SD\n",
    "    #Lambda(mean)\n",
    "    lamb = 0\n",
    "    for val in domain_count.values(): \n",
    "        lamb += val \n",
    "    lamb = lamb / len(domain_count) \n",
    "    #Consider alpha(between 1 and 0) 0.5\n",
    "    alpha= 0.5\n",
    "    sd=lamb*(1-alpha)\n",
    "    #S and MIS\n",
    "    ls=8\n",
    "    mis_val=mis(domain_count,ls,alpha,lamb) #dictionary with item and MIS\n",
    "    #mis_val \n",
    "    #domain_count    # dictionary with support count and item\n",
    "    mis_min=min(mis_val.values())\n",
    "    L={}\n",
    "    for k, v in domain_count.items():\n",
    "        if(domain_count[k]>mis_val[k]):\n",
    "            L[k]=mis_val[k]\n",
    "    #Step 2\n",
    "    #Sort L\n",
    "    temp= sorted(L.items(), key=operator.itemgetter(0))\n",
    "    L1=sorted(temp, key=operator.itemgetter(1), reverse=True)\n",
    "    n = 2\n",
    "    C2=findsubsets(L1, n)\n",
    "    count={}\n",
    "    for i,v in C2:\n",
    "        for index, row in data.iterrows():\n",
    "            t=\"\"\n",
    "            if(i[0] in row['ProjectDetailDomain'] and v[0] in row['ProjectDetailDomain']):\n",
    "                t=i[0]+\",\"+v[0]\n",
    "                if(t in count):\n",
    "                    count[t]=count[t]+1\n",
    "                else:\n",
    "                    count[t]=1\n",
    "\n",
    "                #checking criteria for count\n",
    "    L2={}\n",
    "    for k, v in count.items():\n",
    "        m=count[k]*100/272\n",
    "        if(m>mis_min):\n",
    "            L2[k]=count[k]\n",
    "            \n",
    "    #FOR TIER 1, SORTED 2 ITEMSETS \n",
    "    temp= sorted(L2.items(), key=operator.itemgetter(0))\n",
    "    L2_sorted=sorted(temp, key=operator.itemgetter(1), reverse=True)\n",
    "    print(L2_sorted)\n",
    "    n = 3\n",
    "    C3=findsubsets(L1, n)\n",
    "    count={}\n",
    "    for a,b,c in C3:\n",
    "        for index, row in data.iterrows():\n",
    "            t=\"\"\n",
    "            if(a[0] in row['ProjectDetailDomain'] and b[0] in row['ProjectDetailDomain'] and c[0] in row['ProjectDetailDomain']):\n",
    "                t=a[0]+\",\"+b[0]+','+c[0]\n",
    "                if(t in count):\n",
    "                    count[t]=count[t]+1\n",
    "                else:\n",
    "                    count[t]=1\n",
    "                \n",
    "    L3={}\n",
    "    for k, v in count.items():\n",
    "            m=count[k]*100/272\n",
    "            if(m>mis_min):\n",
    "                L3[k]=count[k]\n",
    "            \n",
    "    #FOR TIER 1, SORTED 3 ITEMSETS \n",
    "    temp= sorted(L3.items(), key=operator.itemgetter(0))\n",
    "    L3_sorted=sorted(temp, key=operator.itemgetter(1), reverse=True)\n",
    "    print(L3_sorted)\n",
    "    n = 4\n",
    "    C4=findsubsets(L1, n)\n",
    "    count={}\n",
    "    for a,b,c,d in C4:\n",
    "        for index, row in data.iterrows():\n",
    "            t=\"\"\n",
    "            if(a[0] in row['ProjectDetailDomain'] and b[0] in row['ProjectDetailDomain'] and c[0] in row['ProjectDetailDomain'] and d[0] in row['ProjectDetailDomain']):\n",
    "                t=a[0]+\",\"+b[0]+','+c[0]+','+d[0]\n",
    "                if(t in count):\n",
    "                    count[t]=count[t]+1\n",
    "                else:\n",
    "                    count[t]=1\n",
    "\n",
    "    L4={}\n",
    "    for k, v in count.items():\n",
    "        m=count[k]*100/272\n",
    "        if(m>mis_min):\n",
    "            L4[k]=count[k]\n",
    "            \n",
    "    #FOR TIER 1, SORTED 4 ITEMSETS \n",
    "    temp= sorted(L4.items(), key=operator.itemgetter(0))\n",
    "    L4_sorted=sorted(temp, key=operator.itemgetter(1), reverse=True)\n",
    "    print(L4_sorted)"
   ]
  },
  {
   "cell_type": "code",
   "execution_count": 35,
   "metadata": {},
   "outputs": [],
   "source": [
    "def mis(domain_count,ls,alpha,lamb):\n",
    "    sd=lamb*(1-alpha)\n",
    "    mis=[]\n",
    "    misdict={}\n",
    "    mis_val={}\n",
    "    for k, v in domain_count.items():\n",
    "        m=domain_count[k]-sd\n",
    "        if(m<ls):\n",
    "            mis.append(ls)\n",
    "            misdict[domain_count[k]]=ls\n",
    "            mis_val[k]=ls\n",
    "        else:\n",
    "            mis.append(m)\n",
    "            misdict[domain_count[k]]=m\n",
    "            mis_val[k]=m\n",
    "    #print(mis_val)\n",
    "    return mis_val\n"
   ]
  },
  {
   "cell_type": "code",
   "execution_count": 36,
   "metadata": {},
   "outputs": [
    {
     "name": "stderr",
     "output_type": "stream",
     "text": [
      "<ipython-input-34-94a62b762717>:5: SettingWithCopyWarning: \n",
      "A value is trying to be set on a copy of a slice from a DataFrame.\n",
      "Try using .loc[row_indexer,col_indexer] = value instead\n",
      "\n",
      "See the caveats in the documentation: https://pandas.pydata.org/pandas-docs/stable/user_guide/indexing.html#returning-a-view-versus-a-copy\n",
      "  data['ProjectDetailDomain']=data['ProjectDetailDomain'].str.split('##')\n"
     ]
    },
    {
     "name": "stdout",
     "output_type": "stream",
     "text": [
      "[('Cloud computing,Image Processing', 41), ('Cloud computing,Database Management System', 33), ('Database Management System,Image Processing', 32), ('Cloud computing,Web Development', 31), ('Cloud computing,Algorithms', 26), ('Cloud computing,Data Structures', 25), ('Cloud computing,Machine Learning', 25), ('Cloud computing,Compiler Design', 24), ('Database Management System,Web Development', 24), ('Cloud computing,Operating System', 23), ('Cloud computing,Deep Learning', 22), ('Web Development,Image Processing', 22)]\n",
      "[('Cloud computing,Database Management System,Image Processing', 25)]\n",
      "[]\n"
     ]
    }
   ],
   "source": [
    "find_SetsCompanyDomain('Algorithms',1)\n"
   ]
  },
  {
   "cell_type": "code",
   "execution_count": 37,
   "metadata": {},
   "outputs": [
    {
     "name": "stderr",
     "output_type": "stream",
     "text": [
      "<ipython-input-34-94a62b762717>:5: SettingWithCopyWarning: \n",
      "A value is trying to be set on a copy of a slice from a DataFrame.\n",
      "Try using .loc[row_indexer,col_indexer] = value instead\n",
      "\n",
      "See the caveats in the documentation: https://pandas.pydata.org/pandas-docs/stable/user_guide/indexing.html#returning-a-view-versus-a-copy\n",
      "  data['ProjectDetailDomain']=data['ProjectDetailDomain'].str.split('##')\n"
     ]
    },
    {
     "name": "stdout",
     "output_type": "stream",
     "text": [
      "[('Image Processing,Cloud computing', 53), ('Database Management System,Cloud computing', 43), ('Web Development,Cloud computing', 41), ('Image Processing,Database Management System', 38), ('Algorithms,Cloud computing', 36), ('Machine Learning,Cloud computing', 33), ('Data Structures,Cloud computing', 32), ('Compiler Design,Cloud computing', 31), ('Operating System,Cloud computing', 30), ('Deep Learning,Cloud computing', 29), ('Database Management System,Web Development', 28), ('Image Processing,Web Development', 28), ('Image Processing,Algorithms', 27), ('Machine Learning,Image Processing', 27), ('Database Management System,Algorithms', 26), ('Database Management System,Data Structures', 26), ('Image Processing,Data Structures', 24), ('Machine Learning,Algorithms', 24), ('Compiler Design,Database Management System', 23), ('Operating System,Database Management System', 23), ('Operating System,Image Processing', 22)]\n",
      "[('Image Processing,Database Management System,Cloud computing', 31), ('Database Management System,Web Development,Cloud computing', 25), ('Image Processing,Web Development,Cloud computing', 25), ('Image Processing,Cloud computing,Algorithms', 24), ('Machine Learning,Image Processing,Cloud computing', 23), ('Database Management System,Cloud computing,Algorithms', 22), ('Database Management System,Data Structures,Cloud computing', 22), ('Image Processing,Data Structures,Cloud computing', 22)]\n",
      "[]\n"
     ]
    }
   ],
   "source": [
    "find_SetsCompanyDomain('Data Structures',1)"
   ]
  },
  {
   "cell_type": "code",
   "execution_count": 38,
   "metadata": {},
   "outputs": [
    {
     "name": "stdout",
     "output_type": "stream",
     "text": [
      "[('Image Processing,Cloud computing', 24)]\n"
     ]
    },
    {
     "name": "stderr",
     "output_type": "stream",
     "text": [
      "<ipython-input-34-94a62b762717>:5: SettingWithCopyWarning: \n",
      "A value is trying to be set on a copy of a slice from a DataFrame.\n",
      "Try using .loc[row_indexer,col_indexer] = value instead\n",
      "\n",
      "See the caveats in the documentation: https://pandas.pydata.org/pandas-docs/stable/user_guide/indexing.html#returning-a-view-versus-a-copy\n",
      "  data['ProjectDetailDomain']=data['ProjectDetailDomain'].str.split('##')\n"
     ]
    },
    {
     "name": "stdout",
     "output_type": "stream",
     "text": [
      "[]\n",
      "[]\n"
     ]
    }
   ],
   "source": [
    "find_SetsCompanyDomain('Database Management Systems',1)"
   ]
  },
  {
   "cell_type": "code",
   "execution_count": 39,
   "metadata": {},
   "outputs": [
    {
     "name": "stderr",
     "output_type": "stream",
     "text": [
      "<ipython-input-34-94a62b762717>:5: SettingWithCopyWarning: \n",
      "A value is trying to be set on a copy of a slice from a DataFrame.\n",
      "Try using .loc[row_indexer,col_indexer] = value instead\n",
      "\n",
      "See the caveats in the documentation: https://pandas.pydata.org/pandas-docs/stable/user_guide/indexing.html#returning-a-view-versus-a-copy\n",
      "  data['ProjectDetailDomain']=data['ProjectDetailDomain'].str.split('##')\n"
     ]
    },
    {
     "name": "stdout",
     "output_type": "stream",
     "text": [
      "[('Cloud computing,Image Processing', 39), ('Cloud computing,Database Management System', 31), ('Web Development,Cloud computing', 30), ('Cloud computing,Algorithms', 28), ('Database Management System,Image Processing', 26), ('Cloud computing,Operating System', 25), ('Cloud computing,Machine Learning', 24), ('Cloud computing,Data Structures', 22), ('Deep Learning,Cloud computing', 22)]\n",
      "[]\n",
      "[]\n"
     ]
    }
   ],
   "source": [
    "find_SetsCompanyDomain('Operating Systems',1)"
   ]
  },
  {
   "cell_type": "code",
   "execution_count": 40,
   "metadata": {},
   "outputs": [
    {
     "name": "stdout",
     "output_type": "stream",
     "text": [
      "[('Cloud computing,Image Processing', 29)]\n"
     ]
    },
    {
     "name": "stderr",
     "output_type": "stream",
     "text": [
      "<ipython-input-34-94a62b762717>:5: SettingWithCopyWarning: \n",
      "A value is trying to be set on a copy of a slice from a DataFrame.\n",
      "Try using .loc[row_indexer,col_indexer] = value instead\n",
      "\n",
      "See the caveats in the documentation: https://pandas.pydata.org/pandas-docs/stable/user_guide/indexing.html#returning-a-view-versus-a-copy\n",
      "  data['ProjectDetailDomain']=data['ProjectDetailDomain'].str.split('##')\n"
     ]
    },
    {
     "name": "stdout",
     "output_type": "stream",
     "text": [
      "[]\n",
      "[]\n"
     ]
    }
   ],
   "source": [
    "find_SetsCompanyDomain('Web Development',1)"
   ]
  },
  {
   "cell_type": "code",
   "execution_count": 41,
   "metadata": {},
   "outputs": [
    {
     "name": "stdout",
     "output_type": "stream",
     "text": [
      "[('Image Processing,Cloud computing', 40), ('Database Management System,Cloud computing', 33), ('Image Processing,Database Management System', 32), ('Cloud computing,Web Development', 31), ('Cloud computing,Algorithms', 26), ('Cloud computing,Machine Learning', 25), ('Data Structures,Cloud computing', 25), ('Cloud computing,Compiler Design', 24), ('Database Management System,Web Development', 24), ('Deep Learning,Cloud computing', 22), ('Image Processing,Web Development', 22), ('Operating System,Cloud computing', 22)]\n",
      "[('Database Management System,Image Processing,Cloud computing', 25)]\n"
     ]
    },
    {
     "name": "stderr",
     "output_type": "stream",
     "text": [
      "<ipython-input-34-94a62b762717>:5: SettingWithCopyWarning: \n",
      "A value is trying to be set on a copy of a slice from a DataFrame.\n",
      "Try using .loc[row_indexer,col_indexer] = value instead\n",
      "\n",
      "See the caveats in the documentation: https://pandas.pydata.org/pandas-docs/stable/user_guide/indexing.html#returning-a-view-versus-a-copy\n",
      "  data['ProjectDetailDomain']=data['ProjectDetailDomain'].str.split('##')\n",
      "<ipython-input-34-94a62b762717>:12: SettingWithCopyWarning: \n",
      "A value is trying to be set on a copy of a slice from a DataFrame.\n",
      "Try using .loc[row_indexer,col_indexer] = value instead\n",
      "\n",
      "See the caveats in the documentation: https://pandas.pydata.org/pandas-docs/stable/user_guide/indexing.html#returning-a-view-versus-a-copy\n",
      "  data['ProjectDetailDomain']=data['ProjectDetailDomain'].str.split('##')\n"
     ]
    },
    {
     "name": "stdout",
     "output_type": "stream",
     "text": [
      "[]\n"
     ]
    }
   ],
   "source": [
    "find_SetsCompanyDomain('Data Structures',2)"
   ]
  },
  {
   "cell_type": "code",
   "execution_count": null,
   "metadata": {},
   "outputs": [],
   "source": []
  },
  {
   "cell_type": "code",
   "execution_count": null,
   "metadata": {},
   "outputs": [],
   "source": []
  },
  {
   "cell_type": "code",
   "execution_count": 108,
   "metadata": {},
   "outputs": [],
   "source": []
  },
  {
   "cell_type": "code",
   "execution_count": 109,
   "metadata": {},
   "outputs": [
    {
     "data": {
      "text/plain": [
       "[('Cloud computing,Image Processing', 41),\n",
       " ('Database Management System,Cloud computing', 33),\n",
       " ('Database Management System,Image Processing', 32),\n",
       " ('Web Development,Cloud computing', 31),\n",
       " ('Algorithms,Cloud computing', 26),\n",
       " ('Cloud computing,Data Structures', 25),\n",
       " ('Machine Learning,Cloud computing', 25),\n",
       " ('Cloud computing,Compiler Design', 24),\n",
       " ('Database Management System,Web Development', 24),\n",
       " ('Operating System,Cloud computing', 23),\n",
       " ('Cloud computing,Deep Learning', 22),\n",
       " ('Web Development,Image Processing', 22)]"
      ]
     },
     "execution_count": 109,
     "metadata": {},
     "output_type": "execute_result"
    }
   ],
   "source": [
    "#2 ITEMSETS \n",
    "\n",
    "\n",
    "#count for each candidate itemset\n",
    "count={}\n",
    "for i,v in C2:\n",
    "    for index, row in data.iterrows():\n",
    "        t=\"\"\n",
    "        if(i[0] in row['ProjectDetailDomain'] and v[0] in row['ProjectDetailDomain']):\n",
    "            t=i[0]+\",\"+v[0]\n",
    "            if(t in count):\n",
    "                count[t]=count[t]+1\n",
    "            else:\n",
    "                count[t]=1\n",
    "\n",
    "                #checking criteria for count\n",
    "L2={}\n",
    "for k, v in count.items():\n",
    "        m=count[k]*100/272\n",
    "        if(m>mis_min):\n",
    "            L2[k]=count[k]\n",
    "            \n",
    "#FOR TIER 1, SORTED 2 ITEMSETS \n",
    "temp= sorted(L2.items(), key=operator.itemgetter(0))\n",
    "L2_sorted=sorted(temp, key=operator.itemgetter(1), reverse=True)\n",
    "L2_sorted"
   ]
  },
  {
   "cell_type": "code",
   "execution_count": 110,
   "metadata": {},
   "outputs": [
    {
     "data": {
      "text/plain": [
       "[('Database Management System,Cloud computing,Image Processing', 25)]"
      ]
     },
     "execution_count": 110,
     "metadata": {},
     "output_type": "execute_result"
    }
   ],
   "source": [
    "#3 ITEMSETS\n",
    "\n",
    "n = 3\n",
    "C3=findsubsets(L1, n)\n",
    "\n",
    "count={}\n",
    "for a,b,c in C3:\n",
    "    for index, row in data.iterrows():\n",
    "        t=\"\"\n",
    "        if(a[0] in row['ProjectDetailDomain'] and b[0] in row['ProjectDetailDomain'] and c[0] in row['ProjectDetailDomain']):\n",
    "            t=a[0]+\",\"+b[0]+','+c[0]\n",
    "            if(t in count):\n",
    "                count[t]=count[t]+1\n",
    "            else:\n",
    "                count[t]=1\n",
    "                \n",
    "L3={}\n",
    "for k, v in count.items():\n",
    "        m=count[k]*100/272\n",
    "        if(m>mis_min):\n",
    "            L3[k]=count[k]\n",
    "            \n",
    "#FOR TIER 1, SORTED 3 ITEMSETS \n",
    "temp= sorted(L3.items(), key=operator.itemgetter(0))\n",
    "L3_sorted=sorted(temp, key=operator.itemgetter(1), reverse=True)\n",
    "L3_sorted\n"
   ]
  },
  {
   "cell_type": "code",
   "execution_count": 111,
   "metadata": {},
   "outputs": [
    {
     "data": {
      "text/plain": [
       "[]"
      ]
     },
     "execution_count": 111,
     "metadata": {},
     "output_type": "execute_result"
    }
   ],
   "source": [
    "#4 ITEMSETS\n",
    "def findsubsets(s, n):\n",
    "    return list(map(set, itertools.combinations(s, n))) \n",
    "n = 4\n",
    "C4=findsubsets(L1, n)\n",
    "\n",
    "count={}\n",
    "for a,b,c,d in C4:\n",
    "    for index, row in data.iterrows():\n",
    "        t=\"\"\n",
    "        if(a[0] in row['ProjectDetailDomain'] and b[0] in row['ProjectDetailDomain'] and c[0] in row['ProjectDetailDomain'] and d[0] in row['ProjectDetailDomain']):\n",
    "            t=a[0]+\",\"+b[0]+','+c[0]+','+d[0]\n",
    "            if(t in count):\n",
    "                count[t]=count[t]+1\n",
    "            else:\n",
    "                count[t]=1\n",
    "\n",
    "L4={}\n",
    "for k, v in count.items():\n",
    "        m=count[k]*100/272\n",
    "        if(m>mis_min):\n",
    "            L4[k]=count[k]\n",
    "            \n",
    "#FOR TIER 1, SORTED 4 ITEMSETS \n",
    "temp= sorted(L4.items(), key=operator.itemgetter(0))\n",
    "L4_sorted=sorted(temp, key=operator.itemgetter(1), reverse=True)\n",
    "L4_sorted"
   ]
  },
  {
   "cell_type": "code",
   "execution_count": 112,
   "metadata": {},
   "outputs": [
    {
     "data": {
      "text/plain": [
       "[]"
      ]
     },
     "execution_count": 112,
     "metadata": {},
     "output_type": "execute_result"
    }
   ],
   "source": [
    "#5 ITEMSETS\n",
    "def findsubsets(s, n):\n",
    "    return list(map(set, itertools.combinations(s, n))) \n",
    "n = 5\n",
    "C5=findsubsets(L1, n)\n",
    "\n",
    "count={}\n",
    "for a,b,c,d,e in C5:\n",
    "    for index, row in data.iterrows():\n",
    "        t=\"\"\n",
    "        if(a[0] in row['ProjectDetailDomain'] and b[0] in row['ProjectDetailDomain'] and c[0] in row['ProjectDetailDomain'] and d[0] in row['ProjectDetailDomain'] and e[0] in row['ProjectDetailDomain']):\n",
    "            t=a[0]+\",\"+b[0]+','+c[0]+','+d[0]+','+e[0]\n",
    "            if(t in count):\n",
    "                count[t]=count[t]+1\n",
    "            else:\n",
    "                count[t]=1\n",
    "\n",
    "L5={}\n",
    "for k, v in count.items():\n",
    "        m=count[k]*100/272\n",
    "        if(m>mis_min):\n",
    "            L5[k]=count[k]\n",
    "            \n",
    "#FOR TIER 1, SORTED 5 ITEMSETS \n",
    "temp= sorted(L5.items(), key=operator.itemgetter(0))\n",
    "L5_sorted=sorted(temp, key=operator.itemgetter(1), reverse=True)\n",
    "L5_sorted"
   ]
  },
  {
   "cell_type": "code",
   "execution_count": 113,
   "metadata": {},
   "outputs": [
    {
     "data": {
      "text/plain": [
       "[('Cloud computing,Image Processing', 41)]"
      ]
     },
     "execution_count": 113,
     "metadata": {},
     "output_type": "execute_result"
    }
   ],
   "source": [
    "#changing alpha and LS values \n",
    "#Lambda is mean value\n",
    "\n",
    "alpha2= 0.9\n",
    "#sd=lamb*(1-alpha2)\n",
    "ls=15\n",
    "mis_val2=mis(domain_count,ls,alpha)\n",
    "mis_min2=min(mis_val2.values())\n",
    "\n",
    "L_2={}\n",
    "for k, v in domain_count.items():\n",
    "        if(domain_count[k]>=mis_val2[k]):\n",
    "            L_2[k]=mis_val2[k]\n",
    "\n",
    "#Step 2\n",
    "#Sort L\n",
    "temp= sorted(L_2.items(), key=operator.itemgetter(0))\n",
    "L_21=sorted(temp, key=operator.itemgetter(1), reverse=True)\n",
    "\n",
    "#2 ITEMSETS \n",
    "def findsubsets(s, n):\n",
    "    return list(map(set, itertools.combinations(s, n)))   \n",
    "n = 2\n",
    "C2=findsubsets(L_21, n)\n",
    "\n",
    "#count for each candidate itemset\n",
    "count={}\n",
    "for i,v in C2:\n",
    "    for index, row in data.iterrows():\n",
    "        t=\"\"\n",
    "        if(i[0] in row['ProjectDetailDomain'] and v[0] in row['ProjectDetailDomain']):\n",
    "            t=i[0]+\",\"+v[0]\n",
    "            if(t in count):\n",
    "                count[t]=count[t]+1\n",
    "            else:\n",
    "                count[t]=1\n",
    "\n",
    "                #checking criteria for count\n",
    "L_12={}\n",
    "for k, v in count.items():\n",
    "        m=count[k]*100/272\n",
    "        if(m>mis_min2):\n",
    "            L_12[k]=count[k]\n",
    "            \n",
    "#FOR TIER 1, SORTED 2 ITEMSETS \n",
    "temp= sorted(L_12.items(), key=operator.itemgetter(0))\n",
    "L_12_sorted=sorted(temp, key=operator.itemgetter(1), reverse=True)\n",
    "L_12_sorted"
   ]
  },
  {
   "cell_type": "code",
   "execution_count": 114,
   "metadata": {},
   "outputs": [
    {
     "data": {
      "text/plain": [
       "[]"
      ]
     },
     "execution_count": 114,
     "metadata": {},
     "output_type": "execute_result"
    }
   ],
   "source": [
    "#3 ITEMSETS\n",
    "def findsubsets(s, n):\n",
    "    return list(map(set, itertools.combinations(s, n))) \n",
    "n = 3\n",
    "C3=findsubsets(L_21, n)\n",
    "\n",
    "count={}\n",
    "for a,b,c in C3:\n",
    "    for index, row in data.iterrows():\n",
    "        t=\"\"\n",
    "        if(a[0] in row['ProjectDetailDomain'] and b[0] in row['ProjectDetailDomain'] and c[0] in row['ProjectDetailDomain']):\n",
    "            t=a[0]+\",\"+b[0]+','+c[0]\n",
    "            if(t in count):\n",
    "                count[t]=count[t]+1\n",
    "            else:\n",
    "                count[t]=1\n",
    "                \n",
    "L_3={}\n",
    "for k, v in count.items():\n",
    "        m=count[k]*100/272\n",
    "        if(m>mis_min2):\n",
    "            L_3[k]=count[k]\n",
    "            \n",
    "#FOR TIER 1, SORTED 3 ITEMSETS \n",
    "temp= sorted(L_3.items(), key=operator.itemgetter(0))\n",
    "L_3_sorted=sorted(temp, key=operator.itemgetter(1), reverse=True)\n",
    "L_3_sorted"
   ]
  },
  {
   "cell_type": "code",
   "execution_count": 115,
   "metadata": {},
   "outputs": [
    {
     "data": {
      "text/plain": [
       "[]"
      ]
     },
     "execution_count": 115,
     "metadata": {},
     "output_type": "execute_result"
    }
   ],
   "source": [
    "#4 ITEMSETS\n",
    "def findsubsets(s, n):\n",
    "    return list(map(set, itertools.combinations(s, n))) \n",
    "n = 4\n",
    "C4=findsubsets(L_21, n)\n",
    "\n",
    "count={}\n",
    "for a,b,c,d in C4:\n",
    "    for index, row in data.iterrows():\n",
    "        t=\"\"\n",
    "        if(a[0] in row['ProjectDetailDomain'] and b[0] in row['ProjectDetailDomain'] and c[0] in row['ProjectDetailDomain'] and d[0] in row['ProjectDetailDomain']):\n",
    "            t=a[0]+\",\"+b[0]+','+c[0]+','+d[0]\n",
    "            if(t in count):\n",
    "                count[t]=count[t]+1\n",
    "            else:\n",
    "                count[t]=1\n",
    "\n",
    "L_4={}\n",
    "for k, v in count.items():\n",
    "        m=count[k]*100/272\n",
    "        if(m>mis_min2):\n",
    "            L_4[k]=count[k]\n",
    "            \n",
    "#FOR TIER 1, SORTED 4 ITEMSETS \n",
    "temp= sorted(L_4.items(), key=operator.itemgetter(0))\n",
    "L_4_sorted=sorted(temp, key=operator.itemgetter(1), reverse=True)\n",
    "L_4_sorted"
   ]
  },
  {
   "cell_type": "code",
   "execution_count": null,
   "metadata": {},
   "outputs": [],
   "source": []
  },
  {
   "cell_type": "code",
   "execution_count": null,
   "metadata": {},
   "outputs": [],
   "source": []
  },
  {
   "cell_type": "code",
   "execution_count": null,
   "metadata": {},
   "outputs": [],
   "source": []
  },
  {
   "cell_type": "code",
   "execution_count": null,
   "metadata": {},
   "outputs": [],
   "source": []
  }
 ],
 "metadata": {
  "kernelspec": {
   "display_name": "Python 3",
   "language": "python",
   "name": "python3"
  },
  "language_info": {
   "codemirror_mode": {
    "name": "ipython",
    "version": 3
   },
   "file_extension": ".py",
   "mimetype": "text/x-python",
   "name": "python",
   "nbconvert_exporter": "python",
   "pygments_lexer": "ipython3",
   "version": "3.9.0"
  }
 },
 "nbformat": 4,
 "nbformat_minor": 4
}
