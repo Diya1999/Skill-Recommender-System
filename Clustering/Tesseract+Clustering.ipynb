{
 "cells": [
  {
   "cell_type": "code",
   "execution_count": 36,
   "metadata": {},
   "outputs": [
    {
     "name": "stdout",
     "output_type": "stream",
     "text": [
      "dict_keys(['level', 'page_num', 'block_num', 'par_num', 'line_num', 'word_num', 'left', 'top', 'width', 'height', 'conf', 'text'])\n"
     ]
    }
   ],
   "source": [
    "import cv2\n",
    "import pytesseract\n",
    "from pytesseract import Output\n",
    "import pandas as pd\n",
    "import numpy as np\n",
    "from matplotlib import pyplot as plt\n",
    "from sklearn.cluster import AgglomerativeClustering\n",
    "import scipy.cluster.hierarchy as sch\n",
    "\n",
    "img = cv2.imread(r'C:\\Users\\diyas\\Downloads\\01FB15ECS008-page-001.jpg')\n",
    "\n",
    "d = pytesseract.image_to_data(img, output_type=Output.DICT)\n",
    "print(d.keys())"
   ]
  },
  {
   "cell_type": "code",
   "execution_count": 34,
   "metadata": {},
   "outputs": [
    {
     "data": {
      "text/plain": [
       "-1"
      ]
     },
     "execution_count": 34,
     "metadata": {},
     "output_type": "execute_result"
    }
   ],
   "source": [
    "n_boxes = len(d['text'])\n",
    "for i in range(n_boxes):\n",
    "    if int(d['conf'][i]) > 200:\n",
    "        (x, y, w, h) = (d['left'][i], d['top'][i], d['width'][i], d['height'][i])\n",
    "        img = cv2.rectangle(img, (x, y), (x + w, y + h), (0, 255, 0), 2)\n",
    "\n",
    "cv2.imshow('img', img)\n",
    "cv2.waitKey(0)"
   ]
  },
  {
   "cell_type": "code",
   "execution_count": 9,
   "metadata": {},
   "outputs": [],
   "source": [
    " from sklearn.cluster import AgglomerativeClustering\n",
    "import numpy as np"
   ]
  },
  {
   "cell_type": "code",
   "execution_count": 10,
   "metadata": {},
   "outputs": [],
   "source": [
    "X = np.array([[1, 2], [1, 4], [1, 0],[4, 2], [4, 4], [4, 0]])"
   ]
  },
  {
   "cell_type": "code",
   "execution_count": 22,
   "metadata": {},
   "outputs": [
    {
     "data": {
      "image/png": "[encoded data removed]",
      "text/plain": [
       "<Figure size 432x288 with 1 Axes>"
      ]
     },
     "metadata": {
      "needs_background": "light"
     },
     "output_type": "display_data"
    }
   ],
   "source": [
    "\n",
    "from matplotlib import pyplot as plt\n",
    "from scipy.cluster.hierarchy import dendrogram\n",
    "from sklearn.datasets import load_iris\n",
    "from sklearn.cluster import AgglomerativeClustering\n",
    "\n",
    "\n",
    "def plot_dendrogram(model, **kwargs):\n",
    "    # Create linkage matrix and then plot the dendrogram\n",
    "\n",
    "    # create the counts of samples under each node\n",
    "    counts = np.zeros(model.children_.shape[0])\n",
    "    n_samples = len(model.labels_)\n",
    "    for i, merge in enumerate(model.children_):\n",
    "        current_count = 0\n",
    "        for child_idx in merge:\n",
    "            if child_idx < n_samples:\n",
    "                current_count += 1  # leaf node\n",
    "            else:\n",
    "                current_count += counts[child_idx - n_samples]\n",
    "        counts[i] = current_count\n",
    "\n",
    "    linkage_matrix = np.column_stack([model.children_, model.distances_,\n",
    "                                      counts]).astype(float)\n",
    "\n",
    "    # Plot the corresponding dendrogram\n",
    "    dendrogram(linkage_matrix, **kwargs)\n",
    "\n",
    "\n",
    "iris = load_iris()\n",
    "X = np.array([[  420,  28,  860,  25,  861,  92,  421,  96,  0.38128983974456787 ],\n",
    "[  332,  496,  482,  497,  481,  532,  332,  531,  0.3668982684612274 ],\n",
    "[  338,  406,  494,  409,  494,  433,  337,  431,  0.3248319625854492 ],\n",
    "[  109,  854,  269,  853,  269,  883,  110,  884,  0.3112836182117462 ],\n",
    "[  333,  1040,  472,  1041,  472,  1069,  333,  1068,  0.331868439912796 ],\n",
    "[  333,  1377,  454,  1376,  454,  1402,  333,  1403,  0.3124736547470093 ],\n",
    "[  136,  518,  264,  520,  264,  551,  136,  549,  0.30908697843551636 ],\n",
    "[  176,  760,  267,  762,  266,  782,  176,  780,  0.3462007939815521 ],\n",
    "[  330,  1235,  435,  1236,  435,  1266,  330,  1265,  0.2830721437931061 ],\n",
    "[  330,  136,  409,  137,  408,  167,  330,  166,  0.2874981760978699 ],\n",
    "[  140,  450,  265,  451,  265,  470,  140,  468,  0.34106898307800293 ],\n",
    "[  177,  145,  272,  145,  272,  169,  178,  170,  0.3321434259414673 ],\n",
    "[  175,  1062,  271,  1061,  271,  1079,  176,  1080,  0.3230014741420746 ],\n",
    "[  332,  1452,  397,  1451,  397,  1467,  332,  1467,  0.3844504952430725 ],\n",
    "[  153,  352,  267,  351,  268,  370,  153,  371,  0.33750003576278687 ],\n",
    "[  115,  277,  238,  276,  239,  297,  115,  298,  0.28092437982559204 ],\n",
    "[  180,  736,  270,  738,  270,  757,  180,  754,  0.3807026445865631 ],\n",
    "[  407,  254,  506,  255,  506,  277,  407,  275,  0.35125765204429626 ],\n",
    "[  188,  813,  267,  812,  267,  830,  188,  831,  0.33771035075187683 ],\n",
    "[  459,  690,  538,  691,  538,  709,  459,  708,  0.3319414258003235 ],\n",
    "[  181,  635,  269,  637,  269,  657,  181,  655,  0.2999695837497711 ],\n",
    "[  390,  379,  481,  382,  481,  400,  390,  398,  0.2793593406677246 ],\n",
    "[  726,  1472,  861,  1471,  861,  1495,  726,  1496,  0.3104304075241089 ],\n",
    "[  398,  284,  479,  286,  479,  307,  398,  306,  0.3318183422088623 ],\n",
    "[  196,  1012,  273,  1013,  273,  1030,  195,  1029,  0.3200094401836395 ],\n",
    "[  716,  609,  845,  606,  845,  627,  717,  629,  0.3919180631637573 ],\n",
    "[  612,  663,  691,  665,  691,  685,  611,  683,  0.2929135859012604 ],\n",
    "[  468,  796,  559,  799,  558,  820,  467,  817,  0.3161006271839142 ],\n",
    "[  682,  881,  764,  883,  764,  903,  681,  902,  0.2697063088417053 ],\n",
    "[  219,  786,  271,  786,  271,  805,  219,  805,  0.25190165638923645 ],\n",
    "[  535,  1425,  613,  1424,  613,  1443,  536,  1444,  0.3078761398792267 ],\n",
    "[  90,  935,  187,  936,  187,  955,  90,  954,  0.33685827255249023 ],\n",
    "[  347,  191,  471,  192,  471,  215,  347,  213,  0.34887275099754333 ],\n",
    "[  1103,  959,  1175,  958,  1175,  977,  1103,  978,  0.30281251668930054 ],\n",
    "[  331,  1474,  406,  1475,  406,  1492,  330,  1491,  0.3219339847564697 ],\n",
    "[  1117,  715,  1215,  716,  1215,  733,  1117,  732,  0.34994831681251526 ],\n",
    "[  328,  1423,  432,  1424,  432,  1442,  327,  1441,  0.35736697912216187 ],\n",
    "[  433,  347,  510,  349,  509,  370,  432,  369,  0.412781685590744 ],\n",
    "[  768,  1317,  845,  1315,  846,  1335,  769,  1337,  0.2806776762008667 ],\n",
    "[  761,  1096,  864,  1094,  864,  1115,  761,  1117,  0.432352215051651 ],\n",
    "[  796,  851,  881,  849,  881,  867,  797,  869,  0.31929683685302734 ],\n",
    "[  462,  824,  547,  822,  548,  841,  462,  842,  0.308847576379776 ],\n",
    "[  536,  1474,  614,  1475,  614,  1492,  536,  1491,  0.3588421642780304 ],\n",
    "[  457,  1318,  541,  1316,  542,  1333,  458,  1335,  0.32604363560676575 ],\n",
    "[  1117,  935,  1207,  934,  1208,  952,  1117,  953,  0.32943442463874817 ],\n",
    "[  788,  714,  888,  713,  889,  734,  789,  735,  0.2837534546852112 ],\n",
    "[  853,  1317,  928,  1315,  928,  1333,  853,  1335,  0.2978305518627167 ],\n",
    "[  603,  741,  695,  739,  696,  758,  603,  760,  0.3309129774570465 ],\n",
    "[  523,  607,  651,  609,  651,  631,  523,  629,  0.3397226929664612 ],\n",
    "[  642,  928,  732,  930,  731,  952,  642,  951,  0.36739876866340637 ],\n",
    "[  1098,  777,  1174,  776,  1175,  793,  1098,  794,  0.3134423792362213 ],\n",
    "[  462,  742,  533,  741,  533,  758,  462,  758,  0.35542428493499756 ],\n",
    "[  202,  989,  272,  987,  273,  1003,  202,  1005,  0.35314732789993286 ],\n",
    "[  1144,  1098,  1216,  1099,  1215,  1116,  1143,  1115,  0.33375900983810425 ],\n",
    "[  479,  193,  566,  194,  566,  213,  478,  213,  0.31892669200897217 ],\n",
    "[  1039,  933,  1111,  932,  1111,  951,  1039,  952,  0.29241088032722473 ],\n",
    "[  599,  847,  683,  849,  683,  869,  598,  868,  0.4308066666126251 ],\n",
    "[  347,  317,  440,  318,  440,  338,  346,  336,  0.35346710681915283 ],\n",
    "[  1096,  668,  1173,  667,  1173,  683,  1096,  684,  0.36404669284820557 ],\n",
    "[  825,  797,  888,  800,  887,  819,  824,  816,  0.33888936042785645 ],\n",
    "[  199,  937,  275,  936,  275,  954,  199,  955,  0.2781151831150055 ],\n",
    "[  341,  441,  393,  442,  393,  464,  340,  464,  0.2555110454559326 ],\n",
    "[  89,  354,  147,  352,  148,  371,  89,  372,  0.2989116907119751 ],\n",
    "[  651,  1316,  760,  1317,  760,  1337,  651,  1336,  0.3242451250553131 ],\n",
    "[  718,  796,  815,  797,  815,  819,  718,  817,  0.29533910751342773 ],\n",
    "[  979,  1475,  1033,  1476,  1033,  1493,  978,  1492,  0.3009589910507202 ],\n",
    "[  528,  847,  588,  846,  588,  868,  528,  869,  0.3529590666294098 ],\n",
    "[  698,  558,  791,  559,  791,  579,  698,  578,  0.35921576619148254 ],\n",
    "[  511,  770,  619,  773,  618,  794,  511,  791,  0.2821447253227234 ],\n",
    "[  504,  664,  564,  665,  564,  684,  504,  683,  0.2933693528175354 ],\n",
    "[  345,  223,  431,  223,  431,  242,  345,  243,  0.31024059653282166 ],\n",
    "[  1160,  1136,  1215,  1135,  1215,  1151,  1160,  1152,  0.30625033378601074 ],\n",
    "[  525,  316,  602,  319,  602,  339,  524,  337,  0.2735635042190552 ],\n",
    "[  1085,  562,  1180,  561,  1180,  579,  1085,  580,  0.3226526081562042 ],\n",
    "[  1161,  15,  1250,  13,  1250,  30,  1161,  32,  0.33201831579208374 ],\n",
    "[  561,  713,  644,  714,  644,  735,  561,  734,  0.2863514721393585 ],\n",
    "[  196,  425,  269,  427,  268,  446,  195,  444,  0.27429234981536865 ],\n",
    "[  193,  910,  276,  908,  276,  930,  193,  931,  0.20966538786888123 ],\n",
    "[  389,  1169,  437,  1168,  438,  1188,  389,  1189,  0.2541658878326416 ],\n",
    "[  328,  665,  429,  664,  430,  684,  328,  685,  0.3130044937133789 ],\n",
    "[  460,  907,  530,  908,  530,  927,  459,  926,  0.33304786682128906 ],\n",
    "[  896,  742,  974,  741,  974,  759,  897,  760,  0.2763865292072296 ],\n",
    "[  1072,  1138,  1131,  1137,  1132,  1151,  1073,  1153,  0.35805749893188477 ],\n",
    "[  204,  588,  271,  587,  272,  608,  205,  608,  0.33810725808143616 ],\n",
    "[  194,  1038,  272,  1037,  272,  1054,  195,  1055,  0.32981106638908386 ],\n",
    "[  906,  933,  978,  931,  978,  950,  906,  951,  0.3396078944206238 ],\n",
    "[  63,  425,  129,  426,  129,  444,  63,  443,  0.35011032223701477 ],\n",
    "[  156,  476,  225,  477,  225,  494,  156,  493,  0.2933379113674164 ],\n",
    "[  1045,  1174,  1110,  1173,  1110,  1188,  1046,  1189,  0.33483612537384033 ],\n",
    "[  329,  560,  376,  559,  377,  578,  329,  578,  0.29283303022384644 ],\n",
    "[  123,  912,  185,  911,  186,  930,  123,  931,  0.3248865306377411 ],\n",
    "[  623,  826,  706,  824,  707,  841,  623,  843,  0.2716948986053467 ],\n",
    "[  703,  741,  772,  740,  772,  759,  703,  760,  0.2694966793060303 ],\n",
    "[  345,  255,  402,  256,  402,  273,  345,  273,  0.35453078150749207 ],\n",
    "[  205,  710,  275,  713,  274,  733,  204,  730,  0.2847420573234558 ],\n",
    "[  465,  612,  522,  610,  522,  628,  465,  629,  0.284488707780838 ],\n",
    "[  823,  936,  892,  935,  893,  952,  823,  953,  0.333368182182312 ],\n",
    "[  137,  711,  200,  710,  200,  730,  138,  730,  0.2707647979259491 ],\n",
    "[  1099,  885,  1175,  886,  1175,  902,  1099,  901,  0.3419390022754669 ],\n",
    "[  446,  1424,  524,  1424,  524,  1443,  446,  1442,  0.34504953026771545 ],\n",
    "[  1011,  823,  1113,  824,  1112,  842,  1011,  841,  0.3091212809085846 ],\n",
    "[  599,  1317,  648,  1316,  648,  1333,  600,  1334,  0.2970390021800995 ],\n",
    "[  189,  564,  269,  561,  269,  580,  189,  582,  0.2999023497104645 ],\n",
    "[  930,  1316,  981,  1316,  981,  1332,  930,  1333,  0.2241279035806656 ],\n",
    "[  140,  1010,  190,  1009,  190,  1029,  140,  1030,  0.2945726215839386 ],\n",
    "[  621,  1474,  710,  1473,  710,  1492,  621,  1493,  0.3253296911716461 ],\n",
    "[  938,  847,  1016,  849,  1016,  870,  938,  869,  0.2409958839416504 ],\n",
    "[  1165,  1172,  1217,  1171,  1217,  1189,  1166,  1190,  0.2874647080898285 ],\n",
    "[  859,  823,  957,  823,  956,  843,  859,  842,  0.29414114356040955 ],\n",
    "[  567,  799,  669,  799,  669,  817,  567,  817,  0.23266202211380005 ],\n",
    "[  653,  584,  732,  583,  732,  602,  654,  603,  0.2511383295059204 ],\n",
    "[  563,  933,  638,  932,  638,  952,  564,  954,  0.25978052616119385 ],\n",
    "[  1047,  1426,  1123,  1425,  1123,  1443,  1047,  1444,  0.3236229121685028 ],\n",
    "[  544,  958,  615,  959,  615,  979,  543,  979,  0.2783746123313904 ],\n",
    "[  658,  613,  710,  612,  710,  630,  659,  631,  0.25703054666519165 ],\n",
    "[  329,  1096,  376,  1096,  376,  1114,  329,  1114,  0.2705499529838562 ],\n",
    "[  201,  964,  271,  963,  271,  979,  201,  979,  0.37199243903160095 ],\n",
    "[  330,  1170,  374,  1170,  374,  1188,  330,  1188,  0.2498953640460968 ],\n",
    "[  459,  1096,  516,  1096,  516,  1113,  459,  1114,  0.2904932498931885 ],\n",
    "[  462,  635,  509,  634,  509,  652,  463,  653,  0.2769680619239807 ],\n",
    "[  442,  316,  521,  317,  521,  337,  442,  336,  0.28937414288520813 ],\n",
    "[  915,  561,  978,  560,  978,  578,  915,  578,  0.24468252062797546 ],\n",
    "[  870,  1474,  929,  1475,  929,  1492,  870,  1492,  0.32208943367004395 ],\n",
    "[  1052,  14,  1114,  12,  1114,  30,  1052,  32,  0.3281480669975281 ],\n",
    "[  217,  201,  272,  202,  272,  221,  217,  220,  0.2734934687614441 ],\n",
    "[  833,  559,  908,  560,  908,  579,  832,  578,  0.3526065945625305 ],\n",
    "[  548,  1096,  637,  1095,  637,  1114,  548,  1114,  0.32472655177116394 ],\n",
    "[  448,  225,  499,  226,  498,  245,  447,  244,  0.3384375274181366 ],\n",
    "[  902,  715,  971,  714,  971,  733,  902,  734,  0.3524302840232849 ],\n",
    "[  459,  713,  531,  715,  530,  734,  459,  733,  0.2704521417617798 ],\n",
    "[  673,  715,  751,  716,  751,  734,  673,  733,  0.3272305130958557 ],\n",
    "[  143,  1034,  189,  1033,  189,  1054,  144,  1055,  0.2995055317878723 ],\n",
    "[  481,  586,  535,  586,  535,  603,  481,  604,  0.3494408130645752 ],\n",
    "[  390,  1095,  439,  1095,  439,  1114,  390,  1114,  0.25791066884994507 ],\n",
    "[  664,  1426,  758,  1425,  758,  1442,  664,  1443,  0.36689117550849915 ],\n",
    "[  732,  585,  806,  586,  806,  604,  732,  602,  0.22604215145111084 ],\n",
    "[  927,  1135,  989,  1135,  989,  1151,  927,  1152,  0.24646997451782227 ],\n",
    "[  537,  584,  616,  585,  615,  605,  537,  604,  0.27916666865348816 ],\n",
    "[  549,  823,  617,  824,  617,  843,  549,  843,  0.2680075764656067 ],\n",
    "[  460,  931,  531,  931,  531,  950,  460,  951,  0.2858882248401642 ],\n",
    "[  382,  348,  423,  349,  423,  366,  382,  366,  0.2904808819293976 ],\n",
    "[  739,  822,  842,  823,  842,  842,  739,  841,  0.323930561542511 ],\n",
    "[  1129,  613,  1178,  612,  1179,  630,  1129,  631,  0.2649379074573517 ],\n",
    "[  219,  661,  271,  662,  271,  681,  218,  680,  0.22456996142864227 ],\n",
    "[  674,  957,  745,  958,  744,  978,  674,  977,  0.3028404414653778 ],\n",
    "[  615,  560,  670,  559,  670,  577,  615,  577,  0.31455928087234497 ],\n",
    "[  329,  1132,  377,  1132,  377,  1151,  329,  1151,  0.251368910074234 ],\n",
    "[  1122,  823,  1190,  822,  1190,  844,  1122,  845,  0.34189537167549133 ],\n",
    "[  460,  664,  506,  664,  506,  682,  460,  682,  0.29748281836509705 ],\n",
    "[  415,  1474,  459,  1474,  459,  1494,  414,  1493,  0.24993617832660675 ],\n",
    "[  460,  885,  531,  884,  531,  902,  461,  903,  0.33103880286216736 ],\n",
    "[  347,  287,  390,  288,  390,  305,  347,  304,  0.2995796799659729 ],\n",
    "[  1173,  1294,  1217,  1292,  1217,  1309,  1173,  1310,  0.28812524676322937 ],\n",
    "[  693,  848,  779,  846,  780,  866,  693,  868,  0.32229477167129517 ],\n",
    "[  953,  609,  1020,  609,  1020,  627,  953,  627,  0.26072168350219727 ],\n",
    "[  1059,  610,  1117,  609,  1117,  629,  1059,  630,  0.28687989711761475 ],\n",
    "[  642,  1096,  713,  1096,  713,  1114,  642,  1114,  0.2595916986465454 ],\n",
    "[  817,  1424,  893,  1423,  894,  1442,  817,  1443,  0.32740509510040283 ],\n",
    "[  492,  958,  533,  958,  533,  976,  492,  977,  0.2674710154533386 ],\n",
    "[  57,  276,  113,  276,  113,  295,  57,  296,  0.2553284466266632 ],\n",
    "[  328,  1291,  372,  1290,  373,  1310,  328,  1310,  0.263784259557724 ],\n",
    "[  548,  561,  610,  561,  610,  577,  548,  577,  0.2029884159564972 ],\n",
    "[  537,  909,  601,  907,  601,  926,  538,  928,  0.2734496593475342 ],\n",
    "[  945,  959,  1042,  956,  1043,  975,  945,  977,  0.29146069288253784 ],\n",
    "[  566,  881,  636,  883,  635,  902,  566,  901,  0.3036584258079529 ],\n",
    "[  341,  379,  393,  380,  392,  399,  341,  398,  0.24377277493476868 ],\n",
    "[  123,  637,  175,  638,  175,  654,  122,  654,  0.31273359060287476 ],\n",
    "[  458,  774,  507,  776,  506,  796,  458,  794,  0.23625504970550537 ],\n",
    "[  229,  476,  271,  475,  271,  494,  229,  495,  0.20107287168502808 ],\n",
    "[  746,  960,  786,  959,  786,  976,  746,  977,  0.23907725512981415 ],\n",
    "[  1120,  1172,  1159,  1172,  1159,  1188,  1120,  1189,  0.2802247703075409 ],\n",
    "[  458,  1291,  505,  1291,  505,  1309,  458,  1308,  0.27382713556289673 ],\n",
    "[  576,  1169,  615,  1168,  615,  1188,  576,  1189,  0.23331376910209656 ],\n",
    "[  506,  1292,  571,  1291,  572,  1308,  506,  1309,  0.288327693939209 ],\n",
    "[  909,  1096,  955,  1095,  955,  1114,  909,  1114,  0.22433409094810486 ],\n",
    "[  501,  1170,  547,  1169,  547,  1187,  501,  1188,  0.2726886570453644 ],\n",
    "[  731,  935,  768,  933,  769,  950,  732,  952,  0.23619291186332703 ],\n",
    "[  1182,  562,  1217,  562,  1218,  577,  1182,  578,  0.21741828322410583 ],\n",
    "[  775,  932,  817,  933,  817,  952,  775,  951,  0.2828419804573059 ],\n",
    "[  329,  774,  376,  774,  376,  791,  330,  792,  0.28164613246917725 ],\n",
    "[  1182,  610,  1215,  611,  1215,  629,  1182,  628,  0.2537672519683838 ],\n",
    "[  390,  1132,  439,  1131,  439,  1151,  390,  1151,  0.25618988275527954 ],\n",
    "[  1173,  1424,  1214,  1424,  1214,  1442,  1173,  1442,  0.2732171416282654 ],\n",
    "[  860,  610,  932,  609,  933,  627,  860,  628,  0.26242902874946594 ],\n",
    "[  1046,  717,  1081,  716,  1081,  732,  1047,  733,  0.3110440969467163 ],\n",
    "[  1178,  886,  1217,  887,  1217,  902,  1178,  901,  0.2996705174446106 ],\n",
    "[  1181,  777,  1216,  777,  1216,  792,  1181,  792,  0.25685393810272217 ],\n",
    "[  853,  742,  888,  740,  888,  758,  853,  759,  0.23567377030849457 ],\n",
    "[  966,  1423,  1042,  1424,  1041,  1445,  965,  1444,  0.26582691073417664 ],\n",
    "[  115,  204,  147,  203,  148,  218,  116,  219,  0.2097451090812683 ],\n",
    "[  778,  740,  848,  740,  848,  758,  778,  758,  0.31135207414627075 ],\n",
    "[  547,  632,  600,  632,  600,  652,  547,  653,  0.13155457377433777 ],\n",
    "[  538,  739,  589,  740,  589,  758,  538,  757,  0.2769052982330322 ],\n",
    "[  993,  1137,  1041,  1136,  1041,  1151,  993,  1151,  0.26532071828842163 ],\n",
    "[  241,  279,  284,  280,  284,  295,  240,  295,  0.255302369594574 ],\n",
    "[  901,  1426,  936,  1426,  937,  1441,  901,  1442,  0.27878060936927795 ],\n",
    "[  1013,  14,  1056,  14,  1056,  31,  1014,  31,  0.23985496163368225 ],\n",
    "[  893,  848,  938,  848,  938,  867,  893,  867,  0.1961146891117096 ],\n",
    "[  864,  960,  939,  958,  939,  976,  864,  978,  0.30456042289733887 ],\n",
    "[  651,  1169,  697,  1169,  697,  1189,  651,  1189,  0.24412141740322113 ],\n",
    "[  460,  1170,  495,  1170,  495,  1187,  460,  1187,  0.2786826491355896 ],\n",
    "[  154,  203,  204,  204,  204,  220,  154,  219,  0.2922755777835846 ],\n",
    "[  824,  960,  860,  959,  860,  975,  825,  977,  0.24452483654022217 ],\n",
    "[  1132,  1426,  1168,  1426,  1168,  1441,  1132,  1442,  0.2775999903678894 ],\n",
    "[  938,  1476,  972,  1476,  972,  1491,  938,  1492,  0.2750052213668823 ],\n",
    "[  612,  586,  652,  586,  652,  603,  612,  602,  0.15911908447742462 ],\n",
    "[  461,  560,  526,  559,  526,  578,  461,  578,  0.2030918002128601 ],\n",
    "[  1110,  1097,  1142,  1097,  1143,  1114,  1110,  1114,  0.11737138777971268 ],\n",
    "[  144,  987,  188,  987,  188,  1004,  144,  1004,  0.29081445932388306 ],\n",
    "[  678,  800,  715,  800,  715,  816,  678,  816,  0.2514839172363281 ],\n",
    "[  1017,  611,  1065,  610,  1065,  627,  1018,  628,  0.16521616280078888 ],\n",
    "[  458,  1134,  493,  1133,  493,  1150,  459,  1151,  0.2359027862548828 ],\n",
    "[  768,  1425,  807,  1426,  807,  1442,  768,  1441,  0.2799881100654602 ],\n",
    "[  468,  1475,  528,  1475,  528,  1493,  467,  1492,  0.32491979002952576 ],\n",
    "[  1002,  716,  1044,  716,  1044,  732,  1002,  733,  0.25627654790878296 ],\n",
    "[  1178,  667,  1217,  667,  1217,  683,  1178,  683,  0.23172907531261444 ],\n",
    "[  515,  636,  556,  635,  557,  652,  515,  653,  0.2191179394721985 ],\n",
    "[  179,  887,  274,  886,  275,  907,  179,  909,  0.10540921986103058 ],\n",
    "[  134,  428,  188,  428,  188,  444,  134,  445,  0.2618483603000641 ],\n",
    "[  544,  1317,  593,  1316,  593,  1334,  545,  1335,  0.27691027522087097 ],\n",
    "[  1048,  959,  1099,  959,  1098,  978,  1047,  978,  0.2417738288640976 ],\n",
    "[  459,  959,  488,  960,  487,  978,  458,  977,  0.18177537620067596 ],\n",
    "[  789,  958,  819,  958,  819,  978,  789,  977,  0.20811326801776886 ],\n",
    "[  329,  883,  378,  883,  378,  902,  329,  902,  0.2868523597717285 ],\n",
    "[  138,  959,  202,  959,  202,  980,  138,  980,  0.22898229956626892 ],\n",
    "[  965,  826,  1003,  825,  1004,  842,  966,  842,  0.22635388374328613 ],\n",
    "[  968,  717,  1000,  716,  1001,  733,  969,  733,  0.18539774417877197 ],\n",
    "[  534,  935,  562,  935,  561,  952,  533,  951,  0.21146446466445923 ],\n",
    "[  155,  563,  188,  564,  188,  581,  154,  580,  0.1848406046628952 ],\n",
    "[  621,  1132,  653,  1131,  654,  1151,  621,  1152,  0.20064324140548706 ],\n",
    "[  530,  884,  564,  884,  564,  901,  530,  902,  0.22194130718708038 ],\n",
    "[  560,  1132,  616,  1131,  616,  1150,  561,  1151,  0.2640993595123291 ],\n",
    "[  617,  959,  668,  959,  668,  977,  617,  977,  0.26530858874320984 ],\n",
    "[  621,  1427,  654,  1426,  654,  1441,  621,  1442,  0.2765619158744812 ],\n",
    "[  528,  716,  559,  716,  559,  733,  529,  734,  0.14682088792324066 ],\n",
    "[  642,  883,  678,  882,  679,  901,  643,  901,  0.24260495603084564 ],\n",
    "[  459,  851,  495,  850,  496,  866,  459,  867,  0.26584088802337646 ],\n",
    "[  499,  851,  522,  850,  523,  866,  499,  867,  0.14337503910064697 ],\n",
    "[  345,  348,  374,  349,  373,  367,  344,  366,  0.22729122638702393 ],\n",
    "[  875,  1094,  904,  1094,  905,  1113,  875,  1114,  0.2280764877796173 ],\n",
    "[  626,  1168,  662,  1169,  662,  1189,  625,  1188,  0.1655104011297226 ],\n",
    "[  720,  1098,  753,  1097,  753,  1113,  720,  1114,  0.20867741107940674 ],\n",
    "[  1191,  826,  1215,  825,  1216,  843,  1192,  844,  0.19987526535987854 ],\n",
    "[  572,  665,  604,  664,  605,  682,  573,  683,  0.22224238514900208 ],\n",
    "[  1006,  934,  1032,  934,  1032,  952,  1006,  952,  0.1037343442440033 ],\n",
    "[  1020,  1173,  1047,  1173,  1047,  1189,  1019,  1188,  0.18495772778987885 ],\n",
    "[  492,  1133,  532,  1132,  532,  1149,  492,  1150,  0.2688230574131012 ],\n",
    "[  792,  562,  828,  562,  828,  578,  792,  578,  0.18411415815353394 ],\n",
    "[  1109,  15,  1137,  14,  1137,  30,  1109,  30,  0.19972842931747437 ],\n",
    "[  1086,  716,  1113,  716,  1113,  732,  1086,  732,  0.1882857233285904 ],\n",
    "[  538,  1133,  559,  1133,  559,  1151,  538,  1151,  0.10806214064359665 ],\n",
    "[  1135,  1136,  1169,  1135,  1169,  1151,  1136,  1152,  0.13457541167736053 ],\n",
    "[  757,  715,  784,  715,  784,  733,  757,  733,  0.16222190856933594 ],\n",
    "[  656,  1132,  685,  1131,  686,  1153,  656,  1154,  0.20834247767925262 ],\n",
    "[  1133,  14,  1175,  14,  1175,  31,  1133,  31,  0.25434839725494385 ],\n",
    "[  179,  427,  213,  428,  213,  444,  179,  444,  0.1333804577589035 ],\n",
    "[  704,  826,  739,  826,  739,  842,  703,  842,  0.14468234777450562 ],\n",
    "[  1042,  1136,  1070,  1136,  1070,  1151,  1042,  1151,  0.15981008112430573 ],\n",
    "[  662,  559,  692,  559,  693,  578,  662,  578,  0.15263400971889496 ]])\n",
    "\n",
    "# setting distance_threshold=0 ensures we compute the full tree.\n",
    "model = AgglomerativeClustering(distance_threshold=0, n_clusters=None)\n",
    "\n",
    "model = model.fit(X)\n",
    "plt.title('Hierarchical Clustering Dendrogram')\n",
    "# plot the top three levels of the dendrogram\n",
    "plot_dendrogram(model, truncate_mode='level', p=3)\n",
    "plt.xlabel(\"Number of points in node (or index of point if no parenthesis).\")\n",
    "plt.show()"
   ]
  },
  {
   "cell_type": "code",
   "execution_count": 23,
   "metadata": {},
   "outputs": [
    {
     "data": {
      "text/plain": [
       "array([1, 1, 1, 1, 0, 0, 1, 1, 0, 1, 1, 1, 1, 0, 1, 1, 1, 1, 1, 1, 1, 1,\n",
       "       0, 1, 1, 1, 1, 1, 1, 1, 0, 1, 1, 0, 0, 0, 0, 1, 0, 0, 0, 1, 0, 0,\n",
       "       0, 1, 0, 1, 1, 0, 0, 1, 1, 0, 1, 0, 1, 1, 0, 0, 1, 1, 1, 0, 1, 0,\n",
       "       1, 1, 1, 1, 1, 0, 1, 0, 0, 1, 1, 1, 0, 1, 1, 0, 0, 1, 1, 0, 1, 1,\n",
       "       0, 1, 1, 1, 1, 1, 1, 1, 0, 1, 0, 0, 0, 0, 1, 0, 1, 0, 0, 0, 0, 1,\n",
       "       1, 1, 0, 1, 1, 0, 1, 0, 0, 1, 1, 0, 0, 0, 1, 0, 0, 1, 0, 1, 1, 1,\n",
       "       1, 0, 0, 1, 0, 1, 1, 1, 1, 1, 0, 1, 0, 1, 0, 0, 1, 0, 1, 1, 0, 1,\n",
       "       0, 0, 0, 0, 1, 1, 0, 1, 1, 0, 1, 1, 1, 1, 1, 0, 0, 0, 0, 0, 0, 0,\n",
       "       0, 0, 0, 1, 0, 0, 0, 0, 0, 0, 0, 1, 0, 1, 1, 1, 1, 0, 1, 0, 0, 0,\n",
       "       0, 0, 0, 1, 0, 0, 0, 1, 1, 0, 1, 1, 0, 0, 0, 0, 0, 0, 1, 1, 1, 0,\n",
       "       0, 1, 0, 1, 1, 0, 0, 1, 1, 0, 1, 0, 1, 0, 1, 1, 1, 1, 1, 0, 0, 0,\n",
       "       0, 1, 0, 0, 0, 1, 0, 0, 0, 0, 1, 0, 0, 1, 1, 0, 1], dtype=int64)"
      ]
     },
     "execution_count": 23,
     "metadata": {},
     "output_type": "execute_result"
    }
   ],
   "source": [
    "clustering = AgglomerativeClustering().fit(X)\n",
    "clustering\n",
    "AgglomerativeClustering()\n",
    "clustering.labels_"
   ]
  },
  {
   "cell_type": "code",
   "execution_count": 38,
   "metadata": {},
   "outputs": [
    {
     "data": {
      "text/plain": [
       "array([3, 3, 3, 1, 0, 0, 1, 1, 0, 3, 3, 3, 1, 0, 3, 3, 1, 3, 1, 1, 1, 3,\n",
       "       0, 3, 1, 1, 1, 1, 1, 1, 0, 1, 3, 2, 0, 2, 0, 3, 0, 2, 2, 1, 0, 0,\n",
       "       2, 1, 0, 1, 1, 2, 2, 1, 1, 0, 3, 2, 1, 3, 2, 2, 1, 3, 3, 0, 1, 0,\n",
       "       1, 1, 1, 1, 3, 0, 3, 2, 2, 1, 3, 1, 0, 1, 1, 2, 0, 1, 1, 2, 3, 3,\n",
       "       0, 3, 1, 1, 1, 3, 1, 1, 2, 1, 2, 0, 2, 0, 1, 0, 1, 0, 2, 0, 2, 1,\n",
       "       1, 1, 0, 1, 1, 0, 1, 0, 0, 1, 3, 2, 0, 2, 3, 2, 0, 3, 2, 1, 1, 1,\n",
       "       1, 0, 0, 1, 2, 1, 1, 1, 3, 1, 2, 1, 2, 1, 0, 2, 1, 0, 1, 3, 0, 1,\n",
       "       2, 2, 0, 0, 1, 3, 0, 1, 1, 2, 1, 3, 1, 1, 3, 2, 0, 0, 0, 0, 2, 0,\n",
       "       2, 2, 2, 1, 2, 0, 0, 2, 2, 2, 2, 1, 0, 3, 1, 1, 1, 0, 3, 0, 2, 2,\n",
       "       2, 0, 0, 3, 2, 0, 0, 1, 1, 0, 1, 1, 2, 0, 0, 0, 2, 2, 1, 1, 3, 0,\n",
       "       2, 1, 2, 1, 1, 2, 2, 1, 1, 0, 1, 0, 1, 0, 1, 1, 1, 1, 3, 2, 0, 0,\n",
       "       2, 1, 2, 0, 0, 1, 2, 2, 0, 0, 1, 0, 2, 3, 1, 0, 1], dtype=int64)"
      ]
     },
     "execution_count": 38,
     "metadata": {},
     "output_type": "execute_result"
    }
   ],
   "source": [
    "model = AgglomerativeClustering(n_clusters=4, affinity='euclidean', linkage='ward')\n",
    "model.fit(X)\n",
    "labels = model.labels_\n",
    "labels"
   ]
  },
  {
   "cell_type": "code",
   "execution_count": 31,
   "metadata": {},
   "outputs": [
    {
     "data": {
      "image/png": "[encoded data removed]",
      "text/plain": [
       "<Figure size 432x288 with 1 Axes>"
      ]
     },
     "metadata": {
      "needs_background": "light"
     },
     "output_type": "display_data"
    }
   ],
   "source": [
    "plt.scatter(X[labels==0, 0], X[labels==0, 1], s=50, marker='o', color='red')\n",
    "plt.scatter(X[labels==1, 0], X[labels==1, 1], s=50, marker='o', color='blue')\n",
    "plt.scatter(X[labels==2, 0], X[labels==2, 1], s=50, marker='o', color='green')\n",
    "plt.scatter(X[labels==3, 0], X[labels==3, 1], s=50, marker='o', color='purple')\n",
    "plt.scatter(X[labels==4, 0], X[labels==4, 1], s=50, marker='o', color='orange')\n",
    "plt.show()"
   ]
  },
  {
   "cell_type": "code",
   "execution_count": 37,
   "metadata": {},
   "outputs": [
    {
     "data": {
      "image/png": "[encoded data removed]",
      "text/plain": [
       "<Figure size 432x288 with 1 Axes>"
      ]
     },
     "metadata": {
      "needs_background": "light"
     },
     "output_type": "display_data"
    }
   ],
   "source": [
    "dendrogram = sch.dendrogram(sch.linkage(X, method='ward'))"
   ]
  },
  {
   "cell_type": "code",
   "execution_count": null,
   "metadata": {},
   "outputs": [],
   "source": []
  }
 ],
 "metadata": {
  "kernelspec": {
   "display_name": "Python 3",
   "language": "python",
   "name": "python3"
  },
  "language_info": {
   "codemirror_mode": {
    "name": "ipython",
    "version": 3
   },
   "file_extension": ".py",
   "mimetype": "text/x-python",
   "name": "python",
   "nbconvert_exporter": "python",
   "pygments_lexer": "ipython3",
   "version": "3.7.0"
  }
 },
 "nbformat": 4,
 "nbformat_minor": 2
}
