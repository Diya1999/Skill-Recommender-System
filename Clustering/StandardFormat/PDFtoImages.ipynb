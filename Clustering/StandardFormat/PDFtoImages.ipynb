{
 "cells": [
  {
   "cell_type": "code",
   "execution_count": 6,
   "metadata": {},
   "outputs": [],
   "source": [
    "from pdf2image import convert_from_path\n",
    "import os\n",
    "import tempfile\n",
    "from pdf2image import convert_from_path\n",
    "from PyPDF3 import PdfFileWriter, PdfFileReader\n",
    "import glob"
   ]
  },
  {
   "cell_type": "code",
   "execution_count": 31,
   "metadata": {},
   "outputs": [],
   "source": [
    "path=r\"D:\\College\\FinalYearCapstone\\StandardResume\\trial4\"\n",
    "output_folder_path=r\"D:\\College\\FinalYearCapstone\\StandardResume\\images\"\n",
    "pdf_list = os.listdir(path) ## name of directory with all pdfs"
   ]
  },
  {
   "cell_type": "code",
   "execution_count": 34,
   "metadata": {},
   "outputs": [],
   "source": [
    "for pdf in pdf_list:\n",
    "    pdfname = path+'\\\\'+pdf\n",
    "    images = convert_from_path(pdfname,poppler_path = r\"C:\\Program Files\\poppler-20.11.0\\bin\")\n",
    "    for i in range(len(images)):\n",
    "        page = images[i]\n",
    "        page.save(output_folder_path+'\\\\'+pdf+'_{}.jpg'.format(i), 'JPEG')"
   ]
  }
 ],
 "metadata": {
  "kernelspec": {
   "display_name": "Python 3",
   "language": "python",
   "name": "python3"
  },
  "language_info": {
   "codemirror_mode": {
    "name": "ipython",
    "version": 3
   },
   "file_extension": ".py",
   "mimetype": "text/x-python",
   "name": "python",
   "nbconvert_exporter": "python",
   "pygments_lexer": "ipython3",
   "version": "3.7.3"
  }
 },
 "nbformat": 4,
 "nbformat_minor": 2
}
