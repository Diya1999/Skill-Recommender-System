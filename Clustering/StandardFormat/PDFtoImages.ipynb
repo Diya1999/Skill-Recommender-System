{
 "cells": [
  {
   "cell_type": "code",
   "execution_count": 57,
   "metadata": {},
   "outputs": [],
   "source": [
    "from pdf2image import convert_from_path\n",
    "import os\n",
    "import tempfile\n",
    "from pdf2image import convert_from_path\n",
    "from PyPDF3 import PdfFileWriter, PdfFileReader\n",
    "import glob\n",
    "import cv2\n",
    "import numpy as np\n",
    "import PIL\n",
    "from PIL import Image"
   ]
  },
  {
   "cell_type": "code",
   "execution_count": 46,
   "metadata": {},
   "outputs": [],
   "source": [
    "path=r\"D:\\College\\FinalYearCapstone\\StandardResume\"\n",
    "output_folder_path=r\"D:\\College\\FinalYearCapstone\\StandardResume\\images\"\n",
    "pdf_list = os.listdir(path) ## name of directory with all pdfs\n",
    "pdf_list = [_ for _ in os.listdir(path) if _.endswith(\".pdf\")]"
   ]
  },
  {
   "cell_type": "code",
   "execution_count": 61,
   "metadata": {},
   "outputs": [
    {
     "name": "stderr",
     "output_type": "stream",
     "text": [
      "C:\\Users\\rames\\Anaconda3\\lib\\site-packages\\ipykernel_launcher.py:10: FutureWarning: arrays to stack must be passed as a \"sequence\" type such as list or tuple. Support for non-sequence iterables such as generators is deprecated as of NumPy 1.16 and will raise an error in the future.\n",
      "  # Remove the CWD from sys.path while we load stuff.\n"
     ]
    }
   ],
   "source": [
    "for pdf in pdf_list:\n",
    "    pdfname = path+'\\\\'+pdf\n",
    "    images = convert_from_path(pdfname,poppler_path = r\"C:\\Program Files\\poppler-20.11.0\\bin\")\n",
    "    page = images[0]\n",
    "    '''for i in range(1,len(images)):\n",
    "        page = cv2.hconcat([ np.asarray(page), np.asarray(images[i])])\n",
    "    cv2.imshow('Vertical', page)\n",
    "    cv2.waitKey(0)\n",
    "    cv2.destroyAllWindows()'''\n",
    "    imgs_comb = np.vstack( (np.asarray(i) for i in images ) )\n",
    "    imgs_comb = PIL.Image.fromarray( imgs_comb)\n",
    "    pdf_name = pdf.replace(\".pdf\",'')\n",
    "    imgs_comb.save(output_folder_path+'\\\\'+pdf_name+'.jpg'.format(i), 'JPEG')\n",
    "        #pdf_name = pdf.replace(\".pdf\",'')\n",
    "        #page.save(output_folder_path+'\\\\'+pdf_name+'_{}.jpg'.format(i), 'JPEG')"
   ]
  },
  {
   "cell_type": "code",
   "execution_count": null,
   "metadata": {},
   "outputs": [],
   "source": []
  }
 ],
 "metadata": {
  "kernelspec": {
   "display_name": "Python 3",
   "language": "python",
   "name": "python3"
  },
  "language_info": {
   "codemirror_mode": {
    "name": "ipython",
    "version": 3
   },
   "file_extension": ".py",
   "mimetype": "text/x-python",
   "name": "python",
   "nbconvert_exporter": "python",
   "pygments_lexer": "ipython3",
   "version": "3.7.3"
  }
 },
 "nbformat": 4,
 "nbformat_minor": 2
}
