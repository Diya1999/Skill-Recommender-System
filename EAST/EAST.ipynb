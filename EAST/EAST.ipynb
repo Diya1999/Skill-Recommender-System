{
 "cells": [
  {
   "cell_type": "code",
   "execution_count": 5,
   "metadata": {},
   "outputs": [],
   "source": [
    "from imutils.object_detection import non_max_suppression\n",
    "import numpy as np\n",
    "import argparse\n",
    "import time\n",
    "import cv2\n",
    "import numpy as np\n",
    "import cv2\n",
    "from imutils.object_detection import non_max_suppression\n",
    "import pytesseract\n",
    "from matplotlib import pyplot as plt\n",
    "import pytesseract\n",
    "from pytesseract import image_to_string\n"
   ]
  },
  {
   "cell_type": "code",
   "execution_count": 27,
   "metadata": {},
   "outputs": [],
   "source": [
    "#Creating argument dictionary for the default arguments needed in the code. \n",
    "#00-Kaveri-page-001\n",
    "#C:\\Users\\diyas\\Downloads\\opencv-text-detection\\images\\lebron_james.jpg\n",
    "#C:\\Users\\diyas\\Downloads\\01FB15ECS008-page-001.jpg\n",
    "args = {\"image\":r\"C:\\Users\\diyas\\Downloads\\01FB15ECS008-page-001.jpg\", \"east\":r\"C:\\Users\\diyas\\Downloads\\opencv-text-detection\\frozen_east_text_detection.pb\", \"min_confidence\":0.5, \"width\":320, \"height\":320}"
   ]
  },
  {
   "cell_type": "code",
   "execution_count": 28,
   "metadata": {},
   "outputs": [],
   "source": [
    "\n",
    "image = cv2.imread(args['image'])\n",
    "\n",
    "#Saving a original image and shape\n",
    "orig = image.copy()\n",
    "(origH, origW) = image.shape[:2]\n",
    "\n",
    "# set the new height and width to default 320 by using args #dictionary.  \n",
    "(newW, newH) = (args[\"width\"], args[\"height\"])\n",
    "\n",
    "#Calculate the ratio between original and new image for both height and weight. \n",
    "#This ratio will be used to translate bounding box location on the original image. \n",
    "rW = origW / float(newW)\n",
    "rH = origH / float(newH)\n",
    "\n",
    "# resize the original image to new dimensions\n",
    "image = cv2.resize(image, (newW, newH))\n",
    "(H, W) = image.shape[:2]\n",
    "\n",
    "# construct a blob from the image to forward pass it to EAST model\n",
    "blob = cv2.dnn.blobFromImage(image, 1.0, (W, H),\n",
    "\t(123.68, 116.78, 103.94), swapRB=True, crop=False)"
   ]
  },
  {
   "cell_type": "code",
   "execution_count": 29,
   "metadata": {},
   "outputs": [
    {
     "name": "stdout",
     "output_type": "stream",
     "text": [
      "[INFO] loading EAST text detector...\n"
     ]
    }
   ],
   "source": [
    "layerNames = [\"feature_fusion/Conv_7/Sigmoid\",\"feature_fusion/concat_3\"]\n",
    "\n",
    "# load the pre-trained EAST text detector\n",
    "print(\"[INFO] loading EAST text detector...\")\n",
    "net = cv2.dnn.readNet(args[\"east\"])\n",
    "  \n",
    "#Forward pass the blob from the image to get the desired output layers\n",
    "net.setInput(blob)\n",
    "(scores, geometry) = net.forward(layerNames)\n",
    "\n",
    "# Returns a bounding box and probability score if it is more than minimum confidence\n",
    "def predictions(prob_score, geo):\n",
    "\t(numR, numC) = prob_score.shape[2:4]\n",
    "\tboxes = []\n",
    "\tconfidence_val = []\n",
    "\n",
    "\t# loop over rows\n",
    "\tfor y in range(0, numR):\n",
    "\t\tscoresData = prob_score[0, 0, y]\n",
    "\t\tx0 = geo[0, 0, y]\n",
    "\t\tx1 = geo[0, 1, y]\n",
    "\t\tx2 = geo[0, 2, y]\n",
    "\t\tx3 = geo[0, 3, y]\n",
    "\t\tanglesData = geo[0, 4, y]\n",
    "\n",
    "\t\t# loop over the number of columns\n",
    "\t\tfor i in range(0, numC):\n",
    "\t\t\tif scoresData[i] < args[\"min_confidence\"]:\n",
    "\t\t\t\tcontinue\n",
    "\n",
    "\t\t\t(offX, offY) = (i * 4.0, y * 4.0)\n",
    "\n",
    "\t\t\t# extracting the rotation angle for the prediction and computing the sine and cosine\n",
    "\t\t\tangle = anglesData[i]\n",
    "\t\t\tcos = np.cos(angle)\n",
    "\t\t\tsin = np.sin(angle)\n",
    "\n",
    "\t\t\t# using the geo volume to get the dimensions of the bounding box\n",
    "\t\t\th = x0[i] + x2[i]\n",
    "\t\t\tw = x1[i] + x3[i]\n",
    "\n",
    "\t\t\t# compute start and end for the text pred bbox\n",
    "\t\t\tendX = int(offX + (cos * x1[i]) + (sin * x2[i]))\n",
    "\t\t\tendY = int(offY - (sin * x1[i]) + (cos * x2[i]))\n",
    "\t\t\tstartX = int(endX - w)\n",
    "\t\t\tstartY = int(endY - h)\n",
    "\n",
    "\t\t\tboxes.append((startX, startY, endX, endY))\n",
    "\t\t\tconfidence_val.append(scoresData[i])\n",
    "\n",
    "\t# return bounding boxes and associated confidence_val\n",
    "\treturn (boxes, confidence_val)"
   ]
  },
  {
   "cell_type": "code",
   "execution_count": 30,
   "metadata": {},
   "outputs": [
    {
     "name": "stdout",
     "output_type": "stream",
     "text": [
      "[INFO] text detection took 0.183961 seconds\n"
     ]
    },
    {
     "data": {
      "text/plain": [
       "-1"
      ]
     },
     "execution_count": 30,
     "metadata": {},
     "output_type": "execute_result"
    }
   ],
   "source": [
    "blob = cv2.dnn.blobFromImage(image, 1.0, (W, H),\n",
    "\t(123.68, 116.78, 103.94), swapRB=True, crop=False)\n",
    "start = time.time()\n",
    "net.setInput(blob)\n",
    "(scores, geometry) = net.forward(layerNames)\n",
    "end = time.time()\n",
    "\n",
    "# show timing information on text prediction\n",
    "print(\"[INFO] text detection took {:.6f} seconds\".format(end - start))\n",
    "\n",
    "# grab the number of rows and columns from the scores volume, then\n",
    "# initialize our set of bounding box rectangles and corresponding\n",
    "# confidence scores\n",
    "(numRows, numCols) = scores.shape[2:4]\n",
    "rects = []\n",
    "confidences = []\n",
    "\n",
    "# loop over the number of rows\n",
    "for y in range(0, numRows):\n",
    "\t# extract the scores (probabilities), followed by the geometrical\n",
    "\t# data used to derive potential bounding box coordinates that\n",
    "\t# surround text\n",
    "\tscoresData = scores[0, 0, y]\n",
    "\txData0 = geometry[0, 0, y]\n",
    "\txData1 = geometry[0, 1, y]\n",
    "\txData2 = geometry[0, 2, y]\n",
    "\txData3 = geometry[0, 3, y]\n",
    "\tanglesData = geometry[0, 4, y]\n",
    "\n",
    "\t# loop over the number of columns\n",
    "\tfor x in range(0, numCols):\n",
    "\t\t# if our score does not have sufficient probability, ignore it\n",
    "\t\tif scoresData[x] < args[\"min_confidence\"]:\n",
    "\t\t\tcontinue\n",
    "\n",
    "\t\t# compute the offset factor as our resulting feature maps will\n",
    "\t\t# be 4x smaller than the input image\n",
    "\t\t(offsetX, offsetY) = (x * 4.0, y * 4.0)\n",
    "\n",
    "\t\t# extract the rotation angle for the prediction and then\n",
    "\t\t# compute the sin and cosine\n",
    "\t\tangle = anglesData[x]\n",
    "\t\tcos = np.cos(angle)\n",
    "\t\tsin = np.sin(angle)\n",
    "\n",
    "\t\t# use the geometry volume to derive the width and height of\n",
    "\t\t# the bounding box\n",
    "\t\th = xData0[x] + xData2[x]\n",
    "\t\tw = xData1[x] + xData3[x]\n",
    "\n",
    "\t\t# compute both the starting and ending (x, y)-coordinates for\n",
    "\t\t# the text prediction bounding box\n",
    "\t\tendX = int(offsetX + (cos * xData1[x]) + (sin * xData2[x]))\n",
    "\t\tendY = int(offsetY - (sin * xData1[x]) + (cos * xData2[x]))\n",
    "\t\tstartX = int(endX - w)\n",
    "\t\tstartY = int(endY - h)\n",
    "\n",
    "\t\t# add the bounding box coordinates and probability score to\n",
    "\t\t# our respective lists\n",
    "\t\trects.append((startX, startY, endX, endY))\n",
    "\t\tconfidences.append(scoresData[x])\n",
    "\n",
    "# apply non-maxima suppression to suppress weak, overlapping bounding\n",
    "# boxes\n",
    "boxes = non_max_suppression(np.array(rects), probs=confidences)\n",
    "\n",
    "# loop over the bounding boxes\n",
    "for (startX, startY, endX, endY) in boxes:\n",
    "\t# scale the bounding box coordinates based on the respective\n",
    "\t# ratios\n",
    "\tstartX = int(startX * rW)\n",
    "\tstartY = int(startY * rH)\n",
    "\tendX = int(endX * rW)\n",
    "\tendY = int(endY * rH)\n",
    "\n",
    "\t# draw the bounding box on the image\n",
    "\tcv2.rectangle(orig, (startX, startY), (endX, endY), (0, 255, 0), 2)\n",
    "\n",
    "# show the output image\n",
    "cv2.imshow(\"Text Detection\", orig)\n",
    "cv2.waitKey(0)"
   ]
  },
  {
   "cell_type": "code",
   "execution_count": 31,
   "metadata": {},
   "outputs": [],
   "source": [
    "(boxes, confidence_val) = predictions(scores, geometry)\n",
    "boxes = non_max_suppression(np.array(boxes), probs=confidence_val)\n",
    "\n",
    "##Text Detection and Recognition \n",
    "\n",
    "# initialize the list of results\n",
    "results = []\n",
    "\n",
    "# loop over the bounding boxes to find the coordinate of bounding boxes\n",
    "for (startX, startY, endX, endY) in boxes:\n",
    "\t# scale the coordinates based on the respective ratios in order to reflect bounding box on the original image\n",
    "\tstartX = int(startX * rW)\n",
    "\tstartY = int(startY * rH)\n",
    "\tendX = int(endX * rW)\n",
    "\tendY = int(endY * rH)\n",
    "\n",
    "\t#extract the region of interest\n",
    "\tr = orig[startY:endY, startX:endX]\n",
    "\n",
    "\t#configuration setting to convert image to string.  \n",
    "\tcustom_config = r'--oem 3 --psm 6'\n",
    "text=pytesseract.image_to_string(r, config=custom_config)\n",
    "\n",
    "\n",
    "results.append(((startX, startY, endX, endY), text))\n"
   ]
  },
  {
   "cell_type": "code",
   "execution_count": 32,
   "metadata": {},
   "outputs": [
    {
     "name": "stdout",
     "output_type": "stream",
     "text": [
      ": fake or a\n",
      "\n"
     ]
    },
    {
     "data": {
      "image/png": "[encoded data removed]",
      "text/plain": [
       "<Figure size 432x288 with 1 Axes>"
      ]
     },
     "metadata": {
      "needs_background": "light"
     },
     "output_type": "display_data"
    }
   ],
   "source": [
    "#Display the image with bounding box and recognized text\n",
    "orig_image = orig.copy()\n",
    "\n",
    "# Moving over the results and display on the image\n",
    "for ((start_X, start_Y, end_X, end_Y), text) in results:\n",
    "\t# display the text detected by Tesseract\n",
    "\tprint(\"{}\\n\".format(text))\n",
    "\n",
    "\t# Displaying text\n",
    "\ttext = \"\".join([x if ord(x) < 128 else \"\" for x in text]).strip()\n",
    "\tcv2.rectangle(orig_image, (start_X, start_Y), (end_X, end_Y),\n",
    "\t\t(0, 0, 255), 2)\n",
    "\tcv2.putText(orig_image, text, (start_X, start_Y - 30),\n",
    "\t\tcv2.FONT_HERSHEY_SIMPLEX, 0.7,(0,0, 255), 2)\n",
    "\n",
    "plt.imshow(orig_image)\n",
    "plt.title('Output')\n",
    "plt.show()"
   ]
  },
  {
   "cell_type": "code",
   "execution_count": 33,
   "metadata": {},
   "outputs": [
    {
     "data": {
      "text/plain": [
       "array([[251,  14, 287,  25],\n",
       "       [254,  60, 293,  73],\n",
       "       [ 69,   6, 107,  16],\n",
       "       [213,   9, 243,  22],\n",
       "       [132, 279, 231, 290],\n",
       "       [ 29,   5,  67,  16],\n",
       "       [ 93,  61, 136,  72],\n",
       "       [158, 224, 192, 239],\n",
       "       [ 90, 277, 121, 290],\n",
       "       [246, 223, 287, 234],\n",
       "       [214, 221, 249, 232],\n",
       "       [ 28, 215,  47, 228],\n",
       "       [185,  13, 205,  27],\n",
       "       [ 45, 252,  73, 267],\n",
       "       [187,  98, 225, 111],\n",
       "       [ 26,  60,  52,  73],\n",
       "       [ 27,  83,  51,  95],\n",
       "       [132, 228, 153, 242],\n",
       "       [ 56, 270,  88, 283],\n",
       "       [ 24, 271,  53, 284],\n",
       "       [ 88, 123, 117, 134],\n",
       "       [ 27, 119,  49, 130],\n",
       "       [ 26, 137,  45, 148],\n",
       "       [ 65, 227,  88, 240],\n",
       "       [ 41,  26,  70,  36],\n",
       "       [ 96,  29, 121,  40],\n",
       "       [115, 227, 133, 243],\n",
       "       [144, 158, 170, 169],\n",
       "       [258, 100, 287, 111],\n",
       "       [147, 118, 205, 132],\n",
       "       [ 94, 226, 111, 240],\n",
       "       [ 45, 280,  75, 293],\n",
       "       [167, 159, 197, 169]])"
      ]
     },
     "execution_count": 33,
     "metadata": {},
     "output_type": "execute_result"
    }
   ],
   "source": [
    "boxes\n"
   ]
  },
  {
   "cell_type": "code",
   "execution_count": 34,
   "metadata": {},
   "outputs": [
    {
     "data": {
      "text/plain": [
       "': fake or a'"
      ]
     },
     "execution_count": 34,
     "metadata": {},
     "output_type": "execute_result"
    }
   ],
   "source": [
    "text"
   ]
  },
  {
   "cell_type": "code",
   "execution_count": 35,
   "metadata": {},
   "outputs": [
    {
     "data": {
      "text/plain": [
       "<function __main__.predictions>"
      ]
     },
     "execution_count": 35,
     "metadata": {},
     "output_type": "execute_result"
    }
   ],
   "source": [
    "predictions"
   ]
  },
  {
   "cell_type": "code",
   "execution_count": null,
   "metadata": {},
   "outputs": [],
   "source": []
  }
 ],
 "metadata": {
  "kernelspec": {
   "display_name": "Python 3",
   "language": "python",
   "name": "python3"
  },
  "language_info": {
   "codemirror_mode": {
    "name": "ipython",
    "version": 3
   },
   "file_extension": ".py",
   "mimetype": "text/x-python",
   "name": "python",
   "nbconvert_exporter": "python",
   "pygments_lexer": "ipython3",
   "version": "3.7.0"
  }
 },
 "nbformat": 4,
 "nbformat_minor": 2
}
