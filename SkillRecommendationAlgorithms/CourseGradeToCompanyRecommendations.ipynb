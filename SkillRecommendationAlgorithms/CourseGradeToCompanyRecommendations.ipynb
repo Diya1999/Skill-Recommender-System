{
 "cells": [
  {
   "cell_type": "code",
   "execution_count": 1,
   "metadata": {},
   "outputs": [],
   "source": [
    "from sklearn.model_selection import train_test_split"
   ]
  },
  {
   "cell_type": "code",
   "execution_count": 2,
   "metadata": {},
   "outputs": [],
   "source": [
    "%run Company2CoursesPreprocessing.ipynb"
   ]
  },
  {
   "cell_type": "code",
   "execution_count": 3,
   "metadata": {},
   "outputs": [],
   "source": [
    "########################### get similarity matrix based on tier and ctc #########################################################\n",
    "df_company_det1 = df_company_det\n",
    "df_company_det1 = df_company_det1.reset_index(level=['CompanyName_New'])\n",
    "df_company_det1['CompanyName_Cat'] = df_company_det1[\"CompanyName_New\"].astype('category').cat.codes\n",
    "df_company_det1 = df_company_det1.drop(['CompanyName_New'], axis = 1) \n",
    "ctcRatingsData = df_company_det1.stack().reset_index().rename(columns={'level_0':'CompanyName_Cat','level_1':'Features', 0:'FeatureRating'})\n",
    "ctcRatingsData['Features_Cat'] = ctcRatingsData[\"Features\"].astype('category').cat.codes\n",
    "df_features = ctcRatingsData[['Features_Cat','Features']]\n",
    "df_features = df_features.drop_duplicates(subset=['Features_Cat','Features'], keep='last')\n",
    "ctcRatingsData = ctcRatingsData.drop(['Features'], axis = 1) "
   ]
  },
  {
   "cell_type": "code",
   "execution_count": 4,
   "metadata": {},
   "outputs": [],
   "source": [
    "dfCourseGradeAvgTemp = dfCourseGradeAvg"
   ]
  },
  {
   "cell_type": "code",
   "execution_count": 5,
   "metadata": {},
   "outputs": [],
   "source": [
    "dfCourseGradeAvg = dfCourseGradeAvg.reset_index(level=['CompanyName_New'])"
   ]
  },
  {
   "cell_type": "code",
   "execution_count": 6,
   "metadata": {},
   "outputs": [],
   "source": [
    "dfCourseGradeAvg[\"CompanyName_Cat\"] = dfCourseGradeAvg[\"CompanyName_New\"].astype('category').cat.codes"
   ]
  },
  {
   "cell_type": "code",
   "execution_count": 7,
   "metadata": {},
   "outputs": [],
   "source": [
    "df_company = dfCourseGradeAvg[['CompanyName_New','CompanyName_Cat']]\n",
    "df = dfCourseGradeAvg.drop(['CompanyName_New'], axis = 1) "
   ]
  },
  {
   "cell_type": "code",
   "execution_count": 8,
   "metadata": {},
   "outputs": [],
   "source": [
    "originalGradeRatingsData1 = df.stack().reset_index().rename(columns={'level_0':'CompanyName_Cat','level_1':'CourseName', 0:'GradeRating'})"
   ]
  },
  {
   "cell_type": "code",
   "execution_count": 9,
   "metadata": {},
   "outputs": [],
   "source": [
    "originalGradeRatingsData1['CourseName_Cat'] = originalGradeRatingsData1[\"CourseName\"].astype('category').cat.codes"
   ]
  },
  {
   "cell_type": "code",
   "execution_count": 10,
   "metadata": {},
   "outputs": [],
   "source": [
    "df_grade = originalGradeRatingsData1[['CourseName_Cat','CourseName']]\n",
    "df_grade = df_grade.drop_duplicates(subset=['CourseName_Cat','CourseName'], keep='last')\n",
    "originalGradeRatingsData1 = originalGradeRatingsData1.drop(['CourseName'], axis = 1) "
   ]
  },
  {
   "cell_type": "code",
   "execution_count": 11,
   "metadata": {},
   "outputs": [],
   "source": [
    "xTrain, xTest = train_test_split(originalGradeRatingsData1, test_size = 0.1, random_state = 0)"
   ]
  },
  {
   "cell_type": "code",
   "execution_count": 12,
   "metadata": {},
   "outputs": [
    {
     "name": "stdout",
     "output_type": "stream",
     "text": [
      "(9379, 3)\n",
      "(1043, 3)\n"
     ]
    },
    {
     "name": "stderr",
     "output_type": "stream",
     "text": [
      "C:\\Users\\rames\\Anaconda3\\lib\\site-packages\\ipykernel_launcher.py:1: FutureWarning: Method .as_matrix will be removed in a future version. Use .values instead.\n",
      "  \"\"\"Entry point for launching an IPython kernel.\n",
      "C:\\Users\\rames\\Anaconda3\\lib\\site-packages\\ipykernel_launcher.py:2: FutureWarning: Method .as_matrix will be removed in a future version. Use .values instead.\n",
      "  \n"
     ]
    }
   ],
   "source": [
    "train_data_matrix =xTrain.as_matrix(columns = ['CompanyName_Cat', 'CourseName_Cat', 'GradeRating'])\n",
    "test_data_matrix = xTest.as_matrix(columns = ['CompanyName_Cat', 'CourseName_Cat', 'GradeRating'])\n",
    "\n",
    "# Check their shape\n",
    "print(train_data_matrix.shape)\n",
    "print(test_data_matrix.shape)"
   ]
  },
  {
   "cell_type": "code",
   "execution_count": 13,
   "metadata": {},
   "outputs": [
    {
     "name": "stdout",
     "output_type": "stream",
     "text": [
      "[[1.         0.98067737 0.86070881 0.92134358]\n",
      " [0.98067737 1.         0.74448185 0.97959261]\n",
      " [0.86070881 0.74448185 1.         0.59509721]\n",
      " [0.92134358 0.97959261 0.59509721 1.        ]]\n"
     ]
    }
   ],
   "source": [
    "from sklearn.metrics.pairwise import pairwise_distances\n",
    "\n",
    "# User Similarity Matrix\n",
    "company_correlation = 1 - pairwise_distances(xTrain, metric='correlation')\n",
    "company_correlation[np.isnan(company_correlation)] = 0\n",
    "print(company_correlation[:4, :4])"
   ]
  },
  {
   "cell_type": "code",
   "execution_count": 14,
   "metadata": {},
   "outputs": [
    {
     "name": "stdout",
     "output_type": "stream",
     "text": [
      "[[ 1.          0.5        -0.5         0.99615718]\n",
      " [ 0.5         1.          0.5         0.42222906]\n",
      " [-0.5         0.5         1.         -0.57392812]\n",
      " [ 0.99615718  0.42222906 -0.57392812  1.        ]]\n"
     ]
    }
   ],
   "source": [
    "from sklearn.metrics.pairwise import pairwise_distances\n",
    "\n",
    "# User Similarity Matrix\n",
    "company_correlation1 = 1 - pairwise_distances(ctcRatingsData, metric='correlation')\n",
    "company_correlation1[np.isnan(company_correlation1)] = 0\n",
    "print(company_correlation1[:4, :4])"
   ]
  },
  {
   "cell_type": "code",
   "execution_count": 15,
   "metadata": {},
   "outputs": [],
   "source": [
    "def predict(ratings, similarity):\n",
    "    mean_company_rating = ratings.mean(axis=1)\n",
    "    # Use np.newaxis so that mean_company_rating has same format as ratings\n",
    "    ratings_diff = (ratings - mean_company_rating[:, np.newaxis])\n",
    "    pred = mean_company_rating[:, np.newaxis] + similarity.dot(ratings_diff) / np.array([np.abs(similarity).sum(axis=1)]).T\n",
    "    \n",
    "    return pred"
   ]
  },
  {
   "cell_type": "code",
   "execution_count": 16,
   "metadata": {},
   "outputs": [],
   "source": [
    "from sklearn.metrics import mean_squared_error\n",
    "from math import sqrt\n",
    "\n",
    "# Function to calculate RMSE\n",
    "def rmse(pred, actual):\n",
    "    # Ignore nonzero terms.\n",
    "    pred = pred[actual.nonzero()].flatten()\n",
    "    actual = actual[actual.nonzero()].flatten()\n",
    "    return sqrt(mean_squared_error(pred, actual))"
   ]
  },
  {
   "cell_type": "code",
   "execution_count": 17,
   "metadata": {},
   "outputs": [
    {
     "name": "stdout",
     "output_type": "stream",
     "text": [
      "test Company-based CF RMSE: 47.66636367211358\n",
      "train Company-based CF RMSE: 24.361409486898452\n"
     ]
    }
   ],
   "source": [
    "########### company similarity just based on rating ##############################################################################\n",
    "\n",
    "company_based_prediction = predict(train_data_matrix, company_correlation)\n",
    "# RMSE on the test data\n",
    "print('test Company-based CF RMSE: ' + str(rmse(company_based_prediction, test_data_matrix)))\n",
    "# RMSE on the train data\n",
    "print('train Company-based CF RMSE: ' + str(rmse(company_based_prediction, train_data_matrix)))\n"
   ]
  },
  {
   "cell_type": "code",
   "execution_count": 22,
   "metadata": {},
   "outputs": [
    {
     "name": "stderr",
     "output_type": "stream",
     "text": [
      "C:\\Users\\rames\\Anaconda3\\lib\\site-packages\\ipykernel_launcher.py:6: FutureWarning: Method .as_matrix will be removed in a future version. Use .values instead.\n",
      "  \n"
     ]
    },
    {
     "data": {
      "text/html": [
       "<div>\n",
       "<style scoped>\n",
       "    .dataframe tbody tr th:only-of-type {\n",
       "        vertical-align: middle;\n",
       "    }\n",
       "\n",
       "    .dataframe tbody tr th {\n",
       "        vertical-align: top;\n",
       "    }\n",
       "\n",
       "    .dataframe thead th {\n",
       "        text-align: right;\n",
       "    }\n",
       "</style>\n",
       "<table border=\"1\" class=\"dataframe\">\n",
       "  <thead>\n",
       "    <tr style=\"text-align: right;\">\n",
       "      <th></th>\n",
       "      <th>compiler_design</th>\n",
       "      <th>computer_networks</th>\n",
       "      <th>engineering_mathematics_i</th>\n",
       "      <th>basic_electrical_engineering</th>\n",
       "      <th>research_credits</th>\n",
       "      <th>linear_algebra_and_its_applications</th>\n",
       "      <th>machine_learning</th>\n",
       "      <th>project_work</th>\n",
       "      <th>engineering_mathematics_ii</th>\n",
       "      <th>internship</th>\n",
       "      <th>...</th>\n",
       "      <th>mechanics_of_solids</th>\n",
       "      <th>aerospace_structures</th>\n",
       "      <th>basics_of_automobile_engineering</th>\n",
       "      <th>mechanics_of_machines_and_mechanisms</th>\n",
       "      <th>heat_transfer</th>\n",
       "      <th>introduction_to_gas_dynamics</th>\n",
       "      <th>hands_on_course_on_digital_system_simulation_and_synthesis</th>\n",
       "      <th>linear_system</th>\n",
       "      <th>embedded_programming_with_arduino</th>\n",
       "      <th>adaptive_system</th>\n",
       "    </tr>\n",
       "  </thead>\n",
       "  <tbody>\n",
       "    <tr>\n",
       "      <th>0</th>\n",
       "      <td>3.514651</td>\n",
       "      <td>4.581427</td>\n",
       "      <td>3.805836</td>\n",
       "      <td>3.617477</td>\n",
       "      <td>-0.003592</td>\n",
       "      <td>3.801515</td>\n",
       "      <td>2.750724</td>\n",
       "      <td>4.267094</td>\n",
       "      <td>3.612864</td>\n",
       "      <td>5.252830</td>\n",
       "      <td>...</td>\n",
       "      <td>-0.001239</td>\n",
       "      <td>-0.001239</td>\n",
       "      <td>-0.001239</td>\n",
       "      <td>-0.001354</td>\n",
       "      <td>-0.001296</td>\n",
       "      <td>-0.001296</td>\n",
       "      <td>0.002870</td>\n",
       "      <td>0.024001</td>\n",
       "      <td>-0.006265</td>\n",
       "      <td>0.005440</td>\n",
       "    </tr>\n",
       "    <tr>\n",
       "      <th>1</th>\n",
       "      <td>4.053069</td>\n",
       "      <td>5.059424</td>\n",
       "      <td>5.062149</td>\n",
       "      <td>5.073230</td>\n",
       "      <td>5.093883</td>\n",
       "      <td>5.998297</td>\n",
       "      <td>3.956107</td>\n",
       "      <td>5.058295</td>\n",
       "      <td>4.000892</td>\n",
       "      <td>6.006821</td>\n",
       "      <td>...</td>\n",
       "      <td>0.002643</td>\n",
       "      <td>0.002643</td>\n",
       "      <td>0.002643</td>\n",
       "      <td>-0.005775</td>\n",
       "      <td>-0.001566</td>\n",
       "      <td>-0.001566</td>\n",
       "      <td>0.004559</td>\n",
       "      <td>0.106599</td>\n",
       "      <td>-0.039459</td>\n",
       "      <td>-0.000945</td>\n",
       "    </tr>\n",
       "    <tr>\n",
       "      <th>2</th>\n",
       "      <td>4.910529</td>\n",
       "      <td>5.536663</td>\n",
       "      <td>4.755013</td>\n",
       "      <td>4.644654</td>\n",
       "      <td>6.070466</td>\n",
       "      <td>5.086294</td>\n",
       "      <td>5.332891</td>\n",
       "      <td>5.999276</td>\n",
       "      <td>4.607347</td>\n",
       "      <td>5.998007</td>\n",
       "      <td>...</td>\n",
       "      <td>0.004602</td>\n",
       "      <td>0.004602</td>\n",
       "      <td>0.004602</td>\n",
       "      <td>-0.000710</td>\n",
       "      <td>0.001946</td>\n",
       "      <td>0.001946</td>\n",
       "      <td>-0.003585</td>\n",
       "      <td>0.015380</td>\n",
       "      <td>-0.011722</td>\n",
       "      <td>-0.013148</td>\n",
       "    </tr>\n",
       "    <tr>\n",
       "      <th>3</th>\n",
       "      <td>5.339544</td>\n",
       "      <td>4.851410</td>\n",
       "      <td>4.717453</td>\n",
       "      <td>4.579005</td>\n",
       "      <td>0.000283</td>\n",
       "      <td>5.143378</td>\n",
       "      <td>5.199521</td>\n",
       "      <td>0.007185</td>\n",
       "      <td>5.004681</td>\n",
       "      <td>0.001142</td>\n",
       "      <td>...</td>\n",
       "      <td>-0.000405</td>\n",
       "      <td>-0.000405</td>\n",
       "      <td>-0.000405</td>\n",
       "      <td>-0.000589</td>\n",
       "      <td>-0.000497</td>\n",
       "      <td>-0.000497</td>\n",
       "      <td>0.001118</td>\n",
       "      <td>0.010506</td>\n",
       "      <td>5.997061</td>\n",
       "      <td>0.001957</td>\n",
       "    </tr>\n",
       "    <tr>\n",
       "      <th>4</th>\n",
       "      <td>4.425307</td>\n",
       "      <td>5.669236</td>\n",
       "      <td>5.994372</td>\n",
       "      <td>4.916740</td>\n",
       "      <td>0.081207</td>\n",
       "      <td>5.488047</td>\n",
       "      <td>3.968944</td>\n",
       "      <td>-0.089283</td>\n",
       "      <td>5.407528</td>\n",
       "      <td>-0.016442</td>\n",
       "      <td>...</td>\n",
       "      <td>0.010511</td>\n",
       "      <td>0.010511</td>\n",
       "      <td>0.010511</td>\n",
       "      <td>0.006388</td>\n",
       "      <td>0.008449</td>\n",
       "      <td>0.008449</td>\n",
       "      <td>-0.018064</td>\n",
       "      <td>-0.110797</td>\n",
       "      <td>0.022077</td>\n",
       "      <td>-0.039887</td>\n",
       "    </tr>\n",
       "  </tbody>\n",
       "</table>\n",
       "<p>5 rows × 192 columns</p>\n",
       "</div>"
      ],
      "text/plain": [
       "   compiler_design  computer_networks  engineering_mathematics_i  \\\n",
       "0         3.514651           4.581427                   3.805836   \n",
       "1         4.053069           5.059424                   5.062149   \n",
       "2         4.910529           5.536663                   4.755013   \n",
       "3         5.339544           4.851410                   4.717453   \n",
       "4         4.425307           5.669236                   5.994372   \n",
       "\n",
       "   basic_electrical_engineering  research_credits  \\\n",
       "0                      3.617477         -0.003592   \n",
       "1                      5.073230          5.093883   \n",
       "2                      4.644654          6.070466   \n",
       "3                      4.579005          0.000283   \n",
       "4                      4.916740          0.081207   \n",
       "\n",
       "   linear_algebra_and_its_applications  machine_learning  project_work  \\\n",
       "0                             3.801515          2.750724      4.267094   \n",
       "1                             5.998297          3.956107      5.058295   \n",
       "2                             5.086294          5.332891      5.999276   \n",
       "3                             5.143378          5.199521      0.007185   \n",
       "4                             5.488047          3.968944     -0.089283   \n",
       "\n",
       "   engineering_mathematics_ii  internship  ...  mechanics_of_solids  \\\n",
       "0                    3.612864    5.252830  ...            -0.001239   \n",
       "1                    4.000892    6.006821  ...             0.002643   \n",
       "2                    4.607347    5.998007  ...             0.004602   \n",
       "3                    5.004681    0.001142  ...            -0.000405   \n",
       "4                    5.407528   -0.016442  ...             0.010511   \n",
       "\n",
       "   aerospace_structures  basics_of_automobile_engineering  \\\n",
       "0             -0.001239                         -0.001239   \n",
       "1              0.002643                          0.002643   \n",
       "2              0.004602                          0.004602   \n",
       "3             -0.000405                         -0.000405   \n",
       "4              0.010511                          0.010511   \n",
       "\n",
       "   mechanics_of_machines_and_mechanisms  heat_transfer  \\\n",
       "0                             -0.001354      -0.001296   \n",
       "1                             -0.005775      -0.001566   \n",
       "2                             -0.000710       0.001946   \n",
       "3                             -0.000589      -0.000497   \n",
       "4                              0.006388       0.008449   \n",
       "\n",
       "   introduction_to_gas_dynamics  \\\n",
       "0                     -0.001296   \n",
       "1                     -0.001566   \n",
       "2                      0.001946   \n",
       "3                     -0.000497   \n",
       "4                      0.008449   \n",
       "\n",
       "   hands_on_course_on_digital_system_simulation_and_synthesis  linear_system  \\\n",
       "0                                           0.002870                0.024001   \n",
       "1                                           0.004559                0.106599   \n",
       "2                                          -0.003585                0.015380   \n",
       "3                                           0.001118                0.010506   \n",
       "4                                          -0.018064               -0.110797   \n",
       "\n",
       "   embedded_programming_with_arduino  adaptive_system  \n",
       "0                          -0.006265         0.005440  \n",
       "1                          -0.039459        -0.000945  \n",
       "2                          -0.011722        -0.013148  \n",
       "3                           5.997061         0.001957  \n",
       "4                           0.022077        -0.039887  \n",
       "\n",
       "[5 rows x 192 columns]"
      ]
     },
     "execution_count": 22,
     "metadata": {},
     "output_type": "execute_result"
    }
   ],
   "source": [
    "####################### using model based approach #######################################\n",
    "\n",
    "# mapping the matrix into a 3 column dataframe=> using originalRatingsData from Company2CoursesPreprocessing.ipynb\n",
    "# using result (sparse matrix from Company2CoursesPreprocessing.ipynb )\n",
    "dfCourseGradeAvg = dfCourseGradeAvgTemp.fillna(0)\n",
    "R = dfCourseGradeAvg.as_matrix()\n",
    "company_ratings_mean = np.mean(R, axis = 1)\n",
    "Ratings_demeaned = R - company_ratings_mean.reshape(-1, 1)\n",
    "\n",
    "# applying SVD ( will be useful when datapoints increase)\n",
    "from scipy.sparse.linalg import svds\n",
    "U, sigma, Vt = svds(Ratings_demeaned, k = 50)\n",
    "sigma = np.diag(sigma)\n",
    "all_company_predicted_ratings = np.dot(np.dot(U, sigma), Vt) + company_ratings_mean.reshape(-1, 1)\n",
    "\n",
    "# getting the statistical predicted ratings, will be helpful in case certain courses were not mentioned\n",
    "preds = pd.DataFrame(all_company_predicted_ratings, columns = dfCourseGradeAvg.columns)\n",
    "preds.head()"
   ]
  },
  {
   "cell_type": "code",
   "execution_count": 28,
   "metadata": {},
   "outputs": [
    {
     "data": {
      "text/plain": [
       "{'test_rmse': array([2.30504568, 2.28192832, 2.52163674, 2.11127601, 2.69491385]),\n",
       " 'fit_time': (1.2403035163879395,\n",
       "  1.233839511871338,\n",
       "  1.1996829509735107,\n",
       "  1.0967950820922852,\n",
       "  1.14650559425354),\n",
       " 'test_time': (0.03340721130371094,\n",
       "  0.033736228942871094,\n",
       "  0.027959346771240234,\n",
       "  0.03312397003173828,\n",
       "  0.027968406677246094)}"
      ]
     },
     "execution_count": 28,
     "metadata": {},
     "output_type": "execute_result"
    }
   ],
   "source": [
    "# Import libraries from Surprise package\n",
    "from surprise import Reader, Dataset, SVD\n",
    "from surprise.model_selection import cross_validate\n",
    "\n",
    "# Load Reader library\n",
    "reader = Reader()\n",
    "\n",
    "# Load ratings dataset with Dataset library\n",
    "data = Dataset.load_from_df(originalGradeRatingsData1[['CompanyName_Cat', 'CourseName_Cat', 'GradeRating']], reader)\n",
    "\n",
    "# Split the dataset for 5-fold evaluation\n",
    "algo = SVD()\n",
    "\n",
    "# Run 5-fold cross-validation and then print results\n",
    "cross_validate(algo, data, measures=['RMSE'], cv=5)\n"
   ]
  },
  {
   "cell_type": "code",
   "execution_count": 30,
   "metadata": {},
   "outputs": [
    {
     "data": {
      "text/plain": [
       "<surprise.prediction_algorithms.matrix_factorization.SVD at 0x1dce18974a8>"
      ]
     },
     "execution_count": 30,
     "metadata": {},
     "output_type": "execute_result"
    }
   ],
   "source": [
    "trainset = data.build_full_trainset()\n",
    "algo.fit(trainset)\n",
    "algo.predict('samsung', 'machine_learning')"
   ]
  },
  {
   "cell_type": "code",
   "execution_count": null,
   "metadata": {},
   "outputs": [],
   "source": []
  }
 ],
 "metadata": {
  "kernelspec": {
   "display_name": "Python 3",
   "language": "python",
   "name": "python3"
  },
  "language_info": {
   "codemirror_mode": {
    "name": "ipython",
    "version": 3
   },
   "file_extension": ".py",
   "mimetype": "text/x-python",
   "name": "python",
   "nbconvert_exporter": "python",
   "pygments_lexer": "ipython3",
   "version": "3.7.3"
  }
 },
 "nbformat": 4,
 "nbformat_minor": 2
}
