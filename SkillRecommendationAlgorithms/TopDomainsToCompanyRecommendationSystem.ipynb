{
 "cells": [
  {
   "cell_type": "code",
   "execution_count": 4,
   "metadata": {},
   "outputs": [],
   "source": [
    "from scipy.sparse.linalg import svds"
   ]
  },
  {
   "cell_type": "code",
   "execution_count": 1,
   "metadata": {
    "scrolled": true
   },
   "outputs": [
    {
     "name": "stderr",
     "output_type": "stream",
     "text": [
      "Company2DomainsPreprocessing.ipynb:1: SettingWithCopyWarning: \n",
      "A value is trying to be set on a copy of a slice from a DataFrame.\n",
      "Try using .loc[row_indexer,col_indexer] = value instead\n",
      "\n",
      "See the caveats in the documentation: http://pandas.pydata.org/pandas-docs/stable/indexing.html#indexing-view-versus-copy\n",
      "  {\n"
     ]
    }
   ],
   "source": [
    "%run Company2DomainsPreprocessing.ipynb"
   ]
  },
  {
   "cell_type": "code",
   "execution_count": 2,
   "metadata": {},
   "outputs": [],
   "source": [
    "# mapping the matrix into a 3 column dataframe=> using originalRatingsData from Company2DomainsPreprocessing.ipynb\n",
    "# using result (sparse matrix from Company2DomainsPreprocessing.ipynb )\n",
    "def get_preds(result):\n",
    "    R = result.as_matrix()\n",
    "    company_ratings_mean = np.mean(R, axis = 1)\n",
    "    Ratings_demeaned = R - company_ratings_mean.reshape(-1, 1)\n",
    "    \n",
    "    # applying SVD ( will be useful when datapoints increase)\n",
    "    U, sigma, Vt = svds(Ratings_demeaned, k = 30)\n",
    "    sigma = np.diag(sigma)\n",
    "    all_company_predicted_ratings = np.dot(np.dot(U, sigma), Vt) + company_ratings_mean.reshape(-1, 1)\n",
    "    \n",
    "    preds = pd.DataFrame(all_company_predicted_ratings, columns = result.columns)\n",
    "    return preds"
   ]
  },
  {
   "cell_type": "code",
   "execution_count": 5,
   "metadata": {},
   "outputs": [
    {
     "name": "stderr",
     "output_type": "stream",
     "text": [
      "C:\\Users\\rames\\Anaconda3\\lib\\site-packages\\ipykernel_launcher.py:6: FutureWarning: Method .as_matrix will be removed in a future version. Use .values instead.\n",
      "  \n"
     ]
    }
   ],
   "source": [
    "preds1 = get_preds(result1)"
   ]
  },
  {
   "cell_type": "code",
   "execution_count": 6,
   "metadata": {},
   "outputs": [],
   "source": [
    "def recommend_domains(preds, result, companyName, original_ratings, num_recommendations):\n",
    "    \n",
    "    # Get and sort the company's predictions\n",
    "    company_row_number = result.index.get_loc(companyName)\n",
    "    sorted_company_predictions = preds.iloc[company_row_number].sort_values(ascending=False)\n",
    "    \n",
    "    company_data = original_ratings[original_ratings.CompanyName_New == (companyName)]\n",
    "    company_full = (company_data.sort_values(['Rating'], ascending=False))\n",
    "    \n",
    "    return company_full[:num_recommendations]"
   ]
  },
  {
   "cell_type": "code",
   "execution_count": 8,
   "metadata": {},
   "outputs": [
    {
     "name": "stdout",
     "output_type": "stream",
     "text": [
      "Enter Company Name (finally pick from dropdown) : intuit\n",
      "Top domain count ? : 12\n"
     ]
    },
    {
     "data": {
      "text/html": [
       "<div>\n",
       "<style scoped>\n",
       "    .dataframe tbody tr th:only-of-type {\n",
       "        vertical-align: middle;\n",
       "    }\n",
       "\n",
       "    .dataframe tbody tr th {\n",
       "        vertical-align: top;\n",
       "    }\n",
       "\n",
       "    .dataframe thead th {\n",
       "        text-align: right;\n",
       "    }\n",
       "</style>\n",
       "<table border=\"1\" class=\"dataframe\">\n",
       "  <thead>\n",
       "    <tr style=\"text-align: right;\">\n",
       "      <th></th>\n",
       "      <th>CompanyName_New</th>\n",
       "      <th>DomainName</th>\n",
       "      <th>Rating</th>\n",
       "    </tr>\n",
       "  </thead>\n",
       "  <tbody>\n",
       "    <tr>\n",
       "      <th>715</th>\n",
       "      <td>intuit</td>\n",
       "      <td>cloud computing</td>\n",
       "      <td>0.120879</td>\n",
       "    </tr>\n",
       "    <tr>\n",
       "      <th>722</th>\n",
       "      <td>intuit</td>\n",
       "      <td>image processing</td>\n",
       "      <td>0.120879</td>\n",
       "    </tr>\n",
       "    <tr>\n",
       "      <th>717</th>\n",
       "      <td>intuit</td>\n",
       "      <td>web development</td>\n",
       "      <td>0.076923</td>\n",
       "    </tr>\n",
       "    <tr>\n",
       "      <th>727</th>\n",
       "      <td>intuit</td>\n",
       "      <td>deep learning</td>\n",
       "      <td>0.076923</td>\n",
       "    </tr>\n",
       "    <tr>\n",
       "      <th>731</th>\n",
       "      <td>intuit</td>\n",
       "      <td>software development</td>\n",
       "      <td>0.065934</td>\n",
       "    </tr>\n",
       "    <tr>\n",
       "      <th>721</th>\n",
       "      <td>intuit</td>\n",
       "      <td>database management system</td>\n",
       "      <td>0.065934</td>\n",
       "    </tr>\n",
       "    <tr>\n",
       "      <th>724</th>\n",
       "      <td>intuit</td>\n",
       "      <td>big data</td>\n",
       "      <td>0.065934</td>\n",
       "    </tr>\n",
       "    <tr>\n",
       "      <th>713</th>\n",
       "      <td>intuit</td>\n",
       "      <td>machine learning</td>\n",
       "      <td>0.054945</td>\n",
       "    </tr>\n",
       "    <tr>\n",
       "      <th>718</th>\n",
       "      <td>intuit</td>\n",
       "      <td>algorithms</td>\n",
       "      <td>0.043956</td>\n",
       "    </tr>\n",
       "    <tr>\n",
       "      <th>720</th>\n",
       "      <td>intuit</td>\n",
       "      <td>operating system</td>\n",
       "      <td>0.043956</td>\n",
       "    </tr>\n",
       "    <tr>\n",
       "      <th>723</th>\n",
       "      <td>intuit</td>\n",
       "      <td>data structures</td>\n",
       "      <td>0.043956</td>\n",
       "    </tr>\n",
       "    <tr>\n",
       "      <th>732</th>\n",
       "      <td>intuit</td>\n",
       "      <td>artificial intelligence</td>\n",
       "      <td>0.043956</td>\n",
       "    </tr>\n",
       "  </tbody>\n",
       "</table>\n",
       "</div>"
      ],
      "text/plain": [
       "    CompanyName_New                  DomainName    Rating\n",
       "715          intuit             cloud computing  0.120879\n",
       "722          intuit            image processing  0.120879\n",
       "717          intuit             web development  0.076923\n",
       "727          intuit               deep learning  0.076923\n",
       "731          intuit        software development  0.065934\n",
       "721          intuit  database management system  0.065934\n",
       "724          intuit                    big data  0.065934\n",
       "713          intuit            machine learning  0.054945\n",
       "718          intuit                  algorithms  0.043956\n",
       "720          intuit            operating system  0.043956\n",
       "723          intuit             data structures  0.043956\n",
       "732          intuit     artificial intelligence  0.043956"
      ]
     },
     "execution_count": 8,
     "metadata": {},
     "output_type": "execute_result"
    }
   ],
   "source": [
    "companyName = input(\"Enter Company Name (finally pick from dropdown) : \")\n",
    "num_reco = int(input('Top domain count ? : '))\n",
    "recommend_domains(preds1, result1, companyName ,originalRatingsData1, num_reco )"
   ]
  },
  {
   "cell_type": "code",
   "execution_count": null,
   "metadata": {},
   "outputs": [],
   "source": []
  }
 ],
 "metadata": {
  "kernelspec": {
   "display_name": "Python 3",
   "language": "python",
   "name": "python3"
  },
  "language_info": {
   "codemirror_mode": {
    "name": "ipython",
    "version": 3
   },
   "file_extension": ".py",
   "mimetype": "text/x-python",
   "name": "python",
   "nbconvert_exporter": "python",
   "pygments_lexer": "ipython3",
   "version": "3.7.3"
  }
 },
 "nbformat": 4,
 "nbformat_minor": 2
}
