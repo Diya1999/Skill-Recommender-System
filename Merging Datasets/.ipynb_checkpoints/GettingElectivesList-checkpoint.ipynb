{
 "cells": [
  {
   "cell_type": "code",
   "execution_count": 1,
   "metadata": {},
   "outputs": [],
   "source": [
    "import pandas as pd"
   ]
  },
  {
   "cell_type": "code",
   "execution_count": 3,
   "metadata": {},
   "outputs": [
    {
     "data": {
      "text/html": [
       "<div>\n",
       "<style scoped>\n",
       "    .dataframe tbody tr th:only-of-type {\n",
       "        vertical-align: middle;\n",
       "    }\n",
       "\n",
       "    .dataframe tbody tr th {\n",
       "        vertical-align: top;\n",
       "    }\n",
       "\n",
       "    .dataframe thead th {\n",
       "        text-align: right;\n",
       "    }\n",
       "</style>\n",
       "<table border=\"1\" class=\"dataframe\">\n",
       "  <thead>\n",
       "    <tr style=\"text-align: right;\">\n",
       "      <th></th>\n",
       "      <th>SubjectCode</th>\n",
       "      <th>SubjectName</th>\n",
       "      <th>Credits</th>\n",
       "      <th>Electives</th>\n",
       "    </tr>\n",
       "  </thead>\n",
       "  <tbody>\n",
       "    <tr>\n",
       "      <th>0</th>\n",
       "      <td>14CS101</td>\n",
       "      <td>Computer Science I</td>\n",
       "      <td>4.0</td>\n",
       "      <td>NaN</td>\n",
       "    </tr>\n",
       "    <tr>\n",
       "      <th>1</th>\n",
       "      <td>14CS102</td>\n",
       "      <td>Computer Science I Laboratory</td>\n",
       "      <td>1.0</td>\n",
       "      <td>NaN</td>\n",
       "    </tr>\n",
       "    <tr>\n",
       "      <th>2</th>\n",
       "      <td>14CS151</td>\n",
       "      <td>Computer Science II</td>\n",
       "      <td>4.0</td>\n",
       "      <td>NaN</td>\n",
       "    </tr>\n",
       "    <tr>\n",
       "      <th>3</th>\n",
       "      <td>14CS152</td>\n",
       "      <td>Computer Science II Laboratory</td>\n",
       "      <td>1.0</td>\n",
       "      <td>NaN</td>\n",
       "    </tr>\n",
       "    <tr>\n",
       "      <th>4</th>\n",
       "      <td>14CS201</td>\n",
       "      <td>Digital Design &amp; Computer Organization</td>\n",
       "      <td>4.0</td>\n",
       "      <td>NaN</td>\n",
       "    </tr>\n",
       "  </tbody>\n",
       "</table>\n",
       "</div>"
      ],
      "text/plain": [
       "  SubjectCode                             SubjectName  Credits Electives\n",
       "0     14CS101                      Computer Science I      4.0       NaN\n",
       "1     14CS102           Computer Science I Laboratory      1.0       NaN\n",
       "2     14CS151                     Computer Science II      4.0       NaN\n",
       "3     14CS152          Computer Science II Laboratory      1.0       NaN\n",
       "4     14CS201  Digital Design & Computer Organization      4.0       NaN"
      ]
     },
     "execution_count": 3,
     "metadata": {},
     "output_type": "execute_result"
    }
   ],
   "source": [
    "df = pd.read_csv('C:\\\\Users\\\\diyas\\\\Documents\\\\Recommendation_system\\\\SubjectListwithElectives.csv',skipinitialspace=True) \n",
    "df.head()"
   ]
  },
  {
   "cell_type": "code",
   "execution_count": 4,
   "metadata": {},
   "outputs": [
    {
     "data": {
      "text/plain": [
       "array([nan, 'Y'], dtype=object)"
      ]
     },
     "execution_count": 4,
     "metadata": {},
     "output_type": "execute_result"
    }
   ],
   "source": [
    "df.Electives.unique()"
   ]
  },
  {
   "cell_type": "code",
   "execution_count": 7,
   "metadata": {},
   "outputs": [],
   "source": [
    "#making elective list\n",
    "electives=[]\n",
    "for i in range(0,len(df)): \n",
    "    if(df['SubjectName'][i] not in electives):\n",
    "        if(df['Electives'][i]=='Y'):\n",
    "            electives.append(df['SubjectName'][i])"
   ]
  },
  {
   "cell_type": "code",
   "execution_count": 9,
   "metadata": {},
   "outputs": [
    {
     "data": {
      "text/plain": [
       "72"
      ]
     },
     "execution_count": 9,
     "metadata": {},
     "output_type": "execute_result"
    }
   ],
   "source": [
    "len(electives)"
   ]
  },
  {
   "cell_type": "code",
   "execution_count": 10,
   "metadata": {},
   "outputs": [
    {
     "data": {
      "text/plain": [
       "['Special Tpoic: Basic of Unix Programming',\n",
       " 'Fuzzy Logic',\n",
       " 'Special Topic : Programming With Python',\n",
       " 'Special Topic : C++ Programming - I',\n",
       " 'Advanced Algorithms',\n",
       " 'Processor & SoC Architecture',\n",
       " 'Computer Graphics and Visualization',\n",
       " 'Data Analytics',\n",
       " 'Natural Language Processing',\n",
       " 'Advanced Computer Networks',\n",
       " 'Semantic Web Technologies',\n",
       " 'Digital Image Processing',\n",
       " 'Unix System Programming',\n",
       " 'Unix System Programming Laboratory',\n",
       " 'Research Methodology',\n",
       " 'Enterprise Resource Planning',\n",
       " 'Design Patterns',\n",
       " 'Information Security',\n",
       " 'Optical Networks',\n",
       " 'Android Application Development',\n",
       " 'Introduction to Business',\n",
       " 'Advanced Machine Learning',\n",
       " 'Project Work',\n",
       " 'Advanced Database Management Systems',\n",
       " 'Big Data',\n",
       " 'Multimedia Computing',\n",
       " 'Artificial Intelligence',\n",
       " 'Computer Network Security',\n",
       " 'Storage Area Networks',\n",
       " 'High Performance computing Architecture ',\n",
       " 'Drone Computing',\n",
       " 'Knowledge management',\n",
       " 'System Modeling and Simulation',\n",
       " 'Programming with Java',\n",
       " 'Algorithms for Information Retrieval',\n",
       " 'Content Management',\n",
       " 'Wireless Network Communications',\n",
       " 'Social Network Analytics',\n",
       " 'Design Pattern',\n",
       " 'Autonomous Mobile Robotics',\n",
       " 'Human Computer Interaction',\n",
       " 'Open Source Networking',\n",
       " 'Internet Of Things',\n",
       " 'Design of bitcoin and Blockchain Systems',\n",
       " 'Research Credits',\n",
       " 'Introduction to Software Testing',\n",
       " 'Internship',\n",
       " 'Advanced Data Base Management Systems',\n",
       " 'Generic Programming',\n",
       " 'Knowledge Management',\n",
       " 'Reconfigurable Computing',\n",
       " 'Linux Kernal Internals',\n",
       " 'Programming with C++',\n",
       " 'Applied Cryptography',\n",
       " 'Professional Skills for Software Engineers - I',\n",
       " 'Mini Project',\n",
       " 'Topics in Deep Learning',\n",
       " 'Blockchain Architecture Design and Use Cases ',\n",
       " 'Reinforcement Learning',\n",
       " 'Computer Forensics',\n",
       " 'Performance Engineering',\n",
       " 'Project Work  Minor',\n",
       " 'CIE - Level II',\n",
       " 'Research Project',\n",
       " 'Introduction to Entrepreneurship - Level 1',\n",
       " 'CIE - Level I',\n",
       " 'Swachh Bharat Abhiyaan',\n",
       " 'Serious Python',\n",
       " 'Professional Skills for Sofware Engineers',\n",
       " 'Classical Cryptoanalysis',\n",
       " 'Network and Mobile Security',\n",
       " 'Big Data Analytics using Spark']"
      ]
     },
     "execution_count": 10,
     "metadata": {},
     "output_type": "execute_result"
    }
   ],
   "source": [
    "electives"
   ]
  },
  {
   "cell_type": "code",
   "execution_count": null,
   "metadata": {},
   "outputs": [],
   "source": []
  }
 ],
 "metadata": {
  "kernelspec": {
   "display_name": "Python 3",
   "language": "python",
   "name": "python3"
  },
  "language_info": {
   "codemirror_mode": {
    "name": "ipython",
    "version": 3
   },
   "file_extension": ".py",
   "mimetype": "text/x-python",
   "name": "python",
   "nbconvert_exporter": "python",
   "pygments_lexer": "ipython3",
   "version": "3.7.0"
  }
 },
 "nbformat": 4,
 "nbformat_minor": 2
}
