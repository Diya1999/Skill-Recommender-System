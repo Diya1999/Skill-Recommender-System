{
 "cells": [
  {
   "cell_type": "code",
   "execution_count": 1,
   "metadata": {},
   "outputs": [],
   "source": [
    "import pandas as pd\n",
    "import numpy as np"
   ]
  },
  {
   "cell_type": "code",
   "execution_count": 147,
   "metadata": {},
   "outputs": [
    {
     "data": {
      "text/plain": [
       "Index(['SRN', 'Name', 'Branch', '10th percentage', '12th percentage', 'CGPA',\n",
       "       'Number of projects', 'Projects details', 'Github link',\n",
       "       'LinkedIn link', 'General skills', 'Publications',\n",
       "       'Number of Internships', 'Internship details', 'External certificates',\n",
       "       'Programming Language Skills', 'Software Tool Skills', 'Minor name',\n",
       "       'Scholarships', 'Awards', 'Events and Competitions participated',\n",
       "       'Workshops', 'Volunteering', 'Languages known',\n",
       "       'Co-curricular activities', 'Other Details'],\n",
       "      dtype='object')"
      ]
     },
     "execution_count": 147,
     "metadata": {},
     "output_type": "execute_result"
    }
   ],
   "source": [
    "data1= pd.read_csv(r\"C:\\Users\\diyas\\Documents\\Recommendation_system\\UpdatedMaster19Feb_NLP.csv\") \n",
    "data2= pd.read_csv(r\"C:\\Users\\diyas\\Documents\\Recommendation_system\\Combined.csv\") \n"
   ]
  },
  {
   "cell_type": "code",
   "execution_count": 169,
   "metadata": {},
   "outputs": [
    {
     "name": "stdout",
     "output_type": "stream",
     "text": [
      "441\n",
      "460\n"
     ]
    }
   ],
   "source": [
    "print(len(data1))\n",
    "print(len(data2))"
   ]
  },
  {
   "cell_type": "code",
   "execution_count": 149,
   "metadata": {},
   "outputs": [],
   "source": [
    "data2.columns\n",
    "data2=data2.rename(columns={'SRN': 'USN'})"
   ]
  },
  {
   "cell_type": "code",
   "execution_count": 150,
   "metadata": {},
   "outputs": [],
   "source": [
    "combined_master=pd.merge(data1,data2, on='USN')"
   ]
  },
  {
   "cell_type": "code",
   "execution_count": 156,
   "metadata": {},
   "outputs": [
    {
     "data": {
      "text/plain": [
       "Index(['Unnamed: 0', 'USN', '10thPercentage', '12thPercentage', 'Branch_x',\n",
       "       'CGPA_x', 'CourseName', 'CourseGrade', 'CompanyName_New', 'CTC',\n",
       "       'TierLevel', 'CoCurricularActivities', 'EmploymentType',\n",
       "       'EventsParticipated', 'GeneralSkills', 'Languages', 'MinorAttended',\n",
       "       'NoofInternships', 'InternshipProjectDomain', 'InternshipCompany',\n",
       "       'NoofProjects', 'ProjectDetailDomain', 'ProgLanguages', 'Publication',\n",
       "       'ResearchDomain', 'ScholarshipsKey', 'SoftwareTools',\n",
       "       'VolunteeringWork', 'WorkshopsOrg', 'WorkshopsDomain', 'AwardsNLPkey',\n",
       "       'ExternalCertificatesKey', 'ExternalCertificatesDomain', 'Name',\n",
       "       'Branch_y', '10th percentage', '12th percentage', 'CGPA_y',\n",
       "       'Number of projects', 'Projects details', 'Github link',\n",
       "       'LinkedIn link', 'General skills', 'Publications',\n",
       "       'Number of Internships', 'Internship details', 'External certificates',\n",
       "       'Programming Language Skills', 'Software Tool Skills', 'Minor name',\n",
       "       'Scholarships', 'Awards', 'Events and Competitions participated',\n",
       "       'Workshops', 'Volunteering', 'Languages known',\n",
       "       'Co-curricular activities', 'Other Details'],\n",
       "      dtype='object')"
      ]
     },
     "execution_count": 156,
     "metadata": {},
     "output_type": "execute_result"
    }
   ],
   "source": [
    "combined_master.columns"
   ]
  },
  {
   "cell_type": "code",
   "execution_count": 151,
   "metadata": {},
   "outputs": [
    {
     "data": {
      "text/plain": [
       "338"
      ]
     },
     "execution_count": 151,
     "metadata": {},
     "output_type": "execute_result"
    }
   ],
   "source": [
    "len(combined_master)"
   ]
  },
  {
   "cell_type": "code",
   "execution_count": 154,
   "metadata": {},
   "outputs": [
    {
     "data": {
      "text/plain": [
       "array([nan,  1.,  2.,  3.])"
      ]
     },
     "execution_count": 154,
     "metadata": {},
     "output_type": "execute_result"
    }
   ],
   "source": [
    "combined_master.TierLevel.unique()"
   ]
  },
  {
   "cell_type": "code",
   "execution_count": 166,
   "metadata": {},
   "outputs": [],
   "source": [
    "combined_master=combined_master.drop(['CGPA_y','Branch_y','Unnamed: 0'], axis=1)\n",
    "combined_master.rename(columns = {'CGPA_x':'CGPA'}, inplace = True)\n",
    "combined_master.rename(columns = {'Branch_x':'Branch'}, inplace = True)\n",
    "combined_master.rename(columns = {'Placement details':'Placed'}, inplace = True)\n",
    "combined_master.rename(columns = {'Other Details':'OtherDetails'}, inplace = True)\n",
    "combined_master.rename(columns = {'Co-curricular activities':'CoCurricularActivities'}, inplace = True)\n",
    "combined_master.rename(columns = {'Languages known':'Languages'}, inplace = True)\n",
    "combined_master.rename(columns = {'Volunteering':'VolunteeringWork'}, inplace = True)\n",
    "combined_master.rename(columns = {'Events and Competitions participated':'Events participated'}, inplace = True)\n",
    "combined_master.rename(columns = {'Minor name':'MinorAttended'}, inplace = True)\n",
    "combined_master.rename(columns = {'Software Tool Skills':'SoftwareTools'}, inplace = True)\n",
    "combined_master.rename(columns = {'Programming Language Skills':'ProgLanguages'}, inplace = True)\n",
    "combined_master.rename(columns = {'External certificates':'ExternalCertificates'}, inplace = True)\n",
    "combined_master.rename(columns = {'Events participated':'EventsParticipated'}, inplace = True)\n",
    "combined_master.rename(columns = {'General skills':'GeneralSkills'}, inplace = True)\n",
    "combined_master.rename(columns = {'Github link':'GitHubLink'}, inplace = True)\n",
    "combined_master.rename(columns = {'LinkedIn link':'LinkedInLink'}, inplace = True)\n",
    "combined_master.rename(columns = {'Number of Internships':'NoofInternships'}, inplace = True)\n",
    "combined_master.rename(columns = {'Number of projects':'NoofProjects'}, inplace = True)\n",
    "combined_master.rename(columns = {'Projects details':'ProjectDetail'}, inplace = True)\n",
    "combined_master.rename(columns = {'10th percentage':'10thPercentage'}, inplace = True)\n",
    "combined_master.rename(columns = {'12th percentage':'12thPercentage'}, inplace = True)\n",
    "combined_master.rename(columns = {'Internship details':'InternshipDetail'}, inplace = True)\n",
    "combined_master.rename(columns = {'Publications':'PublicationDetails'}, inplace = True)"
   ]
  },
  {
   "cell_type": "code",
   "execution_count": 167,
   "metadata": {},
   "outputs": [
    {
     "data": {
      "text/plain": [
       "Index(['USN', '10thPercentage', '12thPercentage', 'Branch', 'CGPA',\n",
       "       'CourseName', 'CourseGrade', 'CompanyName_New', 'CTC', 'TierLevel',\n",
       "       'CoCurricularActivities', 'EmploymentType', 'EventsParticipated',\n",
       "       'GeneralSkills', 'Languages', 'MinorAttended', 'NoofInternships',\n",
       "       'InternshipProjectDomain', 'InternshipCompany', 'NoofProjects',\n",
       "       'ProjectDetailDomain', 'ProgLanguages', 'Publication', 'ResearchDomain',\n",
       "       'ScholarshipsKey', 'SoftwareTools', 'VolunteeringWork', 'WorkshopsOrg',\n",
       "       'WorkshopsDomain', 'AwardsNLPkey', 'ExternalCertificatesKey',\n",
       "       'ExternalCertificatesDomain', 'Name', '10thPercentage',\n",
       "       '12thPercentage', 'NoofProjects', 'ProjectDetail', 'GitHubLink',\n",
       "       'LinkedInLink', 'GeneralSkills', 'PublicationDetails',\n",
       "       'NoofInternships', 'InternshipDetail', 'ExternalCertificates',\n",
       "       'ProgLanguages', 'SoftwareTools', 'MinorAttended', 'Scholarships',\n",
       "       'Awards', 'EventsParticipated', 'Workshops', 'VolunteeringWork',\n",
       "       'Languages', 'CoCurricularActivities', 'OtherDetails'],\n",
       "      dtype='object')"
      ]
     },
     "execution_count": 167,
     "metadata": {},
     "output_type": "execute_result"
    }
   ],
   "source": [
    "combined_master.columns"
   ]
  },
  {
   "cell_type": "code",
   "execution_count": 168,
   "metadata": {},
   "outputs": [],
   "source": [
    "combined_master.to_csv(r'MasterDataset.csv', index = False)"
   ]
  },
  {
   "cell_type": "code",
   "execution_count": null,
   "metadata": {},
   "outputs": [],
   "source": []
  }
 ],
 "metadata": {
  "kernelspec": {
   "display_name": "Python 3",
   "language": "python",
   "name": "python3"
  },
  "language_info": {
   "codemirror_mode": {
    "name": "ipython",
    "version": 3
   },
   "file_extension": ".py",
   "mimetype": "text/x-python",
   "name": "python",
   "nbconvert_exporter": "python",
   "pygments_lexer": "ipython3",
   "version": "3.7.0"
  }
 },
 "nbformat": 4,
 "nbformat_minor": 2
}
