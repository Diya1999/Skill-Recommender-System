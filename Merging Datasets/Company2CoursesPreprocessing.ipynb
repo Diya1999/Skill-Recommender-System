{
 "cells": [
  {
   "cell_type": "code",
   "execution_count": 1,
   "metadata": {},
   "outputs": [],
   "source": [
    "import numpy as np\n",
    "import pandas as pd\n",
    "import re\n",
    "import ast\n",
    "import matplotlib.pyplot as plt\n",
    "#!pip install wordcloud\n"
   ]
  },
  {
   "cell_type": "code",
   "execution_count": 24,
   "metadata": {},
   "outputs": [],
   "source": [
    "path = input('Enter path to master dataset')"
   ]
  },
  {
   "cell_type": "code",
   "execution_count": 23,
   "metadata": {},
   "outputs": [],
   "source": [
    "df = pd.read_csv (path) "
   ]
  },
  {
   "cell_type": "code",
   "execution_count": 21,
   "metadata": {},
   "outputs": [
    {
     "data": {
      "text/plain": [
       "Index(['Unnamed: 0', 'Unnamed: 0.1', 'USN', '10thPercentage', '10thMarks',\n",
       "       '12thPercentage', 'Branch', 'CGPA', 'CourseName', 'CourseGrade',\n",
       "       'CompanyName_New', 'CTC', 'TierLevel', 'CoCurricularActivities',\n",
       "       'EmploymentType', 'EventsParticipated', 'GeneralSkills', 'Languages',\n",
       "       'MinorAttended', 'NoofInternships', 'InternshipProjectDomain',\n",
       "       'InternshipCompany', 'NoofProjects', 'ProjectDetailDomain',\n",
       "       'ProgLanguages', 'Publication', 'ResearchDomain', 'ScholarshipsKey',\n",
       "       'SoftwareTools', 'VolunteeringWork', 'WorkshopsOrg', 'WorkshopsDomain',\n",
       "       'AwardsNLPkey', 'ExternalCertificatesKey',\n",
       "       'ExternalCertificatesDomain'],\n",
       "      dtype='object')"
      ]
     },
     "execution_count": 21,
     "metadata": {},
     "output_type": "execute_result"
    }
   ],
   "source": [
    "df.columns"
   ]
  },
  {
   "cell_type": "code",
   "execution_count": 4,
   "metadata": {},
   "outputs": [],
   "source": [
    "df_courses = df[['CompanyName_New','CourseName','CourseGrade']]"
   ]
  },
  {
   "cell_type": "code",
   "execution_count": 5,
   "metadata": {},
   "outputs": [
    {
     "data": {
      "text/plain": [
       "False    180\n",
       "True      13\n",
       "Name: CompanyName_New, dtype: int64"
      ]
     },
     "execution_count": 5,
     "metadata": {},
     "output_type": "execute_result"
    }
   ],
   "source": [
    "df_courses.CompanyName_New.isnull().value_counts()"
   ]
  },
  {
   "cell_type": "code",
   "execution_count": 6,
   "metadata": {},
   "outputs": [],
   "source": [
    "df_courses = df_courses[df_courses['CompanyName_New'].notna()]"
   ]
  },
  {
   "cell_type": "code",
   "execution_count": 7,
   "metadata": {},
   "outputs": [],
   "source": [
    "#---------------------------------------------regularizing subjects -----------------------------------------------------------\n",
    "# done'unified_engineering','unified_engineering_(jedi)',\n",
    "# done'engineering_mechanics','engineering_mechanics-dynamics',\n",
    "# done 'introduction_to_data_science','introduction_to_data_sciences',\n",
    "# done  __ to _\n",
    "# done system -> systems\n",
    "# done enginering -> engineering\n",
    "# done dbms -> data_base_management_systems\n",
    "# done -  to -\n",
    "# done & to and\n",
    "# done metal_casting_and_welding', 'metal_casting_and_welding_processes',\n",
    "# done 'power_electronics', 'power_electronics_and_its_applications_to_converters',\n",
    "# done 'web_technologies-i','web_technologies-ii', 'web_technologies_i', 'web_technologies_ii', 'web_technology-_i',\n",
    "# 'wireless_communication','wireless_network_communications'\n",
    "# done processors to processor \n",
    "def regularize_courses(l):\n",
    "    for i in range(0,len(l)):\n",
    "        l[i] = l[i].replace('-',' ')\n",
    "        #l[i] = re.sub(' *- *', '-', l[i])\n",
    "        l[i] = re.sub(' +',' ',l[i])\n",
    "        l[i] = l[i].replace('&','and').replace('systems','system').replace('sciences','science').replace('processors','processor').replace('technology','technologies').replace('enginering','engineering').replace('1','i').replace('2','ii')\n",
    "        l[i]= l[i].strip().replace(' ','_')\n",
    "        if(l[i].count('laboratory')>0):\n",
    "            l[i] = l[i].replace('laboratory','').strip('_')\n",
    "        if(l[i]=='unified_engineering_(jedi)'):\n",
    "            l[i]= 'unified_engineering'\n",
    "        if(l[i]=='wireless_communication'):\n",
    "            l[i]= 'wireless_network_communications'\n",
    "        if(l[i] == 'engineering_mechanics_dynamics'):\n",
    "            l[i] = 'engineering_mechanics'\n",
    "        if(l[i].count('dbms')>0):\n",
    "            l[i] = l[i].replace('dbms','data_base_management_systems')\n",
    "        if(l[i].count('metal_casting_and_welding')>0):\n",
    "            l[i] = 'metal_casting_and_welding'\n",
    "        if(l[i].count('power_electronics')>0):\n",
    "            l[i] = 'power_electronics'\n",
    "        if(l[i].count('mini_project')>0):\n",
    "            l[i] = 'mini_project'\n",
    "        if(l[i].count('vlsi')>0):\n",
    "            l[i] = 'vlsi'\n",
    "        if(l[i].count('project_work')>0):\n",
    "            l[i] = 'project_work'\n",
    "    l_unique = list(np.unique(np.array(l)))\n",
    "    l = '##'.join(l_unique)\n",
    "    return l\n",
    "        "
   ]
  },
  {
   "cell_type": "code",
   "execution_count": 8,
   "metadata": {},
   "outputs": [],
   "source": [
    "df_courses['CourseName_New'] = df.apply(lambda row : regularize_courses( list(ast.literal_eval(row['CourseName']))), axis = 1) "
   ]
  },
  {
   "cell_type": "code",
   "execution_count": 9,
   "metadata": {},
   "outputs": [
    {
     "name": "stdout",
     "output_type": "stream",
     "text": [
      "201\n"
     ]
    },
    {
     "data": {
      "text/plain": [
       "['adaptive_system',\n",
       " 'advanced_algorithms',\n",
       " 'advanced_computer_networks',\n",
       " 'advanced_data_base_management_system',\n",
       " 'advanced_digital_image_processing',\n",
       " 'advanced_machine_learning',\n",
       " 'advanced_problem_solving_skills_for_software_engineers',\n",
       " 'aerospace_structures',\n",
       " 'algorithms_for_information_retrieval',\n",
       " 'analog_circuit_design',\n",
       " 'analog_electronic_circuits',\n",
       " 'android_application_development',\n",
       " 'applied_cryptography',\n",
       " 'artificial_intelligence',\n",
       " 'artificial_neural_networks',\n",
       " 'basic_electrical_engineering',\n",
       " 'basic_electronics_engineering',\n",
       " 'basic_of_web_development',\n",
       " 'basics_of_aerospace_engineering',\n",
       " 'basics_of_automobile_engineering',\n",
       " 'big_data',\n",
       " 'blockchain',\n",
       " 'blockchain_architecture_design_and_use_cases',\n",
       " 'c++',\n",
       " 'chemistry',\n",
       " 'cie_level_i',\n",
       " 'cie_level_ii',\n",
       " 'classical_cryptoanalysis',\n",
       " 'cloud_computing',\n",
       " 'communication_engineering',\n",
       " 'compiler_design',\n",
       " 'computer_aided_engineering_graphics',\n",
       " 'computer_forensics',\n",
       " 'computer_network_security',\n",
       " 'computer_networks',\n",
       " 'computer_organization',\n",
       " 'computing_techniques_in_mechanical_engineering',\n",
       " 'constitution_of_india_and_professional_ethics',\n",
       " 'control_system',\n",
       " 'data_analytics',\n",
       " 'data_base_management_system',\n",
       " 'data_base_management_systems',\n",
       " 'data_structures',\n",
       " 'database_technologies',\n",
       " 'deep_learning_for_speech_and_natural_language_processing',\n",
       " 'design_and_analysis_of_algorithms',\n",
       " 'design_of_machine_elements_i',\n",
       " 'design_of_machine_elements_ii',\n",
       " 'design_pattern',\n",
       " 'designing_iot_solutions',\n",
       " 'digital_circuit_design',\n",
       " 'digital_communication',\n",
       " 'digital_design_and_computer_organization',\n",
       " 'digital_design_using_simulink',\n",
       " 'digital_design_using_simulink_ii',\n",
       " 'digital_design_using_verilog_and_verification',\n",
       " 'digital_electronics',\n",
       " 'digital_image_processing',\n",
       " 'digital_signal_processing',\n",
       " 'digital_switching_and_logic_design',\n",
       " 'discrete_mathematics_and_logic',\n",
       " 'distributed_generation_and_micro_grid_system',\n",
       " 'dsd_using_vhdl',\n",
       " 'dynamics_and_design',\n",
       " 'electric_circuit_theory',\n",
       " 'electrical_machines_i',\n",
       " 'electrical_machines_ii',\n",
       " 'electromagnetic_field_and_transmission_lines',\n",
       " 'electromagnetic_theory',\n",
       " 'embedded_c_and_design',\n",
       " 'embedded_programming_with_arduino',\n",
       " 'embedded_system',\n",
       " 'embedded_system_design',\n",
       " 'engineering_chemistry',\n",
       " 'engineering_mathematics_i',\n",
       " 'engineering_mathematics_ii',\n",
       " 'engineering_mathematics_iii',\n",
       " 'engineering_mechanics',\n",
       " 'engineering_physics',\n",
       " 'engineering_thermodynamics',\n",
       " 'enterprise_resource_planning',\n",
       " 'environmental_studies',\n",
       " 'fine_techniques',\n",
       " 'finite_element_modelling',\n",
       " 'fluid_mechanics_and_machines',\n",
       " 'fuzzy_logic',\n",
       " 'generation_transmission_and_distribution',\n",
       " 'generic_programming',\n",
       " 'hands_on_course_on_automation_using_electronic_components',\n",
       " 'hands_on_course_on_digital_system_simulation_and_synthesis',\n",
       " 'hands_on_unix',\n",
       " 'heat_transfer',\n",
       " 'heterogeneous_parallelism',\n",
       " 'hvdc_transmission',\n",
       " 'implementation_of_cryptography_algorithms',\n",
       " 'information_security',\n",
       " 'intermediate_entrepreneurship',\n",
       " 'internet_of_things_(iot)_product_design_and_development',\n",
       " 'internship',\n",
       " 'introduction_to_block_chain_and_its_applications',\n",
       " 'introduction_to_computing_using_python',\n",
       " 'introduction_to_cryptography',\n",
       " 'introduction_to_data_science',\n",
       " 'introduction_to_entrepreneurship_level_i',\n",
       " 'introduction_to_gas_dynamics',\n",
       " 'introduction_to_matlab_and_simulink',\n",
       " 'introduction_to_operating_system',\n",
       " 'introduction_to_software_testing',\n",
       " 'knowledge_management',\n",
       " 'linear_algebra_and_its_applications',\n",
       " 'linear_integrated_circuits',\n",
       " 'linear_system',\n",
       " 'linux_for_electronics',\n",
       " 'machine_drawing',\n",
       " 'machine_learning',\n",
       " 'machine_shop_practice',\n",
       " 'material_science_and_metallurgy',\n",
       " 'material_testing',\n",
       " 'mathematical_optimization_with_applications_in_machine_learning',\n",
       " 'matlab_for_image_processing',\n",
       " 'measurement_science_and_metrology',\n",
       " 'mechanical_engineering_science',\n",
       " 'mechanics_of_fluids',\n",
       " 'mechanics_of_machines_and_mechanisms',\n",
       " 'mechanics_of_solids',\n",
       " 'memory_design_and_testing',\n",
       " 'metal_casting_and_welding',\n",
       " 'metal_cutting_and_machining_processes',\n",
       " 'metal_forming_processes',\n",
       " 'microcontrollers',\n",
       " 'microprocessor_and_computer_architecture',\n",
       " 'microwave_engineering',\n",
       " 'mini_project',\n",
       " 'multimedia_computing',\n",
       " 'natural_language_processing',\n",
       " 'network_analysis_and_synthesis',\n",
       " 'nokia_iot',\n",
       " 'object_oriented_modeling_and_design',\n",
       " 'object_oriented_programming_with_java',\n",
       " 'operations_research',\n",
       " 'optimization_and_its_applications',\n",
       " 'parallel_computing',\n",
       " 'pattern_classification',\n",
       " 'performance_engineering',\n",
       " 'physics',\n",
       " 'power_electronics',\n",
       " 'power_system_analysis_and_stability',\n",
       " 'practical_approach_to_deep_learning_using_hardware_accelerator_and_software_framework',\n",
       " 'principles_of_energy_conversion',\n",
       " 'principles_of_flight',\n",
       " 'principles_of_macro_economics',\n",
       " 'principles_of_programming_languages',\n",
       " 'probability_models_for_computer_science',\n",
       " 'probability_models_with_matlab',\n",
       " 'problem_solving_skills_for_software_engineers_i',\n",
       " 'problem_solving_with_c',\n",
       " 'professional_skills_for_software_engineers_i',\n",
       " 'professional_skills_for_sofware_engineers',\n",
       " 'programming_with_c++',\n",
       " 'programming_with_java',\n",
       " 'project_work',\n",
       " 'python_application_programming',\n",
       " 'r_programming',\n",
       " 'real_time_embedded_system',\n",
       " 'real_time_operating_system',\n",
       " 'reconfigurable_computing',\n",
       " 'renewable_energy_sources',\n",
       " 'research_credits',\n",
       " 'research_methodology',\n",
       " 'schematics_and_circuit_board_design_training',\n",
       " 'secured_programming_with_c',\n",
       " 'select_topics_in_data_science',\n",
       " 'serious_python',\n",
       " 'signals_and_system',\n",
       " 'smart_materials',\n",
       " 'smart_power_system',\n",
       " 'social_network_analytics',\n",
       " 'soft_computing_techniques',\n",
       " 'software_engineering',\n",
       " 'storage_area_networks',\n",
       " 'system_modeling_and_simulation',\n",
       " 'system_on_chip_architecture',\n",
       " 'technologies_for_social_good',\n",
       " 'telling_stories_with_data',\n",
       " 'term_paper',\n",
       " 'theory_of_computation',\n",
       " 'thermodynamics_and_ic_engines',\n",
       " 'topics_in_deep_learning',\n",
       " 'transducer_and_sensor',\n",
       " 'unified_engineering',\n",
       " 'unix_in_depth',\n",
       " 'unix_shell_programming',\n",
       " 'unix_system_programming',\n",
       " 'utilization_of_electrical_power',\n",
       " 'verilog',\n",
       " 'video_engineering',\n",
       " 'vlsi',\n",
       " 'web_frameworks',\n",
       " 'web_technologies_i',\n",
       " 'web_technologies_ii',\n",
       " 'wireless_network_communications']"
      ]
     },
     "execution_count": 9,
     "metadata": {},
     "output_type": "execute_result"
    }
   ],
   "source": [
    "#getting distinct list of all courses, after cleaning\n",
    "course = df_courses.CourseName_New.apply(lambda x: pd.value_counts(x.split(\"##\"))).sum(axis = 0).to_frame()\n",
    "course_all = course.index.values.tolist()\n",
    "#print(len(sorted(course_all)))\n",
    "#sorted(course_all)"
   ]
  },
  {
   "cell_type": "code",
   "execution_count": 10,
   "metadata": {},
   "outputs": [],
   "source": [
    "# removing courses that appear in more than 75% of the data, since they will mostly be core courses\n",
    "course = df_courses.CourseName_New.apply(lambda x: pd.value_counts(x.split(\"##\"))).sum(axis = 0).lt(0.75*df_courses.shape[0]).to_frame()\n",
    "course_distinct = course[course[0] == True]\n",
    "course_distinct = course_distinct.index.values.tolist()\n",
    "#print(len(course_distinct), course_distinct)"
   ]
  },
  {
   "cell_type": "code",
   "execution_count": 11,
   "metadata": {},
   "outputs": [],
   "source": [
    "# function to find occurence of specific courses and creating new column for each unqiue course. Fill with 1/0 based on if course was taken or not\n",
    "def keyword_matching_course(keywords,df):\n",
    "    df = df.join(pd.DataFrame(0, columns=keywords, index=df.index))\n",
    "    df['CourseNameKey'] = ''\n",
    "    print(df.shape)\n",
    "    for key in keywords:\n",
    "        #print(key)\n",
    "        for i in range(0, len(df)):\n",
    "            if(df.iloc[i]['CourseName_New'].find(key)!=-1):\n",
    "                df.iloc[i, df.columns.get_loc('CourseNameKey')] =df.iloc[i, df.columns.get_loc('CourseNameKey')]+ key+'##'\n",
    "                df.iloc[i, df.columns.get_loc(key)] = 1\n",
    "    return df"
   ]
  },
  {
   "cell_type": "code",
   "execution_count": 12,
   "metadata": {},
   "outputs": [
    {
     "name": "stdout",
     "output_type": "stream",
     "text": [
      "(180, 174)\n"
     ]
    }
   ],
   "source": [
    "df_courses = keyword_matching_course(course_distinct,df_courses)"
   ]
  },
  {
   "cell_type": "code",
   "execution_count": 13,
   "metadata": {},
   "outputs": [],
   "source": [
    "# getting total number of entries per company, and total sum of each course for each company\n",
    "dfCourseCount = df_courses.groupby(['CompanyName_New'])[course_distinct].apply(lambda x : x.astype(int).sum())\n",
    "dfCompanyCount = df_courses.groupby(['CompanyName_New'])['CourseName'].count().to_frame().rename(columns = {'CourseName': 'Total'}, inplace = False)"
   ]
  },
  {
   "cell_type": "code",
   "execution_count": 14,
   "metadata": {},
   "outputs": [],
   "source": [
    "result = pd.concat([dfCompanyCount, dfCourseCount], axis=1)"
   ]
  },
  {
   "cell_type": "code",
   "execution_count": 15,
   "metadata": {},
   "outputs": [],
   "source": [
    "# getting a rating by calculating, total number of students placed at a specific company who took that course/ total number of students placed at that company\n",
    "result = result[course_distinct].div(result.Total, axis=0)\n",
    "#result = result.reset_index(level=['CompanyName_New'])"
   ]
  },
  {
   "cell_type": "code",
   "execution_count": 16,
   "metadata": {},
   "outputs": [],
   "source": [
    "originalRatingsData = result.stack().reset_index().rename(columns={'level_0':'CompanyName','level_1':'CourseName', 0:'Rating'})"
   ]
  },
  {
   "cell_type": "code",
   "execution_count": null,
   "metadata": {},
   "outputs": [],
   "source": []
  }
 ],
 "metadata": {
  "kernelspec": {
   "display_name": "Python 3",
   "language": "python",
   "name": "python3"
  },
  "language_info": {
   "codemirror_mode": {
    "name": "ipython",
    "version": 3
   },
   "file_extension": ".py",
   "mimetype": "text/x-python",
   "name": "python",
   "nbconvert_exporter": "python",
   "pygments_lexer": "ipython3",
   "version": "3.7.3"
  }
 },
 "nbformat": 4,
 "nbformat_minor": 2
}
